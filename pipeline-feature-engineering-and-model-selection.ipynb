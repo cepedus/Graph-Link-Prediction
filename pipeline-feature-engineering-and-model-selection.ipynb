{
 "cells": [
  {
   "cell_type": "markdown",
   "metadata": {},
   "source": [
    "# THIS PART WAS USE TEST THE CLASSIFIERS AND BUILD THE FEATURES"
   ]
  },
  {
   "cell_type": "markdown",
   "metadata": {},
   "source": [
    "# A. Start"
   ]
  },
  {
   "cell_type": "markdown",
   "metadata": {},
   "source": [
    "## A.1. Different imports"
   ]
  },
  {
   "cell_type": "code",
   "execution_count": 1,
   "metadata": {},
   "outputs": [],
   "source": [
    "import glob\n",
    "import os\n",
    "import io\n",
    "\n",
    "import networkx as nx\n",
    "import csv\n",
    "import numpy as np\n",
    "import matplotlib.pyplot as plt\n",
    "from tqdm import tqdm\n",
    "\n",
    "import tensorflow as tf\n",
    "import tensorflow.keras.backend as K\n",
    "from tensorflow.keras.layers import Lambda\n",
    "\n",
    "from sklearn.model_selection import train_test_split\n",
    "from sklearn.pipeline import Pipeline\n",
    "from sklearn.preprocessing import StandardScaler, MinMaxScaler\n",
    "from sklearn.metrics import average_precision_score, f1_score\n",
    "\n",
    "\n",
    "# For embeddings (graph/text)\n",
    "from node2vec.node2vec import Node2Vec\n",
    "import gensim\n",
    "import spacy\n",
    "from scipy.spatial.distance import cosine\n",
    "import scipy"
   ]
  },
  {
   "cell_type": "markdown",
   "metadata": {},
   "source": [
    "## A.2. Data paths and filenames"
   ]
  },
  {
   "cell_type": "code",
   "execution_count": 48,
   "metadata": {},
   "outputs": [],
   "source": [
    "train_file = './data/training.txt'\n",
    "texts_path_abs = './data/node_information/text'\n",
    "test_file = './data/testing.txt'\n",
    "out_file = 'out.csv'\n",
    "#tobetranslated_file='tobetranslated.txt'\n",
    "#translated_file='translated.txt'\n",
    "\n",
    "file_umap='umap_with_nc_equal'\n",
    "file_node_vecs = 'node2vec.model'\n",
    "file_text_vecs = 'word2vec_300.kv'\n",
    "file_language='languages.txt'"
   ]
  },
  {
   "cell_type": "markdown",
   "metadata": {},
   "source": [
    "## A.3. Parameters"
   ]
  },
  {
   "cell_type": "code",
   "execution_count": 13,
   "metadata": {},
   "outputs": [],
   "source": [
    "# Graph model\n",
    "directed = False\n",
    "\n",
    "# Overwrite existing embeddings (if True computes all embeddings again during ~20h)\n",
    "overwrite_nodes = True\n",
    "overwrite_text = True\n",
    "overwrite_umap = True\n",
    "language_overwrite=True\n",
    "overwrite_translation=True\n",
    "\n",
    "\n",
    "language_load = False\n",
    "load_nodes = False\n",
    "load_text = False\n",
    "load_umap = False\n",
    "load_translated_version=False\n",
    "\n",
    "#Umap embedding\n",
    "nc=3\n",
    "\n",
    "# node2vec embeddings\n",
    "dimensions = 128\n",
    "walk_length = 100\n",
    "num_walks = 50\n",
    "workers = 3\n",
    "\n",
    "# database for classification training\n",
    "prop_split = 0.10\n",
    "random_state = 42"
   ]
  },
  {
   "cell_type": "markdown",
   "metadata": {},
   "source": [
    "## A.4. Build Graph"
   ]
  },
  {
   "cell_type": "code",
   "execution_count": 4,
   "metadata": {},
   "outputs": [
    {
     "name": "stderr",
     "output_type": "stream",
     "text": [
      "453797it [00:03, 141347.72it/s]\n"
     ]
    }
   ],
   "source": [
    "toy = False # Set to true for debug, faster run\n",
    "it_toy_limit = 1000\n",
    "it = 0\n",
    "# First read and create the graph using the training dataset\n",
    "G = nx.Graph()\n",
    "DG = nx.DiGraph()\n",
    "with open(\"training.txt\", \"r\") as f:\n",
    "    for line in tqdm(f):\n",
    "        line = line.split()\n",
    "        if line[2] == \"1\":\n",
    "            G.add_edge(line[0], line[1])\n",
    "            DG.add_edge(line[0], line[1])\n",
    "            it += 1\n",
    "            if toy and it >= it_toy_limit:\n",
    "                break\n",
    "        if line[2] == \"0\":\n",
    "            G.add_node(line[0])\n",
    "            G.add_node(line[1])\n",
    "            DG.add_node(line[0])\n",
    "            DG.add_node(line[1])"
   ]
  },
  {
   "cell_type": "code",
   "execution_count": 5,
   "metadata": {},
   "outputs": [],
   "source": [
    "def info(graph):\n",
    "    \"\"\"\n",
    "    Prints some basic statistics of a graph\n",
    "    \"\"\"\n",
    "    print('Type:', 'Directed' if isinstance(graph, nx.DiGraph) else 'Undirected')\n",
    "    n = graph.number_of_nodes()\n",
    "    e = graph.number_of_edges()\n",
    "    print('Nodes:', n)\n",
    "    print('Edges:', e)\n",
    "    if not isinstance(graph, nx.DiGraph):\n",
    "        print('Connected components:', nx.algorithms.components.number_connected_components(graph))\n",
    "    degrees = graph.degree()\n",
    "    sum_of_edges = sum([d[1] for d in degrees])\n",
    "    print('Mean degree:', sum_of_edges // n)"
   ]
  },
  {
   "cell_type": "code",
   "execution_count": 6,
   "metadata": {},
   "outputs": [
    {
     "name": "stdout",
     "output_type": "stream",
     "text": [
      "Type: Undirected\n",
      "Nodes: 33226\n",
      "Edges: 283623\n",
      "Connected components: 67\n",
      "Mean degree: 17\n"
     ]
    }
   ],
   "source": [
    "info(G)"
   ]
  },
  {
   "cell_type": "code",
   "execution_count": 7,
   "metadata": {},
   "outputs": [
    {
     "name": "stdout",
     "output_type": "stream",
     "text": [
      "Type: Directed\n",
      "Nodes: 33226\n",
      "Edges: 283623\n",
      "Mean degree: 17\n"
     ]
    }
   ],
   "source": [
    "info(DG)"
   ]
  },
  {
   "cell_type": "markdown",
   "metadata": {},
   "source": [
    "# B. BUILD (AND SAVE) MORE COMPLICATED FEATURES FOR THE NODES"
   ]
  },
  {
   "cell_type": "markdown",
   "metadata": {},
   "source": [
    "## B.1. Create vector X (Node 1 - Node 2) and y (Linked ?) on training.txt"
   ]
  },
  {
   "cell_type": "code",
   "execution_count": 8,
   "metadata": {},
   "outputs": [
    {
     "name": "stderr",
     "output_type": "stream",
     "text": [
      "453797it [00:02, 191400.62it/s]\n"
     ]
    }
   ],
   "source": [
    "X = []\n",
    "y = []\n",
    "add_sym = True # Set to true if you want to had symetrical data non present in G\n",
    "add_sym2= False # If True, the results are poorer\n",
    "\n",
    "it = 0\n",
    "with open(\"training.txt\", \"r\") as f:\n",
    "    for line in tqdm(f):\n",
    "        line = line.split()\n",
    "        n1, n2 = line[0], line[1]\n",
    "        X.append([n1,n2])\n",
    "\n",
    "        if line[2] == \"1\":\n",
    "            y.append(1.0)\n",
    "        \n",
    "            it += 1\n",
    "            if toy and it >= it_toy_limit:\n",
    "                break\n",
    "                \n",
    "            if add_sym2 and not(DG.has_edge(n2,n1)):\n",
    "                X.append([n2,n1])\n",
    "                y.append(0.0)\n",
    "            \n",
    "        else:\n",
    "            y.append(0.0)\n",
    "                  \n",
    "        if add_sym and not(G.has_edge(n2, n1)):\n",
    "            X.append([n2,n1])\n",
    "            y.append(0.0)\n",
    "                          \n",
    "X = np.array(X)\n",
    "y = np.array(y)\n",
    "y = np.expand_dims(y, axis=1)"
   ]
  },
  {
   "cell_type": "code",
   "execution_count": 9,
   "metadata": {},
   "outputs": [
    {
     "name": "stdout",
     "output_type": "stream",
     "text": [
      "shape X:  (623940, 2)\n",
      "shape y:  (623940, 1)\n"
     ]
    }
   ],
   "source": [
    "print(\"shape X: \", np.shape(X))\n",
    "print(\"shape y: \", np.shape(y))"
   ]
  },
  {
   "cell_type": "markdown",
   "metadata": {},
   "source": [
    "## B.2. Build Eigenmap on the Normalized Laplacian Matrix\n",
    "DO NOT EXECUTE B.2: IT DOES NOT WORK IS NOT NOT NEEDED"
   ]
  },
  {
   "cell_type": "code",
   "execution_count": 10,
   "metadata": {},
   "outputs": [],
   "source": [
    "#LN=nx.normalized_laplacian_matrix(G)\n",
    "#L=nx.directed_laplacian_matrix(DG) Ne marche pas : je n'ai pas la puissance nécessaire"
   ]
  },
  {
   "cell_type": "code",
   "execution_count": 11,
   "metadata": {},
   "outputs": [],
   "source": [
    "#w,v=scipy.sparse.linalg.eigs(LN)"
   ]
  },
  {
   "cell_type": "code",
   "execution_count": 12,
   "metadata": {},
   "outputs": [
    {
     "data": {
      "image/png": "[encoded data removed]",
      "text/plain": [
       "<Figure size 432x288 with 1 Axes>"
      ]
     },
     "metadata": {
      "needs_background": "light"
     },
     "output_type": "display_data"
    }
   ],
   "source": [
    "Node_normlap=v.real @ np.diag((w.real)**0.5)\n",
    "plt.scatter(Node_normlap[:, 3], Node_normlap[:, 5])\n",
    "plt.show()"
   ]
  },
  {
   "cell_type": "code",
   "execution_count": 13,
   "metadata": {},
   "outputs": [
    {
     "data": {
      "image/png": "[encoded data removed]",
      "text/plain": [
       "<Figure size 432x288 with 1 Axes>"
      ]
     },
     "metadata": {
      "needs_background": "light"
     },
     "output_type": "display_data"
    }
   ],
   "source": [
    "from mpl_toolkits.mplot3d import Axes3D\n",
    "\n",
    "fig = plt.figure()\n",
    "xs = Node_normlap[:, 1]\n",
    "ys = Node_normlap[:, 2]\n",
    "zs = Node_normlap[:, 3]\n",
    "ax = ax = Axes3D(fig)\n",
    "ax.scatter(xs, ys, zs)\n",
    "plt.show()"
   ]
  },
  {
   "cell_type": "markdown",
   "metadata": {},
   "source": [
    "This feature from the normalized laplacian matrix doesn't give good results : there are too many big eigenvalues and we can not do a proper approximation of the matrix only with a few dimensions that way. Hence, the results are not stored."
   ]
  },
  {
   "cell_type": "markdown",
   "metadata": {},
   "source": [
    "## B.3. Build UMAP on the Adjency matrix and save it"
   ]
  },
  {
   "cell_type": "code",
   "execution_count": 11,
   "metadata": {},
   "outputs": [
    {
     "name": "stdout",
     "output_type": "stream",
     "text": [
      "shape Adjacency matrix A:  (33226, 33226)\n"
     ]
    }
   ],
   "source": [
    "A = nx.adjacency_matrix(G)\n",
    "print(\"shape Adjacency matrix A: \", np.shape(A))\n",
    "nid_to_index = {nid:i for i, nid in enumerate(G.nodes)}"
   ]
  },
  {
   "cell_type": "code",
   "execution_count": 14,
   "metadata": {},
   "outputs": [
    {
     "name": "stdout",
     "output_type": "stream",
     "text": [
      "UMAP(a=None, angular_rp_forest=False, b=None, init='spectral',\n",
      "     learning_rate=1.0, local_connectivity=1.0, metric='euclidean',\n",
      "     metric_kwds=None, min_dist=0.1, n_components=3, n_epochs=None,\n",
      "     n_neighbors=15, negative_sample_rate=5, random_state=42,\n",
      "     repulsion_strength=1.0, set_op_mix_ratio=1.0, spread=1.0,\n",
      "     target_metric='categorical', target_metric_kwds=None,\n",
      "     target_n_neighbors=-1, target_weight=0.5, transform_queue_size=4.0,\n",
      "     transform_seed=42, verbose=True)\n",
      "Construct fuzzy simplicial set\n",
      "Mon Dec 30 15:14:24 2019 Finding Nearest Neighbors\n",
      "Mon Dec 30 15:14:24 2019 Building RP forest with 14 trees\n",
      "Mon Dec 30 15:15:39 2019 NN descent for 15 iterations\n"
     ]
    },
    {
     "name": "stderr",
     "output_type": "stream",
     "text": [
      "C:\\Users\\cedri\\Anaconda3\\lib\\site-packages\\umap\\sparse.py:247: NumbaPerformanceWarning: \n",
      "The keyword argument 'parallel=True' was specified but no transformation for parallel execution was possible.\n",
      "\n",
      "To find out why, try turning on parallel diagnostics, see http://numba.pydata.org/numba-doc/latest/user/parallel.html#diagnostics for help.\n",
      "\n",
      "File \"Anaconda3\\lib\\site-packages\\umap\\utils.py\", line 409:\n",
      "@numba.njit(parallel=True)\n",
      "def build_candidates(current_graph, n_vertices, n_neighbors, max_candidates, rng_state):\n",
      "^\n",
      "\n",
      "  current_graph, n_vertices, n_neighbors, max_candidates, rng_state\n",
      "C:\\Users\\cedri\\Anaconda3\\lib\\site-packages\\numba\\compiler.py:588: NumbaPerformanceWarning: \n",
      "The keyword argument 'parallel=True' was specified but no transformation for parallel execution was possible.\n",
      "\n",
      "To find out why, try turning on parallel diagnostics, see http://numba.pydata.org/numba-doc/latest/user/parallel.html#diagnostics for help.\n",
      "\n",
      "File \"Anaconda3\\lib\\site-packages\\umap\\sparse.py\", line 176:\n",
      "    @numba.njit(parallel=True)\n",
      "    def nn_descent(\n",
      "    ^\n",
      "\n",
      "  self.func_ir.loc))\n"
     ]
    },
    {
     "name": "stdout",
     "output_type": "stream",
     "text": [
      "\t 0  /  15\n",
      "\t 1  /  15\n",
      "\t 2  /  15\n",
      "\t 3  /  15\n",
      "\t 4  /  15\n",
      "\t 5  /  15\n",
      "\t 6  /  15\n",
      "Mon Dec 30 15:16:56 2019 Finished Nearest Neighbor Search\n",
      "Mon Dec 30 15:16:59 2019 Construct embedding\n"
     ]
    },
    {
     "name": "stderr",
     "output_type": "stream",
     "text": [
      "C:\\Users\\cedri\\Anaconda3\\lib\\site-packages\\umap\\spectral.py:229: UserWarning: Embedding a total of 6 separate connected components using meta-embedding (experimental)\n",
      "  n_components\n"
     ]
    },
    {
     "name": "stdout",
     "output_type": "stream",
     "text": [
      "\tcompleted  0  /  200 epochs\n",
      "\tcompleted  20  /  200 epochs\n",
      "\tcompleted  40  /  200 epochs\n",
      "\tcompleted  60  /  200 epochs\n",
      "\tcompleted  80  /  200 epochs\n",
      "\tcompleted  100  /  200 epochs\n",
      "\tcompleted  120  /  200 epochs\n",
      "\tcompleted  140  /  200 epochs\n",
      "\tcompleted  160  /  200 epochs\n",
      "\tcompleted  180  /  200 epochs\n",
      "Mon Dec 30 15:18:28 2019 Finished embedding\n"
     ]
    }
   ],
   "source": [
    "if overwrite_umap:\n",
    "    import umap\n",
    "    reducer = umap.UMAP(verbose=True,random_state=random_state,n_components=nc)\n",
    "    Node_umap = reducer.fit_transform(A)\n",
    "else:\n",
    "    print('Change overwrite_umap to True to compute and save Umap embedding') "
   ]
  },
  {
   "cell_type": "code",
   "execution_count": 15,
   "metadata": {},
   "outputs": [
    {
     "name": "stdout",
     "output_type": "stream",
     "text": [
      "(33226, 3)\n"
     ]
    }
   ],
   "source": [
    "if overwrite_umap:\n",
    "    print(np.shape(Node_umap))\n",
    "else:\n",
    "    print('Change overwrite_umap to True to compute and save Umap embedding') "
   ]
  },
  {
   "cell_type": "code",
   "execution_count": 16,
   "metadata": {},
   "outputs": [
    {
     "data": {
      "image/png": "[encoded data removed]",
      "text/plain": [
       "<Figure size 432x288 with 2 Axes>"
      ]
     },
     "metadata": {
      "needs_background": "light"
     },
     "output_type": "display_data"
    },
    {
     "data": {
      "image/png": "[encoded data removed]",
      "text/plain": [
       "<Figure size 432x288 with 2 Axes>"
      ]
     },
     "metadata": {
      "needs_background": "light"
     },
     "output_type": "display_data"
    },
    {
     "data": {
      "image/png": "[encoded data removed]",
      "text/plain": [
       "<Figure size 432x288 with 2 Axes>"
      ]
     },
     "metadata": {
      "needs_background": "light"
     },
     "output_type": "display_data"
    }
   ],
   "source": [
    "if overwrite_umap:\n",
    "    N = G.number_of_nodes()\n",
    "    max_degree = max([d[1] for d in G.degree()])\n",
    "    c = [np.log(d[1])/np.log(max_degree) if d[1] > 0 else 0 for d in G.degree()]\n",
    "    cmap = plt.get_cmap('cool')\n",
    "    plt.scatter(Node_umap[:, 0], Node_umap[:, 1], c=c, cmap=cmap)\n",
    "    plt.colorbar()\n",
    "    plt.show()\n",
    "\n",
    "    plt.scatter(Node_umap[:, 1], Node_umap[:, 2], c=c, cmap=cmap)\n",
    "    plt.colorbar()\n",
    "    plt.show()\n",
    "\n",
    "    plt.scatter(Node_umap[:, 0], Node_umap[:, 2], c=c, cmap=cmap)\n",
    "    plt.colorbar()\n",
    "    plt.show()\n",
    "else:\n",
    "    print('Change overwrite_umap to True to compute and save Umap embedding') "
   ]
  },
  {
   "cell_type": "code",
   "execution_count": 17,
   "metadata": {},
   "outputs": [
    {
     "data": {
      "image/png": "[encoded data removed]",
      "text/plain": [
       "<Figure size 432x288 with 1 Axes>"
      ]
     },
     "metadata": {
      "needs_background": "light"
     },
     "output_type": "display_data"
    }
   ],
   "source": [
    "if overwrite_umap:\n",
    "    from mpl_toolkits.mplot3d import Axes3D\n",
    "\n",
    "    fig = plt.figure()\n",
    "    xs = Node_umap[:, 0]\n",
    "    ys = Node_umap[:, 1]\n",
    "    zs = Node_umap[:, 2]\n",
    "    ax = ax = Axes3D(fig)\n",
    "    ax.scatter(xs, ys, zs, c=c, cmap=cmap)\n",
    "    plt.show()\n",
    "\n",
    "else:\n",
    "    print('Change overwrite_umap to True to compute and save Umap embedding') "
   ]
  },
  {
   "cell_type": "code",
   "execution_count": 18,
   "metadata": {},
   "outputs": [
    {
     "name": "stdout",
     "output_type": "stream",
     "text": [
      "Saving Umap embeddings\n"
     ]
    },
    {
     "name": "stderr",
     "output_type": "stream",
     "text": [
      "100%|██████████| 33226/33226 [00:00<00:00, 117233.13it/s]\n"
     ]
    }
   ],
   "source": [
    "# Save Umap model\n",
    "if overwrite_umap:\n",
    "    print('Saving Umap embeddings')\n",
    "    with open('./embeddings/' + file_umap+str(nc)+'.model', 'a') as savefile:\n",
    "        savefile.write(str(np.shape(Node_umap)[0]) + ' '+str(nc) + '\\n')\n",
    "        it=0\n",
    "       \n",
    "        for f in tqdm(Node_umap):\n",
    "            savefile.write(str(it)+' ')\n",
    "            it=it+1\n",
    "            for i in range(Node_umap.shape[1]):\n",
    "                savefile.write(str(f[i]) + ' ')\n",
    "            savefile.write('\\n')\n",
    "    savefile.close\n",
    "else:\n",
    "    print('Change overwrite_umap to True to compute and save Umap embedding')"
   ]
  },
  {
   "cell_type": "markdown",
   "metadata": {},
   "source": [
    "## B.4.Jacquart coeff"
   ]
  },
  {
   "cell_type": "code",
   "execution_count": 19,
   "metadata": {},
   "outputs": [],
   "source": [
    "def get_jc(G, n1, n2):\n",
    "    try:\n",
    "        coef = [\n",
    "            [u, v, p] for u, v, p in nx.jaccard_coefficient(G, [(n1, n2)])\n",
    "        ][0]\n",
    "        return coef[2]\n",
    "    except:\n",
    "        return 0.0"
   ]
  },
  {
   "cell_type": "markdown",
   "metadata": {},
   "source": [
    "## B.5. Build Node2Vec embedding"
   ]
  },
  {
   "cell_type": "markdown",
   "metadata": {},
   "source": [
    "Trained on our graph. source : https://github.com/eliorc/node2vec"
   ]
  },
  {
   "cell_type": "code",
   "execution_count": 20,
   "metadata": {},
   "outputs": [
    {
     "name": "stderr",
     "output_type": "stream",
     "text": [
      "Computing transition probabilities:   1%|          | 354/33226 [00:22<34:09, 16.04it/s]  "
     ]
    },
    {
     "ename": "KeyboardInterrupt",
     "evalue": "",
     "output_type": "error",
     "traceback": [
      "\u001b[1;31m---------------------------------------------------------------------------\u001b[0m",
      "\u001b[1;31mKeyboardInterrupt\u001b[0m                         Traceback (most recent call last)",
      "\u001b[1;32m<ipython-input-20-d2959ebaa04a>\u001b[0m in \u001b[0;36m<module>\u001b[1;34m\u001b[0m\n\u001b[0;32m      1\u001b[0m \u001b[1;31m# Initalize model & probs\u001b[0m\u001b[1;33m\u001b[0m\u001b[1;33m\u001b[0m\u001b[1;33m\u001b[0m\u001b[0m\n\u001b[0;32m      2\u001b[0m \u001b[1;32mif\u001b[0m \u001b[0moverwrite_nodes\u001b[0m\u001b[1;33m:\u001b[0m\u001b[1;33m\u001b[0m\u001b[1;33m\u001b[0m\u001b[0m\n\u001b[1;32m----> 3\u001b[1;33m     \u001b[0mnode2vec\u001b[0m \u001b[1;33m=\u001b[0m \u001b[0mNode2Vec\u001b[0m\u001b[1;33m(\u001b[0m\u001b[0mG\u001b[0m\u001b[1;33m,\u001b[0m \u001b[0mdimensions\u001b[0m\u001b[1;33m=\u001b[0m\u001b[0mdimensions\u001b[0m\u001b[1;33m,\u001b[0m \u001b[0mwalk_length\u001b[0m\u001b[1;33m=\u001b[0m\u001b[0mwalk_length\u001b[0m\u001b[1;33m,\u001b[0m \u001b[0mnum_walks\u001b[0m\u001b[1;33m=\u001b[0m\u001b[0mnum_walks\u001b[0m\u001b[1;33m,\u001b[0m \u001b[0mworkers\u001b[0m\u001b[1;33m=\u001b[0m\u001b[0mworkers\u001b[0m\u001b[1;33m)\u001b[0m\u001b[1;33m\u001b[0m\u001b[1;33m\u001b[0m\u001b[0m\n\u001b[0m\u001b[0;32m      4\u001b[0m \u001b[1;32melse\u001b[0m\u001b[1;33m:\u001b[0m\u001b[1;33m\u001b[0m\u001b[1;33m\u001b[0m\u001b[0m\n\u001b[0;32m      5\u001b[0m     \u001b[0mprint\u001b[0m\u001b[1;33m(\u001b[0m\u001b[1;34m'Change overwrite_nodes to True to initialize Node2Vec'\u001b[0m\u001b[1;33m)\u001b[0m\u001b[1;33m\u001b[0m\u001b[1;33m\u001b[0m\u001b[0m\n",
      "\u001b[1;32m~\\Anaconda3\\lib\\site-packages\\node2vec\\node2vec.py\u001b[0m in \u001b[0;36m__init__\u001b[1;34m(self, graph, dimensions, walk_length, num_walks, p, q, weight_key, workers, sampling_strategy, quiet, temp_folder)\u001b[0m\n\u001b[0;32m     64\u001b[0m             \u001b[0mself\u001b[0m\u001b[1;33m.\u001b[0m\u001b[0mrequire\u001b[0m \u001b[1;33m=\u001b[0m \u001b[1;34m\"sharedmem\"\u001b[0m\u001b[1;33m\u001b[0m\u001b[1;33m\u001b[0m\u001b[0m\n\u001b[0;32m     65\u001b[0m \u001b[1;33m\u001b[0m\u001b[0m\n\u001b[1;32m---> 66\u001b[1;33m         \u001b[0mself\u001b[0m\u001b[1;33m.\u001b[0m\u001b[0m_precompute_probabilities\u001b[0m\u001b[1;33m(\u001b[0m\u001b[1;33m)\u001b[0m\u001b[1;33m\u001b[0m\u001b[1;33m\u001b[0m\u001b[0m\n\u001b[0m\u001b[0;32m     67\u001b[0m         \u001b[0mself\u001b[0m\u001b[1;33m.\u001b[0m\u001b[0mwalks\u001b[0m \u001b[1;33m=\u001b[0m \u001b[0mself\u001b[0m\u001b[1;33m.\u001b[0m\u001b[0m_generate_walks\u001b[0m\u001b[1;33m(\u001b[0m\u001b[1;33m)\u001b[0m\u001b[1;33m\u001b[0m\u001b[1;33m\u001b[0m\u001b[0m\n\u001b[0;32m     68\u001b[0m \u001b[1;33m\u001b[0m\u001b[0m\n",
      "\u001b[1;32m~\\Anaconda3\\lib\\site-packages\\node2vec\\node2vec.py\u001b[0m in \u001b[0;36m_precompute_probabilities\u001b[1;34m(self)\u001b[0m\n\u001b[0;32m    107\u001b[0m                         \u001b[0mss_weight\u001b[0m \u001b[1;33m=\u001b[0m \u001b[0mself\u001b[0m\u001b[1;33m.\u001b[0m\u001b[0mgraph\u001b[0m\u001b[1;33m[\u001b[0m\u001b[0mcurrent_node\u001b[0m\u001b[1;33m]\u001b[0m\u001b[1;33m[\u001b[0m\u001b[0mdestination\u001b[0m\u001b[1;33m]\u001b[0m\u001b[1;33m.\u001b[0m\u001b[0mget\u001b[0m\u001b[1;33m(\u001b[0m\u001b[0mself\u001b[0m\u001b[1;33m.\u001b[0m\u001b[0mweight_key\u001b[0m\u001b[1;33m,\u001b[0m \u001b[1;36m1\u001b[0m\u001b[1;33m)\u001b[0m\u001b[1;33m\u001b[0m\u001b[1;33m\u001b[0m\u001b[0m\n\u001b[0;32m    108\u001b[0m                     \u001b[1;32melse\u001b[0m\u001b[1;33m:\u001b[0m\u001b[1;33m\u001b[0m\u001b[1;33m\u001b[0m\u001b[0m\n\u001b[1;32m--> 109\u001b[1;33m                         \u001b[0mss_weight\u001b[0m \u001b[1;33m=\u001b[0m \u001b[0mself\u001b[0m\u001b[1;33m.\u001b[0m\u001b[0mgraph\u001b[0m\u001b[1;33m[\u001b[0m\u001b[0mcurrent_node\u001b[0m\u001b[1;33m]\u001b[0m\u001b[1;33m[\u001b[0m\u001b[0mdestination\u001b[0m\u001b[1;33m]\u001b[0m\u001b[1;33m.\u001b[0m\u001b[0mget\u001b[0m\u001b[1;33m(\u001b[0m\u001b[0mself\u001b[0m\u001b[1;33m.\u001b[0m\u001b[0mweight_key\u001b[0m\u001b[1;33m,\u001b[0m \u001b[1;36m1\u001b[0m\u001b[1;33m)\u001b[0m \u001b[1;33m*\u001b[0m \u001b[1;36m1\u001b[0m \u001b[1;33m/\u001b[0m \u001b[0mq\u001b[0m\u001b[1;33m\u001b[0m\u001b[1;33m\u001b[0m\u001b[0m\n\u001b[0m\u001b[0;32m    110\u001b[0m \u001b[1;33m\u001b[0m\u001b[0m\n\u001b[0;32m    111\u001b[0m                     \u001b[1;31m# Assign the unnormalized sampling strategy weight, normalize during random walk\u001b[0m\u001b[1;33m\u001b[0m\u001b[1;33m\u001b[0m\u001b[1;33m\u001b[0m\u001b[0m\n",
      "\u001b[1;32m~\\Anaconda3\\lib\\site-packages\\networkx\\classes\\graph.py\u001b[0m in \u001b[0;36m__getitem__\u001b[1;34m(self, n)\u001b[0m\n\u001b[0;32m    470\u001b[0m         \u001b[0mAtlasView\u001b[0m\u001b[1;33m(\u001b[0m\u001b[1;33m{\u001b[0m\u001b[1;36m1\u001b[0m\u001b[1;33m:\u001b[0m \u001b[1;33m{\u001b[0m\u001b[1;33m}\u001b[0m\u001b[1;33m}\u001b[0m\u001b[1;33m)\u001b[0m\u001b[1;33m\u001b[0m\u001b[1;33m\u001b[0m\u001b[0m\n\u001b[0;32m    471\u001b[0m         \"\"\"\n\u001b[1;32m--> 472\u001b[1;33m         \u001b[1;32mreturn\u001b[0m \u001b[0mself\u001b[0m\u001b[1;33m.\u001b[0m\u001b[0madj\u001b[0m\u001b[1;33m[\u001b[0m\u001b[0mn\u001b[0m\u001b[1;33m]\u001b[0m\u001b[1;33m\u001b[0m\u001b[1;33m\u001b[0m\u001b[0m\n\u001b[0m\u001b[0;32m    473\u001b[0m \u001b[1;33m\u001b[0m\u001b[0m\n\u001b[0;32m    474\u001b[0m     \u001b[1;32mdef\u001b[0m \u001b[0madd_node\u001b[0m\u001b[1;33m(\u001b[0m\u001b[0mself\u001b[0m\u001b[1;33m,\u001b[0m \u001b[0mnode_for_adding\u001b[0m\u001b[1;33m,\u001b[0m \u001b[1;33m**\u001b[0m\u001b[0mattr\u001b[0m\u001b[1;33m)\u001b[0m\u001b[1;33m:\u001b[0m\u001b[1;33m\u001b[0m\u001b[1;33m\u001b[0m\u001b[0m\n",
      "\u001b[1;32m~\\Anaconda3\\lib\\site-packages\\networkx\\classes\\graph.py\u001b[0m in \u001b[0;36madj\u001b[1;34m(self)\u001b[0m\n\u001b[0;32m    365\u001b[0m         \u001b[0mFor\u001b[0m \u001b[0mdirected\u001b[0m \u001b[0mgraphs\u001b[0m\u001b[1;33m,\u001b[0m\u001b[0;31m \u001b[0m\u001b[0;31m`\u001b[0m\u001b[0mG\u001b[0m\u001b[1;33m.\u001b[0m\u001b[0madj\u001b[0m\u001b[0;31m`\u001b[0m \u001b[0mholds\u001b[0m \u001b[0moutgoing\u001b[0m \u001b[1;33m(\u001b[0m\u001b[0msuccessor\u001b[0m\u001b[1;33m)\u001b[0m \u001b[0minfo\u001b[0m\u001b[1;33m.\u001b[0m\u001b[1;33m\u001b[0m\u001b[1;33m\u001b[0m\u001b[0m\n\u001b[0;32m    366\u001b[0m         \"\"\"\n\u001b[1;32m--> 367\u001b[1;33m         \u001b[1;32mreturn\u001b[0m \u001b[0mAdjacencyView\u001b[0m\u001b[1;33m(\u001b[0m\u001b[0mself\u001b[0m\u001b[1;33m.\u001b[0m\u001b[0m_adj\u001b[0m\u001b[1;33m)\u001b[0m\u001b[1;33m\u001b[0m\u001b[1;33m\u001b[0m\u001b[0m\n\u001b[0m\u001b[0;32m    368\u001b[0m \u001b[1;33m\u001b[0m\u001b[0m\n\u001b[0;32m    369\u001b[0m     \u001b[1;33m@\u001b[0m\u001b[0mproperty\u001b[0m\u001b[1;33m\u001b[0m\u001b[1;33m\u001b[0m\u001b[0m\n",
      "\u001b[1;32m~\\Anaconda3\\lib\\site-packages\\networkx\\classes\\coreviews.py\u001b[0m in \u001b[0;36m__init__\u001b[1;34m(self, d)\u001b[0m\n\u001b[0;32m     43\u001b[0m \u001b[1;33m\u001b[0m\u001b[0m\n\u001b[0;32m     44\u001b[0m     \u001b[1;32mdef\u001b[0m \u001b[0m__init__\u001b[0m\u001b[1;33m(\u001b[0m\u001b[0mself\u001b[0m\u001b[1;33m,\u001b[0m \u001b[0md\u001b[0m\u001b[1;33m)\u001b[0m\u001b[1;33m:\u001b[0m\u001b[1;33m\u001b[0m\u001b[1;33m\u001b[0m\u001b[0m\n\u001b[1;32m---> 45\u001b[1;33m         \u001b[0mself\u001b[0m\u001b[1;33m.\u001b[0m\u001b[0m_atlas\u001b[0m \u001b[1;33m=\u001b[0m \u001b[0md\u001b[0m\u001b[1;33m\u001b[0m\u001b[1;33m\u001b[0m\u001b[0m\n\u001b[0m\u001b[0;32m     46\u001b[0m \u001b[1;33m\u001b[0m\u001b[0m\n\u001b[0;32m     47\u001b[0m     \u001b[1;32mdef\u001b[0m \u001b[0m__len__\u001b[0m\u001b[1;33m(\u001b[0m\u001b[0mself\u001b[0m\u001b[1;33m)\u001b[0m\u001b[1;33m:\u001b[0m\u001b[1;33m\u001b[0m\u001b[1;33m\u001b[0m\u001b[0m\n",
      "\u001b[1;31mKeyboardInterrupt\u001b[0m: "
     ]
    }
   ],
   "source": [
    "# Initalize model & probs\n",
    "if overwrite_nodes:\n",
    "    node2vec = Node2Vec(G, dimensions=dimensions, walk_length=walk_length, num_walks=num_walks, workers=workers)\n",
    "else:\n",
    "    print('Change overwrite_nodes to True to initialize Node2Vec')"
   ]
  },
  {
   "cell_type": "code",
   "execution_count": 18,
   "metadata": {},
   "outputs": [
    {
     "name": "stdout",
     "output_type": "stream",
     "text": [
      "Change overwrite_nodes to True to fit Node2Vec\n"
     ]
    }
   ],
   "source": [
    "# Compute embeddings\n",
    "if overwrite_nodes:\n",
    "    embeddings = node2vec.fit()\n",
    "else:\n",
    "    print('Change overwrite_nodes to True to fit Node2Vec')"
   ]
  },
  {
   "cell_type": "code",
   "execution_count": 19,
   "metadata": {},
   "outputs": [
    {
     "name": "stdout",
     "output_type": "stream",
     "text": [
      "Change overwrite_nodes to True to save Node2Vec\n"
     ]
    }
   ],
   "source": [
    "# Save embeddings\n",
    "if overwrite_nodes:\n",
    "    filename = fname(['node2vec', dimensions, walk_length, num_walks], '.kv')\n",
    "    embeddings.wv.save_word2vec_format('./embeddings/' + filename)\n",
    "else:\n",
    "    print('Change overwrite_nodes to True to save Node2Vec')"
   ]
  },
  {
   "cell_type": "markdown",
   "metadata": {},
   "source": [
    "# C. BUILD FEATURE FOR THE TEXT"
   ]
  },
  {
   "cell_type": "markdown",
   "metadata": {},
   "source": [
    "## C.1. Very simple feature : size of the document"
   ]
  },
  {
   "cell_type": "code",
   "execution_count": 21,
   "metadata": {},
   "outputs": [],
   "source": [
    "import numpy as np\n",
    "from scipy import *\n",
    "G.number_of_nodes()\n",
    "File_size=zeros(G.number_of_nodes())\n",
    "text_files = glob.glob(texts_path_abs + '/*.txt')"
   ]
  },
  {
   "cell_type": "code",
   "execution_count": 22,
   "metadata": {},
   "outputs": [
    {
     "name": "stderr",
     "output_type": "stream",
     "text": [
      "\n",
      "  0%|          | 0/33214 [00:00<?, ?it/s]\n",
      "  1%|          | 338/33214 [00:00<00:10, 3062.66it/s]\n",
      "  2%|▏         | 829/33214 [00:00<00:09, 3385.57it/s]\n",
      "  4%|▍         | 1339/33214 [00:00<00:08, 3688.91it/s]\n",
      "  5%|▌         | 1810/33214 [00:00<00:08, 3854.94it/s]\n",
      "  7%|▋         | 2289/33214 [00:00<00:07, 3998.87it/s]\n",
      "  8%|▊         | 2796/33214 [00:00<00:07, 4170.96it/s]\n",
      " 10%|▉         | 3282/33214 [00:00<00:07, 4249.42it/s]\n",
      " 11%|█         | 3734/33214 [00:00<00:06, 4213.97it/s]\n",
      " 13%|█▎        | 4187/33214 [00:00<00:06, 4198.23it/s]\n",
      " 14%|█▍        | 4683/33214 [00:01<00:06, 4294.15it/s]\n",
      " 15%|█▌        | 5107/33214 [00:01<00:07, 3829.41it/s]\n",
      " 17%|█▋        | 5496/33214 [00:01<00:08, 3433.49it/s]\n",
      " 18%|█▊        | 5851/33214 [00:01<00:08, 3375.52it/s]\n",
      " 19%|█▉        | 6233/33214 [00:01<00:07, 3410.01it/s]\n",
      " 20%|██        | 6643/33214 [00:01<00:07, 3505.24it/s]\n",
      " 21%|██        | 7004/33214 [00:01<00:07, 3441.18it/s]\n",
      " 22%|██▏       | 7419/33214 [00:01<00:07, 3541.09it/s]\n",
      " 24%|██▎       | 7867/33214 [00:02<00:06, 3691.66it/s]\n",
      " 25%|██▍       | 8274/33214 [00:02<00:06, 3700.68it/s]\n",
      " 26%|██▋       | 8735/33214 [00:02<00:06, 3841.54it/s]\n",
      " 28%|██▊       | 9172/33214 [00:02<00:06, 3886.69it/s]\n",
      " 29%|██▉       | 9564/33214 [00:02<00:06, 3626.60it/s]\n",
      " 30%|███       | 10013/33214 [00:02<00:06, 3758.27it/s]\n",
      " 32%|███▏      | 10526/33214 [00:02<00:05, 3996.76it/s]\n",
      " 33%|███▎      | 11005/33214 [00:02<00:05, 4104.62it/s]\n",
      " 34%|███▍      | 11422/33214 [00:02<00:05, 4014.66it/s]\n",
      " 36%|███▌      | 11900/33214 [00:03<00:05, 4115.41it/s]\n",
      " 37%|███▋      | 12385/33214 [00:03<00:04, 4206.43it/s]\n",
      " 39%|███▉      | 12882/33214 [00:03<00:04, 4302.61it/s]\n",
      " 40%|████      | 13381/33214 [00:03<00:04, 4377.65it/s]\n",
      " 42%|████▏     | 13836/33214 [00:03<00:04, 4310.32it/s]\n",
      " 43%|████▎     | 14322/33214 [00:03<00:04, 4349.71it/s]\n",
      " 45%|████▍     | 14816/33214 [00:03<00:04, 4398.76it/s]\n",
      " 46%|████▌     | 15278/33214 [00:03<00:04, 4345.12it/s]\n",
      " 47%|████▋     | 15754/33214 [00:03<00:03, 4366.06it/s]\n",
      " 49%|████▉     | 16266/33214 [00:04<00:03, 4456.34it/s]\n",
      " 50%|█████     | 16747/33214 [00:04<00:03, 4446.40it/s]\n",
      " 52%|█████▏    | 17251/33214 [00:04<00:03, 4493.99it/s]\n",
      " 54%|█████▎    | 17817/33214 [00:04<00:03, 4678.96it/s]\n",
      " 55%|█████▌    | 18316/33214 [00:04<00:03, 4643.67it/s]\n",
      " 57%|█████▋    | 18833/33214 [00:04<00:03, 4668.65it/s]\n",
      " 58%|█████▊    | 19393/33214 [00:04<00:02, 4795.79it/s]\n",
      " 60%|█████▉    | 19926/33214 [00:04<00:02, 4819.06it/s]\n",
      " 62%|██████▏   | 20429/33214 [00:04<00:02, 4751.18it/s]\n",
      " 63%|██████▎   | 20960/33214 [00:04<00:02, 4782.15it/s]\n",
      " 65%|██████▍   | 21487/33214 [00:05<00:02, 4793.27it/s]\n",
      " 66%|██████▌   | 21971/33214 [00:05<00:02, 4676.91it/s]\n",
      " 68%|██████▊   | 22466/33214 [00:05<00:02, 4630.84it/s]\n",
      " 69%|██████▉   | 22930/33214 [00:05<00:02, 4311.08it/s]\n",
      " 71%|███████   | 23429/33214 [00:05<00:02, 4383.79it/s]\n",
      " 72%|███████▏  | 23898/33214 [00:05<00:02, 4354.92it/s]\n",
      " 73%|███████▎  | 24368/33214 [00:05<00:02, 4337.73it/s]\n",
      " 75%|███████▍  | 24833/33214 [00:05<00:01, 4311.79it/s]\n",
      " 76%|███████▌  | 25316/33214 [00:05<00:01, 4342.84it/s]\n",
      " 78%|███████▊  | 25822/33214 [00:06<00:01, 4424.45it/s]\n",
      " 79%|███████▉  | 26308/33214 [00:06<00:01, 4430.45it/s]\n",
      " 81%|████████  | 26788/33214 [00:06<00:01, 4445.84it/s]\n",
      " 82%|████████▏ | 27281/33214 [00:06<00:01, 4464.43it/s]\n",
      " 84%|████████▎ | 27773/33214 [00:06<00:01, 4496.47it/s]\n",
      " 85%|████████▌ | 28280/33214 [00:06<00:01, 4537.59it/s]\n",
      " 87%|████████▋ | 28735/33214 [00:06<00:01, 4457.39it/s]\n",
      " 88%|████████▊ | 29218/33214 [00:06<00:00, 4445.22it/s]\n",
      " 89%|████████▉ | 29710/33214 [00:06<00:00, 4470.14it/s]\n",
      " 91%|█████████ | 30229/33214 [00:07<00:00, 4549.43it/s]\n",
      " 92%|█████████▏| 30685/33214 [00:07<00:00, 4235.55it/s]\n",
      " 94%|█████████▎| 31114/33214 [00:07<00:00, 3794.16it/s]\n",
      " 95%|█████████▍| 31506/33214 [00:07<00:00, 3728.86it/s]\n",
      " 96%|█████████▋| 31971/33214 [00:07<00:00, 3871.88it/s]\n",
      " 98%|█████████▊| 32431/33214 [00:07<00:00, 3966.60it/s]\n",
      " 99%|█████████▉| 32854/33214 [00:07<00:00, 3936.60it/s]\n",
      "100%|██████████| 33214/33214 [00:07<00:00, 4224.89it/s]"
     ]
    },
    {
     "name": "stdout",
     "output_type": "stream",
     "text": [
      "Size of 33214 text files loaded\n"
     ]
    }
   ],
   "source": [
    "File_size=zeros(G.number_of_nodes())\n",
    "it=0\n",
    "for f in tqdm(text_files):\n",
    "    it=it+1\n",
    "    taille=len(f)\n",
    "    numero=int(f[79:taille-4])\n",
    "    taille_fichier=os.path.getsize(f)\n",
    "    File_size[numero]=log(1+taille_fichier)\n",
    "print('Size of',it,'text files loaded')"
   ]
  },
  {
   "cell_type": "markdown",
   "metadata": {},
   "source": [
    "## C.2. Preprocessing : deal with the language issue"
   ]
  },
  {
   "cell_type": "markdown",
   "metadata": {},
   "source": [
    "A basic look at the texts shows that there are two issues than need to be dealt with before we try to lean something about the texts:\n",
    "- More than a third of the website are not in French -> ideally we want to translate everything in French before we run the algorithms to calculate distances between the documents (but that is quite complicated to do in practice). At least, we need to know the language.\n",
    "- Some of the website have special caracters and some not (Ex : 2.txt = \"   En poursuivant votre navigation sur ce site, vous acceptez que nous utilisions des cookies pour mesurer l'audience de nos sites et pour vous proposer des fonctionnalités sociales...\" whereas 105.txt = \"   Retour Ã  la page d'accueil   Suivez-nous sur les rÃ©seaux sociaux -      * Dans le catalogue      * Au cÅur des livres    Recherche avancÃ©e\""
   ]
  },
  {
   "cell_type": "code",
   "execution_count": 23,
   "metadata": {},
   "outputs": [],
   "source": [
    "from langdetect import detect"
   ]
  },
  {
   "cell_type": "code",
   "execution_count": null,
   "metadata": {},
   "outputs": [],
   "source": [
    "if language_overwrite:\n",
    "    File_lang=[]\n",
    "    it=-1\n",
    "    for f in tqdm(text_files):\n",
    "        it=it+1\n",
    "        taille=len(f)\n",
    "        numero=int(f[79:taille-4])\n",
    "        with io.open(f, 'r', encoding='utf-8') as file:\n",
    "            try:\n",
    "                text = file.read()\n",
    "                lang=detect(text[0:10000]) # We suppose that 10 000 caracters is enough to detect the language\n",
    "                File_lang.append([numero,lang])\n",
    "            \n",
    "            except:\n",
    "                File_lang.append([numero,'Empty'])\n",
    "                continue\n",
    "    File_lang=np.array(File_lang)\n",
    "    Languages_list=list(set(File_lang[:,1]))\n",
    "else:\n",
    "    print('Change variable language_ovewrite to run that sequence')"
   ]
  },
  {
   "cell_type": "markdown",
   "metadata": {},
   "source": [
    "After that, we will 2 datastructures :\n",
    "- File_lang is 2 Dim array, each data being a number (ex : 10001 for 10001.txt) and its language\n",
    "- Languages_list is the list (without dooble count) of all avalaible languagues"
   ]
  },
  {
   "cell_type": "code",
   "execution_count": 26,
   "metadata": {},
   "outputs": [],
   "source": [
    "# SAVE Languages of the differents sites (it is slow to calculate)\n",
    "if language_overwrite:\n",
    "    savefile=open('./embeddings/'+file_language, 'w')\n",
    "    savefile.write(str(len(Languages_list))+' '+str(File_lang.shape[0])+'\\n')\n",
    "    for lang in Languages_list:\n",
    "        savefile.write(lang+' ')\n",
    "    savefile.write('\\n')\n",
    "    for i in range (File_lang.shape[0]):\n",
    "        savefile.write(File_lang[i,0]+' '+File_lang[i,1]+'\\n')\n",
    "    savefile.close()\n",
    "else:\n",
    "    print('Change variable language_ovewrite to run that sequence')"
   ]
  },
  {
   "cell_type": "code",
   "execution_count": 27,
   "metadata": {},
   "outputs": [
    {
     "name": "stdout",
     "output_type": "stream",
     "text": [
      "Change variable language_ovewrite to run that sequence\n"
     ]
    }
   ],
   "source": [
    "# LOAD PREVIOUSLY COMPUTED LANGUAGUES OF THE FILES\n",
    "if language_load:\n",
    "    Languages_list=[]\n",
    "    File_lang=[]\n",
    "    file=open('./embeddings/'+file_language, 'r')\n",
    "    line= file.readline()\n",
    "    line=line.split()\n",
    "    nextline= file.readline()\n",
    "    Languages_list=nextline.split()\n",
    "    for i in range (int(line[1])):\n",
    "        nextline= file.readline()\n",
    "        nextline=nextline.split()\n",
    "        File_lang.append([nextline[0],nextline[1]])\n",
    "    file.close()\n",
    "    File_lang=array(File_lang)\n",
    "else:\n",
    "    print('Change variable language_ovewrite to run that sequence')"
   ]
  },
  {
   "cell_type": "code",
   "execution_count": 28,
   "metadata": {},
   "outputs": [
    {
     "name": "stdout",
     "output_type": "stream",
     "text": [
      "Number of texts in hr : 16.0 occurences ( 0.04817390780718393 %)\n",
      "Number of texts in et : 33.0 occurences ( 0.09935868485231686 %)\n",
      "Number of texts in lt : 6.0 occurences ( 0.018065215427693977 %)\n",
      "Number of texts in mk : 2.0 occurences ( 0.006021738475897992 %)\n",
      "Number of texts in sl : 9.0 occurences ( 0.027097823141540963 %)\n",
      "Number of texts in zh-cn : 9.0 occurences ( 0.027097823141540963 %)\n",
      "Number of texts in hu : 18.0 occurences ( 0.054195646283081926 %)\n",
      "Number of texts in nl : 150.0 occurences ( 0.45163038569234937 %)\n",
      "Number of texts in cy : 2.0 occurences ( 0.006021738475897992 %)\n",
      "Number of texts in ar : 24.0 occurences ( 0.0722608617107759 %)\n",
      "Number of texts in el : 15.0 occurences ( 0.04516303856923494 %)\n",
      "Number of texts in ca : 24.0 occurences ( 0.0722608617107759 %)\n",
      "Number of texts in lv : 9.0 occurences ( 0.027097823141540963 %)\n",
      "Number of texts in Empty : 784.0 occurences ( 2.360521482552013 %)\n",
      "Number of texts in es : 327.0 occurences ( 0.9845542408093216 %)\n",
      "Number of texts in it : 165.0 occurences ( 0.4967934242615843 %)\n",
      "Number of texts in af : 10.0 occurences ( 0.03010869237948996 %)\n",
      "Number of texts in de : 334.0 occurences ( 1.0056303254749646 %)\n",
      "Number of texts in ru : 53.0 occurences ( 0.15957606961129678 %)\n",
      "Number of texts in fi : 26.0 occurences ( 0.07828260018667389 %)\n",
      "Number of texts in th : 13.0 occurences ( 0.039141300093336946 %)\n",
      "Number of texts in uk : 16.0 occurences ( 0.04817390780718393 %)\n",
      "Number of texts in ko : 17.0 occurences ( 0.05118477704513293 %)\n",
      "Number of texts in pt : 107.0 occurences ( 0.3221630084605426 %)\n",
      "Number of texts in fa : 4.0 occurences ( 0.012043476951795983 %)\n",
      "Number of texts in bg : 9.0 occurences ( 0.027097823141540963 %)\n",
      "Number of texts in ro : 125.0 occurences ( 0.3763586547436245 %)\n",
      "Number of texts in no : 45.0 occurences ( 0.1354891157077048 %)\n",
      "Number of texts in tr : 32.0 occurences ( 0.09634781561436787 %)\n",
      "Number of texts in sk : 13.0 occurences ( 0.039141300093336946 %)\n",
      "Number of texts in ja : 27.0 occurences ( 0.08129346942462289 %)\n",
      "Number of texts in sv : 36.0 occurences ( 0.10839129256616385 %)\n",
      "Number of texts in tl : 15.0 occurences ( 0.04516303856923494 %)\n",
      "Number of texts in en : 9485.0 occurences ( 28.558094721946226 %)\n",
      "Number of texts in he : 8.0 occurences ( 0.024086953903591966 %)\n",
      "Number of texts in sw : 1.0 occurences ( 0.003010869237948996 %)\n",
      "Number of texts in da : 68.0 occurences ( 0.20473910818053173 %)\n",
      "Number of texts in pl : 52.0 occurences ( 0.15656520037334778 %)\n",
      "Number of texts in fr : 21066.0 occurences ( 63.426971366633545 %)\n",
      "Number of texts in cs : 23.0 occurences ( 0.0692499924728269 %)\n",
      "Number of texts in id : 23.0 occurences ( 0.0692499924728269 %)\n",
      "Number of texts in vi : 12.0 occurences ( 0.03613043085538795 %)\n"
     ]
    }
   ],
   "source": [
    "Languages_count=np.zeros(len(Languages_list))\n",
    "Languages_index={}\n",
    "number_of_languages=len(Languages_list)\n",
    "for i in range (number_of_languages):\n",
    "    Languages_index[Languages_list[i]]=i\n",
    "for i in range (it):\n",
    "    Languages_count[Languages_index[File_lang[i,1]]]=Languages_count[Languages_index[File_lang[i,1]]]+1\n",
    "for i in range (number_of_languages):\n",
    "    print(\"Number of texts in\",Languages_list[i],\":\",Languages_count[i],\"occurences (\",100*Languages_count[i]/it,\"%)\")"
   ]
  },
  {
   "cell_type": "code",
   "execution_count": 29,
   "metadata": {},
   "outputs": [],
   "source": [
    "Langue=zeros(Node_umap.shape[0])\n",
    "for data in File_lang:\n",
    "    Langue[int(data[0])]=Languages_index[data[1]]"
   ]
  },
  {
   "cell_type": "markdown",
   "metadata": {},
   "source": [
    "Mains languages :\n",
    "- Number of texts in fr : 21081.0 occurences ( 63.47213440520278 %)\n",
    "- Number of texts in en : 9469 occurences ( 28.509920814139043 %)\n",
    "- Number of texts in Empty : 784 occurences ( 2.360521482552013 %) (means to few information to decide the language)\n",
    "- Number of texts in es : 333 occurences ( 1.0026194562370156 %)\n",
    "- Number of texts in de : 328 occurences ( 0.9875651100472707 %)\n",
    "\n",
    "We tryed to translate English to French and forget the rest (you will that way be able to capture 92% of the meaning of the text). But Google Translate did not agree so far (we need to reduce the number of caracters per file and concatenate the files together up to 1Mo par file and then translate each 1Mo file (with is Google's limit).\n",
    "STILL TO BE DONE...."
   ]
  },
  {
   "cell_type": "markdown",
   "metadata": {},
   "source": [
    "## C.3 Translation\n",
    "DO NOT EXECUTE : IT DOES NOT WORK"
   ]
  },
  {
   "cell_type": "code",
   "execution_count": 61,
   "metadata": {},
   "outputs": [
    {
     "name": "stderr",
     "output_type": "stream",
     "text": [
      "100%|██████████| 33214/33214 [00:14<00:00, 2233.91it/s]\n"
     ]
    }
   ],
   "source": [
    "# NOT FINISHED YET\n",
    "\n",
    "from unidecode import unidecode\n",
    "if overwrite_translation:\n",
    "\n",
    "    it=-1\n",
    "    savefile=open(texts_path_abs+'\\\\'+tobetranslated_file, 'w')\n",
    "      \n",
    "    for f in tqdm(text_files):\n",
    "        it=it+1\n",
    "        #if (it==500): break #For debug\n",
    "        taille=len(f)\n",
    "        numero=int(f[79:taille-4])\n",
    "        if (File_lang[it,1]=='en'):\n",
    "            file=open(f, 'r', encoding='utf-8')\n",
    "            text = file.read()\n",
    "            file.close()\n",
    "            header=\"/*-+/*-+/*-+/*-+\"+File_lang[it,0]+\"/*-+/*-+/*-+/*-+\\n\"\n",
    "            text_to_had=unidecode(text[0:6000]+\"\\n\")\n",
    "            savefile.write(header)\n",
    "            savefile.write(text_to_had)\n",
    "    savefile.close()\n",
    "else:\n",
    "    print('Change variable overwrite_translation to run that sequence')"
   ]
  },
  {
   "cell_type": "markdown",
   "metadata": {},
   "source": [
    "STILL TO BE DONE...\n",
    "\n",
    "(We tried to use https://www.onlinedoctranslator.com/ with the previous file to do an automatic translation of the 9469 sites in English. It had to be done with one single file because we didn't find a free website to translate 9000+ documents or free. Then the following code recover the translated file and split it into the documents. There are several files because we had 42Mo to translate, the maximum size being 10Mo.) That did not wirl so fer"
   ]
  },
  {
   "cell_type": "code",
   "execution_count": null,
   "metadata": {},
   "outputs": [],
   "source": [
    "# CODE TO RECOVER THE FILES AFTER TRANSLATION\n",
    "# Even not tested as we have no translation so far...\n",
    "if overwrite_translation:\n",
    "    all_translated_files = glob.glob(texts_path_abs + '..//translate//*en.fr.txt')\n",
    "\n",
    "    for translated_file in all_translated_files:\n",
    "        text=''\n",
    "        translated_file='translated.txt'\n",
    "        with open(texts_path_abs+'//'+translated_file, 'r') as file:\n",
    "            for line in tqdm(file):\n",
    "                if (line[0:31]=='/ * - + / * - + / * - + / * - +'): %New header found\n",
    "                    if (text!='') :\n",
    "                        with open(texts_path_abs+'\\\\'+str(numero)+'.en.txt') as newfile:\n",
    "                            savefile.write(text)\n",
    "                    taille=len(line)-32-31\n",
    "                    numero=int(line[32:32+taille])\n",
    "                    print(line,\"   \",numero)\n",
    "                    text=''\n",
    "                else:\n",
    "                    text=text+line\n",
    "        with open(texts_path_abs+'\\\\'+str(numero)+'.en.txt') as newfile: #Last file\n",
    "            savefile.write(text)        "
   ]
  },
  {
   "cell_type": "markdown",
   "metadata": {},
   "source": [
    "## C.4. Still preprocessing : test to find a way to correct special caracters"
   ]
  },
  {
   "cell_type": "code",
   "execution_count": 32,
   "metadata": {},
   "outputs": [],
   "source": [
    " with io.open(texts_path_abs+'\\\\995.txt', 'r') as file:\n",
    "         text = file.read()"
   ]
  },
  {
   "cell_type": "code",
   "execution_count": null,
   "metadata": {},
   "outputs": [],
   "source": [
    "print(text)"
   ]
  },
  {
   "cell_type": "code",
   "execution_count": null,
   "metadata": {},
   "outputs": [],
   "source": [
    "convert = text.replace('Ã','à').replace('à©','é').replace('Å“','oe').replace('Ã¯','i').replace('Ã©', 'é').replace('Ã€','à').replace('Ã§','c').replace('Ã¨','è').replace('â€™',' ').replace('Ã´','o')\n",
    "convert=convert.replace('à¨','è').replace('à§','c').replace('à´','o').replace('à¯','i')\n",
    "print (convert)"
   ]
  },
  {
   "cell_type": "markdown",
   "metadata": {},
   "source": [
    "## C.5. Latent Semantic Indexing : compute the distance matrix between all doc"
   ]
  },
  {
   "cell_type": "markdown",
   "metadata": {},
   "source": [
    "### C.5.1. Import and loads"
   ]
  },
  {
   "cell_type": "markdown",
   "metadata": {},
   "source": [
    "I'm using this exmaple webpage as an example : https://www.kernix.com/article/similarity-measure-of-textual-documents/"
   ]
  },
  {
   "cell_type": "code",
   "execution_count": 30,
   "metadata": {},
   "outputs": [],
   "source": [
    "from nltk import word_tokenize\n",
    "from nltk import download\n",
    "from nltk.corpus import stopwords"
   ]
  },
  {
   "cell_type": "code",
   "execution_count": 31,
   "metadata": {},
   "outputs": [],
   "source": [
    "import numpy as np\n",
    "from gensim import corpora\n",
    "from gensim.models import TfidfModel\n",
    "from gensim.models import LsiModel\n",
    "from gensim.similarities import MatrixSimilarity"
   ]
  },
  {
   "cell_type": "code",
   "execution_count": 32,
   "metadata": {},
   "outputs": [],
   "source": [
    "def most_similar(i, X_sims, topn=None):\n",
    "    r = np.argsort(X_sims[i])[::-1]\n",
    "    if r is None:\n",
    "        return r\n",
    "    else:\n",
    "        return r[:topn]"
   ]
  },
  {
   "cell_type": "code",
   "execution_count": null,
   "metadata": {},
   "outputs": [],
   "source": [
    "stop_words = stopwords.words('french') #Word that will not be used for the LSI because they carry very few information\n",
    "stop_words.append('alternate') #Stop word that is frequent at the beginning of many sites\n",
    "stop_words.append(stopwords.words('english'))\n",
    "stop_words.append(stopwords.words('german'))\n",
    "stop_words.append(stopwords.words('spanish'))\n",
    "print(stop_words)"
   ]
  },
  {
   "cell_type": "code",
   "execution_count": 34,
   "metadata": {},
   "outputs": [],
   "source": [
    "def preprocess(text):\n",
    "    text = text.lower()\n",
    "    doc = word_tokenize(text)\n",
    "    doc = [word for word in doc if word not in stop_words]\n",
    "    doc = [word for word in doc if word.isalpha()]\n",
    "    return doc\n",
    "def filter_docs(corpus, texts):\n",
    "    texts = [text for (text, doc) in zip(texts, corpus)]\n",
    "    corpus = [doc for doc in corpus]\n",
    "    return (corpus, texts)"
   ]
  },
  {
   "cell_type": "code",
   "execution_count": null,
   "metadata": {},
   "outputs": [],
   "source": [
    "texts=[]\n",
    "it=-1\n",
    "File_index=zeros(G.number_of_nodes())\n",
    "for f in tqdm(text_files):\n",
    "    it=it+1\n",
    "    #if (it==1000): break #Just to check\n",
    "    with io.open(f, 'r', encoding='utf-8') as file:\n",
    "        try:\n",
    "            text = file.read()\n",
    "            text = text.replace('Ã','à').replace('à©','é').replace('Å“','oe').replace('Ã¯','i').replace('Ã©', 'é').replace('Ã€','à').replace('Ã§','c').replace('Ã¨','è').replace('â€™',' ').replace('Ã´','o')\n",
    "            text= text.replace('à¨','è').replace('à§','c').replace('à´','o').replace('à¯','i')\n",
    "            #To save time, I only take the 5000 first caracters into account\n",
    "            text=text[0:50000] #I took 5000 for LSI1\n",
    "            taille=len(f)\n",
    "            numero=int(f[79:taille-4])\n",
    "            File_index[numero]=it\n",
    "        except (io.UnsupportedOperation, UnicodeDecodeError) as e:\n",
    "            text=\"\"\n",
    "            texts.append(text)\n",
    "            continue\n",
    "    texts.append(text)"
   ]
  },
  {
   "cell_type": "markdown",
   "metadata": {},
   "source": [
    "### C.5.2. Compute LSI matrix of all the documents, not taking their language into account"
   ]
  },
  {
   "cell_type": "markdown",
   "metadata": {},
   "source": [
    "Le code utilisé ici pour générer une matrice LSI travaille uniquement avec du texte en français. Intuitivement, ce devrait être moins efficace que ce qui a été fait en C.4.3. (matrices par langue). Mais le LSI interlanguage permet quand même de calculer une distance (probablement très fausse) entre des documents de langues différentes. De plus, beaucoup de sites mixent plusieurs langues. En pratique, cette LSI fonctionne très correctement !"
   ]
  },
  {
   "cell_type": "code",
   "execution_count": 36,
   "metadata": {},
   "outputs": [
    {
     "name": "stdout",
     "output_type": "stream",
     "text": [
      "Step 1 done\n",
      "Step 2 done\n",
      "Step 3 done\n",
      "Step 4 done\n",
      "Step 5 done\n",
      "Step 6 done\n",
      "Step 7 done\n"
     ]
    }
   ],
   "source": [
    "corpus = [preprocess(text) for text in texts]\n",
    "print(\"Step 1 done\")\n",
    "corpus, texts = filter_docs(corpus, texts)\n",
    "print(\"Step 2 done\")\n",
    "dictionary = corpora.Dictionary(corpus)\n",
    "print(\"Step 3 done\")\n",
    "corpus_gensim = [dictionary.doc2bow(doc) for doc in corpus]\n",
    "print(\"Step 4 done\")\n",
    "tfidf = TfidfModel(corpus_gensim)\n",
    "print(\"Step 5 done\")\n",
    "corpus_tfidf = tfidf[corpus_gensim]\n",
    "print(\"Step 6 done\")\n",
    "lsi = LsiModel(corpus_tfidf, id2word=dictionary, num_topics=200)\n",
    "print(\"Step 7 done\")\n",
    "lsi_matrix_initial = MatrixSimilarity(lsi[corpus_tfidf])"
   ]
  },
  {
   "cell_type": "code",
   "execution_count": 38,
   "metadata": {},
   "outputs": [],
   "source": [
    "lsi_matrix_initial=np.array([lsi_matrix_initial[lsi[corpus_tfidf[i]]] for i in range(len(corpus))])"
   ]
  },
  {
   "cell_type": "code",
   "execution_count": 41,
   "metadata": {},
   "outputs": [],
   "source": [
    "#np.save('./embeddings/LSI_matrix_initial sur 50 000 caractères',lsi_matrix_initial)"
   ]
  },
  {
   "cell_type": "markdown",
   "metadata": {},
   "source": [
    "### C.5.3. We build the LSI distance matrix for FR EN DE and ES ie the 4 languages that have more than 1% occurence"
   ]
  },
  {
   "cell_type": "code",
   "execution_count": 62,
   "metadata": {},
   "outputs": [
    {
     "name": "stdout",
     "output_type": "stream",
     "text": [
      "All the files have been read - Now dealing with the lsi_matrix - DE first\n",
      "lsi_matrix for DE built - Now dealing with ES\n",
      "lsi_matrix for ES built - Now dealing with EN\n",
      "lsi_matrix for EN built - Now dealing with FR\n"
     ]
    }
   ],
   "source": [
    "corpus_fr=[]\n",
    "corpus_index_fr=[]\n",
    "texts_fr=[]\n",
    "\n",
    "corpus_en=[]\n",
    "corpus_index_en=[]\n",
    "texts_en=[]\n",
    "\n",
    "corpus_de=[]\n",
    "corpus_index_de=[]\n",
    "texts_de=[]\n",
    "\n",
    "corpus_es=[]\n",
    "corpus_index_es=[]\n",
    "texts_es=[]\n",
    "\n",
    "for i in range(File_index.shape[0]):\n",
    "    if (Languages_list[int(Langue[i])]=='fr'):\n",
    "        corpus_index_fr.append(i)\n",
    "        corpus_fr.append(preprocess(texts[int(File_index[i])]))\n",
    "        texts_fr.append(texts[int(File_index[i])])\n",
    "     \n",
    "    if (Languages_list[int(Langue[i])]=='en'):\n",
    "        corpus_index_en.append(i)\n",
    "        corpus_en.append(preprocess(texts[int(File_index[i])]))\n",
    "        texts_en.append(texts[int(File_index[i])])\n",
    "        \n",
    "    if (Languages_list[int(Langue[i])]=='de'):\n",
    "        corpus_index_de.append(i)\n",
    "        corpus_de.append(preprocess(texts[int(File_index[i])]))\n",
    "        texts_de.append(texts[int(File_index[i])])\n",
    "     \n",
    "    if (Languages_list[int(Langue[i])]=='es'):\n",
    "        corpus_index_es.append(i)\n",
    "        corpus_es.append(preprocess(texts[int(File_index[i])]))\n",
    "        texts_es.append(texts[int(File_index[i])])\n",
    "        \n",
    "print('All the files have been read - Now dealing with the lsi_matrix - DE first')\n",
    "stop_words = stopwords.words('german') #Word that will not be used for the LSI because they carry very few information\n",
    "stop_words.append('alternate') #Stop word that is frequent at the beginning of many sites\n",
    "corpus_de, texts_de = filter_docs(corpus_de, texts_de)\n",
    "dictionary_de = corpora.Dictionary(corpus_de)\n",
    "corpus_gensim_de = [dictionary_de.doc2bow(doc) for doc in corpus_de]\n",
    "tfidf_de = TfidfModel(corpus_gensim_de)\n",
    "corpus_tfidf_de = tfidf_de[corpus_gensim_de]\n",
    "lsi_de = LsiModel(corpus_tfidf_de, id2word=dictionary_de, num_topics=200)\n",
    "lsi_index_de = MatrixSimilarity(lsi_de[corpus_tfidf_de])\n",
    "lsi_matrix_de=np.array([lsi_index_de[lsi_de[corpus_tfidf_de[i]]] for i in range(len(corpus_de))])\n",
    "\n",
    "print('lsi_matrix for DE built - Now dealing with ES')\n",
    "\n",
    "stop_words = stopwords.words('spanish') #Word that will not be used for the LSI because they carry very few information\n",
    "stop_words.append('alternate') #Stop word that is frequent at the beginning of many sites\n",
    "corpus_es, texts_es = filter_docs(corpus_es, texts_es)\n",
    "dictionary_es = corpora.Dictionary(corpus_es)\n",
    "corpus_gensim_es = [dictionary_es.doc2bow(doc) for doc in corpus_es]\n",
    "tfidf_es = TfidfModel(corpus_gensim_es)\n",
    "corpus_tfidf_es = tfidf_es[corpus_gensim_es]\n",
    "lsi_es = LsiModel(corpus_tfidf_es, id2word=dictionary_es, num_topics=200)\n",
    "lsi_index_es = MatrixSimilarity(lsi_es[corpus_tfidf_es])\n",
    "lsi_matrix_es=np.array([lsi_index_es[lsi_es[corpus_tfidf_es[i]]] for i in range(len(corpus_es))])\n",
    "\n",
    "print('lsi_matrix for ES built - Now dealing with EN')\n",
    "\n",
    "stop_words = stopwords.words('english') #Word that will not be used for the LSI because they carry very few information\n",
    "stop_words.append('alternate') #Stop word that is frequent at the beginning of many sites\n",
    "corpus_en, texts_en = filter_docs(corpus_en, texts_en)\n",
    "dictionary_en = corpora.Dictionary(corpus_en)\n",
    "corpus_gensim_en = [dictionary_en.doc2bow(doc) for doc in corpus_en]\n",
    "tfidf_en = TfidfModel(corpus_gensim_en)\n",
    "corpus_tfidf_en = tfidf_en[corpus_gensim_en]\n",
    "lsi_en = LsiModel(corpus_tfidf_en, id2word=dictionary_en, num_topics=200)\n",
    "lsi_index_en = MatrixSimilarity(lsi_en[corpus_tfidf_en])\n",
    "lsi_matrix_en=np.array([lsi_index_en[lsi_en[corpus_tfidf_en[i]]] for i in range(len(corpus_en))])\n",
    "\n",
    "print('lsi_matrix for EN built - Now dealing with FR')\n",
    "\n",
    "stop_words = stopwords.words('french') #Word that will not be used for the LSI because they carry very few information\n",
    "stop_words.append('alternate') #Stop word that is frequent at the beginning of many sites\n",
    "corpus_fr, texts_fr = filter_docs(corpus_fr, texts_fr)\n",
    "dictionary_fr = corpora.Dictionary(corpus_fr)\n",
    "corpus_gensim_fr = [dictionary_fr.doc2bow(doc) for doc in corpus_fr]\n",
    "tfidf_fr = TfidfModel(corpus_gensim_fr)\n",
    "corpus_tfidf_fr = tfidf_fr[corpus_gensim_fr]\n",
    "lsi_fr = LsiModel(corpus_tfidf_fr, id2word=dictionary_fr, num_topics=200)\n",
    "lsi_index_fr = MatrixSimilarity(lsi_fr[corpus_tfidf_fr])\n",
    "lsi_matrix_fr=np.array([lsi_index_fr[lsi_fr[corpus_tfidf_fr[i]]] for i in range(len(corpus_fr))])"
   ]
  },
  {
   "cell_type": "code",
   "execution_count": 63,
   "metadata": {},
   "outputs": [
    {
     "name": "stdout",
     "output_type": "stream",
     "text": [
      "Matrice DE : (332, 332)\n",
      "Matrice ES : (331, 331)\n",
      "Matrice EN : (9482, 9482)\n",
      "Matrice FR : (21063, 21063)\n"
     ]
    }
   ],
   "source": [
    "print('Matrice DE :',lsi_matrix_de.shape)\n",
    "print('Matrice ES :',lsi_matrix_es.shape)\n",
    "print('Matrice EN :',lsi_matrix_en.shape)\n",
    "print('Matrice FR :',lsi_matrix_fr.shape)"
   ]
  },
  {
   "cell_type": "code",
   "execution_count": 78,
   "metadata": {},
   "outputs": [],
   "source": [
    "lsi_matrix=np.ones((G.number_of_nodes(),G.number_of_nodes()))*0.1 #Empiracal distance between not linked edges"
   ]
  },
  {
   "cell_type": "code",
   "execution_count": 93,
   "metadata": {},
   "outputs": [
    {
     "name": "stdout",
     "output_type": "stream",
     "text": [
      "Copying DE matrix\n",
      "Now copying ES matrix\n",
      "Now copying EN matrix\n",
      "Now copying FR matrix\n"
     ]
    }
   ],
   "source": [
    "print('Copying DE matrix')\n",
    "for i in range(len(corpus_index_de)):\n",
    "    for j in range(len(corpus_index_de)):\n",
    "        lsi_matrix[corpus_index_de[i],corpus_index_de[j]]=lsi_matrix_de[i,j]\n",
    "\n",
    "print('Now copying ES matrix')\n",
    "for i in range(len(corpus_index_es)):\n",
    "    for j in range(len(corpus_index_es)):\n",
    "        lsi_matrix[corpus_index_es[i],corpus_index_es[j]]=lsi_matrix_es[i,j]\n",
    "\n",
    "print('Now copying EN matrix')\n",
    "for i in range(len(corpus_index_en)):\n",
    "    for j in range(len(corpus_index_en)):\n",
    "        lsi_matrix[corpus_index_en[i],corpus_index_en[j]]=lsi_matrix_en[i,j]\n",
    "\n",
    "print('Now copying FR matrix')\n",
    "for i in range(len(corpus_index_fr)):\n",
    "    for j in range(len(corpus_index_fr)):\n",
    "        lsi_matrix[corpus_index_fr[i],corpus_index_fr[j]]=lsi_matrix_fr[i,j]"
   ]
  },
  {
   "cell_type": "markdown",
   "metadata": {},
   "source": [
    "### C.5.4. Some results"
   ]
  },
  {
   "cell_type": "code",
   "execution_count": 119,
   "metadata": {},
   "outputs": [
    {
     "name": "stdout",
     "output_type": "stream",
     "text": [
      "Distance moyenne LSI entre les sites reliés : 0.19126349878925836\n",
      "Distance moyenne LSI entre les sites non reliés : 0.10097950304661589\n",
      "Distance moyenne entre deux site quelconques : 0.10114407604179339\n"
     ]
    }
   ],
   "source": [
    "yyes=0\n",
    "nno=0\n",
    "ityes=0\n",
    "itno=0\n",
    "for i in range(X.shape[0]):\n",
    "    node1=X[i,0]\n",
    "    node2=X[i,1]\n",
    "    if (y[i]==1):\n",
    "        ityes=ityes+1\n",
    "        #yyes=yyes+lsi_matrix_initial[int(File_index[int(node1)]),int(File_index[int(node2)])] # Indexation avec lsi_matrix_initiale\n",
    "        yyes=yyes+lsi_matrix[int(node1),int(node2)] # Indexation avec la nouvelle matrice lsi\n",
    "    else:\n",
    "        itno=itno+1\n",
    "        #nno=nno+lsi_matrix_initial[int(File_index[int(node1)]),int(File_index[int(node2)])]\n",
    "        nno=nno+lsi_matrix[int(node1),int(node2)]\n",
    "        \n",
    "print(\"Distance moyenne LSI entre les sites reliés :\",yyes/ityes)\n",
    "print(\"Distance moyenne LSI entre les sites non reliés :\",nno/itno)\n",
    "print (\"Distance moyenne entre deux site quelconques :\",mean(lsi_matrix))"
   ]
  },
  {
   "cell_type": "markdown",
   "metadata": {},
   "source": [
    "Avant d'avoir redressé les textes pour les caractères spéciaux (avant d'avoir codé C.3.):\n",
    "- Distance moyenne LSI entre les sites reliés : 0.22203488897478912\n",
    "- Distance moyenne LSI entre les sites non reliés : 0.09458179124642176\n",
    "- Distance moyenne entre deux site quelconques : 0.093072\n",
    "\n",
    "Après le redressement du texte (après avoir codé C.3.):\n",
    "- Distance moyenne LSI entre les sites reliés : 0.22032205248067857\n",
    "- Distance moyenne LSI entre les sites non reliés : 0.09425937840105059\n",
    "- Distance moyenne entre deux site quelconques : 0.093114525\n",
    "\n",
    "Avec comparaison langue par langue (C.4.3.):\n",
    "- Distance moyenne LSI entre les sites reliés : 0.19126349878925836 mais en fait 0.25 (on est écrasé par les nombreux cas où ce n'est pas la même langue)\n",
    "- Distance moyenne LSI entre les sites non reliés : 0.10097950304661589\n",
    "- Distance moyenne entre deux site quelconques : 0.10114407604179339"
   ]
  },
  {
   "cell_type": "markdown",
   "metadata": {},
   "source": [
    "## C.6. Build Word2Vec embedding"
   ]
  },
  {
   "cell_type": "markdown",
   "metadata": {},
   "source": [
    "Using pre-trained french model on each node's text. source : https://spacy.io/models/fr#fr_core_news_md"
   ]
  },
  {
   "cell_type": "code",
   "execution_count": 20,
   "metadata": {},
   "outputs": [
    {
     "name": "stdout",
     "output_type": "stream",
     "text": [
      "Change overwrite_text to True to download SpaCy french vectors\n"
     ]
    }
   ],
   "source": [
    "# Download trained french model\n",
    "if overwrite_text:\n",
    "    !python -m spacy download fr_core_news_md\n",
    "else:\n",
    "    print('Change overwrite_text to True to download SpaCy french vectors')"
   ]
  },
  {
   "cell_type": "code",
   "execution_count": 21,
   "metadata": {},
   "outputs": [
    {
     "name": "stdout",
     "output_type": "stream",
     "text": [
      "Change overwrite_text to True to load Word2Vec\n"
     ]
    }
   ],
   "source": [
    "# Declare NLP model\n",
    "if overwrite_text:\n",
    "    nlp = spacy.load(\"fr_core_news_md\")\n",
    "else:\n",
    "    print('Change overwrite_text to True to load Word2Vec')"
   ]
  },
  {
   "cell_type": "code",
   "execution_count": 22,
   "metadata": {},
   "outputs": [
    {
     "name": "stdout",
     "output_type": "stream",
     "text": [
      "Change overwrite_text to True to compute and save word vectors\n"
     ]
    }
   ],
   "source": [
    "# Save vector model (dim 300 from fr_core_news_md)\n",
    "if overwrite_text:\n",
    "    print('Saving word embeddings')\n",
    "    filename = fname(['word2vec', 300], '.kv')\n",
    "    with open('./embeddings/' + filename, 'a') as savefile:\n",
    "        # save in same format as node2vec, n_vectors and dim header, then id and vec_id\n",
    "        savefile.write(str(len(text_files)) + ' ' + '300\\n')\n",
    "    for f in tqdm(text_files):\n",
    "        vec = np.zeros(300)\n",
    "        # recover file from path/to/file.ext to use as vector id (same as node2vec embeddings)\n",
    "        node_id = os.path.split(f)[1][:-4]\n",
    "        with io.open(f, 'r', encoding='utf-8') as file:\n",
    "            try:\n",
    "                text = file.read()\n",
    "            # for empty or unreadable files, assign the zero vector\n",
    "            except (io.UnsupportedOperation, UnicodeDecodeError) as e:\n",
    "                with open('./embeddings/' + filename, 'a') as savefile:\n",
    "                    savefile.write(str(node_id) + ' ' + ' '.join(str(i) for i in vec) + '\\n')\n",
    "                continue\n",
    "        try:\n",
    "            doc = nlp(text)\n",
    "        except ValueError: # text is too long\n",
    "            with open('./embeddings/' + filename, 'a') as savefile:\n",
    "                savefile.write(str(node_id) + ' ' + ' '.join(str(i) for i in vec) + '\\n')\n",
    "            continue\n",
    "        n_vec = 0\n",
    "        for token in doc:\n",
    "            # add only tokenized word with vectors\n",
    "            if token.has_vector:\n",
    "                vec += token.vector\n",
    "                n_vec += 1\n",
    "        if n_vec != 0:\n",
    "            vec = vec / n_vec\n",
    "        with open('./embeddings/' + filename, 'a') as savefile:\n",
    "            savefile.write(str(node_id) + ' ' + ' '.join(str(i) for i in vec) + '\\n')\n",
    "else:\n",
    "    print('Change overwrite_text to True to compute and save word vectors')"
   ]
  },
  {
   "cell_type": "markdown",
   "metadata": {},
   "source": [
    "## C.6. Distance between document using WMD"
   ]
  },
  {
   "cell_type": "markdown",
   "metadata": {},
   "source": [
    "Word Mover's Distance has been introduced in From Word Embeddings To Document Distances, (Kusner et al., ICML 2015)."
   ]
  },
  {
   "cell_type": "markdown",
   "metadata": {},
   "source": [
    "No done - We do not have enough computation power."
   ]
  },
  {
   "cell_type": "markdown",
   "metadata": {},
   "source": [
    "# D. LOAD THE COMPUTED EMBEDDINGS & PREPARE SIMPLE MODEL"
   ]
  },
  {
   "cell_type": "markdown",
   "metadata": {},
   "source": [
    "## D.1. Load previous work (to save a lot of time, we just compute embeddings once)"
   ]
  },
  {
   "cell_type": "code",
   "execution_count": 42,
   "metadata": {},
   "outputs": [],
   "source": [
    "def load_embeddings(filename):\n",
    "    \"\"\"\n",
    "    Loads keyed vectors to a dict\n",
    "    \"\"\"\n",
    "    model = {}\n",
    "    with open('./embeddings/' + filename, 'r') as file:\n",
    "        line = file.readline()\n",
    "        dims = line.strip().split()\n",
    "        total_vecs = int(dims[0])\n",
    "        model['dim'] = int(dims[1])\n",
    "        while line:\n",
    "            line = file.readline()\n",
    "            kvec = line.strip().split()\n",
    "            if len(kvec) == 0:\n",
    "                break\n",
    "            model[kvec[0]] = np.array(kvec[1:]).astype(np.float)\n",
    "            assert(model['dim'] == len(model[kvec[0]])), 'Incomplete vectors in ' + filename\n",
    "    assert(len(model) - 1 == total_vecs), 'Not enough vectors in ' + filename\n",
    "    print('Loaded', './embeddings/' + filename, 'to a', model['dim'], 'dimensional model')\n",
    "    return model"
   ]
  },
  {
   "cell_type": "code",
   "execution_count": 13,
   "metadata": {},
   "outputs": [
    {
     "name": "stdout",
     "output_type": "stream",
     "text": [
      "Loaded ./embeddings/umap_with_nc_equal3.model to a 3 dimensional model\n"
     ]
    }
   ],
   "source": [
    "#Load UMAP\n",
    "if load_umap:\n",
    "\n",
    "    Node_umap=load_embeddings(file_umap+str(nc)+\".model\")\n",
    "    Node_umap = [ v for v in Node_umap.values() ]\n",
    "    del Node_umap[0]\n",
    "    Node_umap=np.asarray(Node_umap)\n",
    "    nid_to_index = {nid:i for i, nid in enumerate(G.nodes)}\n",
    "else:\n",
    "    print(\"Chage load_umap to load it!\")"
   ]
  },
  {
   "cell_type": "code",
   "execution_count": 49,
   "metadata": {},
   "outputs": [
    {
     "name": "stdout",
     "output_type": "stream",
     "text": [
      "Loaded ./embeddings/word2vec_300.kv to a 300 dimensional model\n"
     ]
    }
   ],
   "source": [
    "#LOAD Node2VEC and WORD2VEC\n",
    "vecs_nodes = load_embeddings(file_node_vecs)\n",
    "vecs_text = load_embeddings(file_text_vecs)"
   ]
  },
  {
   "cell_type": "code",
   "execution_count": 40,
   "metadata": {},
   "outputs": [],
   "source": [
    "def similarity(u, v):\n",
    "    \"\"\"\n",
    "    Computes a tweaked cosine similarity between two vectors (a must for comparing text embeddings)\n",
    "    \"\"\"\n",
    "    if np.linalg.norm(u) == 0.0 or np.linalg.norm(v) == 0.0:\n",
    "        return 0.0\n",
    "    else:\n",
    "        return cosine(u, v)"
   ]
  },
  {
   "cell_type": "markdown",
   "metadata": {},
   "source": [
    "## D.2. Prepare data for a simple model to test different classifiers on nodes"
   ]
  },
  {
   "cell_type": "markdown",
   "metadata": {},
   "source": [
    "### D.2.1. Very simple mode for the beginning"
   ]
  },
  {
   "cell_type": "code",
   "execution_count": 43,
   "metadata": {},
   "outputs": [
    {
     "name": "stdout",
     "output_type": "stream",
     "text": [
      "Les noeuds dans Umap :  (33226, 3)\n",
      "Les datas dans X :  (623940, 2)\n"
     ]
    }
   ],
   "source": [
    "print(\"Les noeuds dans Umap : \",Node_umap.shape)\n",
    "#print(\"Les noeuds dans Norm_lap : \",Node_normlap.shape) # We don't use it\n",
    "print(\"Les datas dans X : \",X.shape)"
   ]
  },
  {
   "cell_type": "code",
   "execution_count": 26,
   "metadata": {},
   "outputs": [],
   "source": [
    "X_umap=[]\n",
    "#X_normlap=[]\n",
    "for i in range(X.shape[0]):\n",
    "    data=X[i]\n",
    "    X_umap.append   (np.array([Node_umap[nid_to_index[data[0]]],Node_umap[nid_to_index[data[1]]]]).reshape(2*nc))\n",
    "    #X_normlap.append(np.array([Node_normlap[int(data[0])],Node_normlap[int(data[1])]]).reshape(12))\n",
    "X_umap=np.array(X_umap)\n",
    "#X_normlap=np.array(X_normlap)"
   ]
  },
  {
   "cell_type": "code",
   "execution_count": 27,
   "metadata": {},
   "outputs": [
    {
     "name": "stdout",
     "output_type": "stream",
     "text": [
      "X_umap :  (623940, 6)\n",
      "y :  (623940, 1)\n"
     ]
    }
   ],
   "source": [
    "print(\"X_umap : \",X_umap.shape)\n",
    "#print(\"X_normlap : \",X_normlap.shape)\n",
    "print(\"y : \",y.shape)"
   ]
  },
  {
   "cell_type": "markdown",
   "metadata": {},
   "source": [
    "### D.2.2. Better model with information about the text in the files"
   ]
  },
  {
   "cell_type": "code",
   "execution_count": 78,
   "metadata": {},
   "outputs": [],
   "source": [
    "def samelangbutnotenglish(langue1,langue2):\n",
    "    if (langue1==langue2):\n",
    "        if (langue1==Languages_index['en']): return 0\n",
    "        else : return 1\n",
    "    return 2"
   ]
  },
  {
   "cell_type": "code",
   "execution_count": 44,
   "metadata": {},
   "outputs": [],
   "source": [
    "def distancevec(u,v):\n",
    "    if (np.linalg.norm(u)*np.linalg.norm(v))>0 :\n",
    "        return np.vdot(u,v)/(np.linalg.norm(u)*np.linalg.norm(v))\n",
    "    return 0"
   ]
  },
  {
   "cell_type": "code",
   "execution_count": null,
   "metadata": {},
   "outputs": [],
   "source": [
    "#Model #2 \n",
    "X_umap2=[]\n",
    "\n",
    "for i in range (X.shape[0]):\n",
    "\n",
    "    data=X[i]\n",
    "    if (i%1000==0): print(i)\n",
    "    output=zeros(2*nc+12)         #CHANGE HERE ALSO FOR THE DIMENSION\n",
    "    data1=Node_umap[nid_to_index[data[0]]]\n",
    "    data2=Node_umap[nid_to_index[data[1]]]\n",
    "    data12=array([data1,data2]).reshape(2*nc)\n",
    "    for j in range (2*nc): output[j]=data12[j]\n",
    "    \n",
    "    output[2*nc+0]=DG.in_degree[data[0]]\n",
    "    output[2*nc+1]=DG.out_degree[data[0]]\n",
    "    output[2*nc+2]=DG.in_degree[data[1]]\n",
    "    output[2*nc+3]=DG.out_degree[data[1]]\n",
    "    output[2*nc+4]=get_jc(G, data[0], data[1])\n",
    "    output[2*nc+5]=File_size[int(data[0])]\n",
    "    output[2*nc+6]=File_size[int(data[1])]\n",
    "    output[2*nc+7]=Langue[int(data[0])]\n",
    "    output[2*nc+8]=Langue[int(data[1])]\n",
    "    output[2*nc+9]=samelangbutnotenglish(Langue[int(data[0])],Langue[int(data[1])])\n",
    "\n",
    "    output[2*nc+10]=lsi_matrix_initial[int(File_index[int(data[0])]),int(File_index[int(data[1])])]\n",
    "    if (distancevec(vecs_text[data[0]],vecs_text[data[1]])==0) : output[2*nc+11]=0.5985 #Mean distance        \n",
    "    else : output[2*nc+11]=distancevec(vecs_text[data[0]],vecs_text[data[1]])    \n",
    "    \n",
    "    X_umap2.append(output)\n",
    "X_umap2=np.array(X_umap2)"
   ]
  },
  {
   "cell_type": "code",
   "execution_count": 88,
   "metadata": {},
   "outputs": [
    {
     "name": "stdout",
     "output_type": "stream",
     "text": [
      "X_umap2 :  (623940, 7)\n"
     ]
    }
   ],
   "source": [
    "print(\"X_umap2 : \",X_umap2[:,11:19].shape)"
   ]
  },
  {
   "cell_type": "code",
   "execution_count": 93,
   "metadata": {},
   "outputs": [
    {
     "name": "stdout",
     "output_type": "stream",
     "text": [
      "[[ 2.          0.06841828  0.0449011 ]\n",
      " [ 2.          0.00751861  0.53795613]\n",
      " [ 2.          0.00751861  0.53795613]\n",
      " [ 2.          0.00796627  0.48069893]\n",
      " [ 2.          0.00796626  0.48069893]\n",
      " [ 1.          0.18065676  0.92655758]\n",
      " [ 1.          0.18065678  0.92655758]\n",
      " [ 1.          0.33735636  0.88351542]\n",
      " [ 1.          0.33735636  0.88351542]\n",
      " [ 1.          0.47962338  0.98193868]\n",
      " [ 1.          0.13755225  0.9411041 ]\n",
      " [ 1.          0.13755226  0.9411041 ]\n",
      " [ 1.          0.75267833  0.97526429]\n",
      " [ 1.          0.32927722  0.95101161]\n",
      " [ 1.          0.32927722  0.95101161]\n",
      " [ 1.          0.15541735  0.98663681]\n",
      " [ 1.          0.05551898  0.77083145]\n",
      " [ 1.          0.05551898  0.77083145]\n",
      " [ 1.          0.08861412  0.96300303]\n",
      " [ 1.          0.0502474   0.83802388]\n",
      " [ 0.          0.2283576   0.83514299]\n",
      " [ 0.          0.22835758  0.83514299]\n",
      " [ 2.          0.00623724 -0.14013389]\n",
      " [ 0.          0.06409425  0.90653709]\n",
      " [ 0.          0.06409423  0.90653709]\n",
      " [ 2.          0.03167786  0.82831533]\n",
      " [ 1.          0.5344888   0.96109224]\n",
      " [ 1.          0.43459004  0.98834194]\n",
      " [ 2.          0.00864169  0.08716224]\n",
      " [ 2.          0.00864168  0.08716224]\n",
      " [ 1.          0.14794619  0.92254049]\n",
      " [ 1.          0.14794618  0.92254049]\n",
      " [ 2.          0.008105    0.17609379]\n",
      " [ 2.          0.00810494  0.17609379]\n",
      " [ 1.          0.14835101  0.85301578]\n",
      " [ 1.          0.14835104  0.85301578]\n",
      " [ 2.          0.06922522  0.4306032 ]\n",
      " [ 0.          0.13805148  0.91327892]\n",
      " [ 0.          0.13805148  0.91327892]\n",
      " [ 2.          0.01386481  0.01354351]\n",
      " [ 2.          0.0138648   0.01354351]\n",
      " [ 1.          0.1228095   0.88382122]\n",
      " [ 1.          0.12280951  0.88382122]\n",
      " [ 2.         -0.01883567  0.11268552]\n",
      " [ 1.          0.17092153  0.85744035]\n",
      " [ 1.          0.37646094  0.98538228]\n",
      " [ 1.          0.37646094  0.98538228]\n",
      " [ 1.          0.04470242  0.95840255]\n",
      " [ 1.          0.04470243  0.95840255]\n",
      " [ 1.          0.12469266  0.80842765]\n",
      " [ 1.          0.12469266  0.80842765]\n",
      " [ 2.          0.02271361  0.24079806]\n",
      " [ 1.          0.10341911  0.95496938]\n",
      " [ 2.          0.072958    0.68189202]\n",
      " [ 1.          0.17100434  0.93460476]\n",
      " [ 2.          0.00458024  0.5985    ]\n",
      " [ 2.          0.          0.5985    ]\n",
      " [ 1.          0.02833156  0.93272626]\n",
      " [ 1.          0.02833156  0.93272626]\n",
      " [ 2.          0.07199979  0.28032894]\n",
      " [ 0.          0.12951341  0.95124189]\n",
      " [ 0.          0.12951341  0.95124189]\n",
      " [ 2.          0.05574203  0.34105519]\n",
      " [ 1.          0.28012046  0.97281729]\n",
      " [ 1.          0.05266634  0.80174061]\n",
      " [ 1.          0.05266634  0.80174061]\n",
      " [ 1.          0.03989627  0.88676077]\n",
      " [ 1.          0.49528003  0.97024437]\n",
      " [ 2.          0.          0.5985    ]\n",
      " [ 2.         -0.00769788 -0.24088979]]\n"
     ]
    }
   ],
   "source": [
    "print(X_umap2[50:120,15:18])"
   ]
  },
  {
   "cell_type": "markdown",
   "metadata": {},
   "source": [
    "### D.2.3. Save the 7 last colums for Romain's Notebook"
   ]
  },
  {
   "cell_type": "code",
   "execution_count": 94,
   "metadata": {},
   "outputs": [],
   "source": [
    "np.save('./embeddings/trainX_part2',X_umap2[:,11:18])"
   ]
  },
  {
   "cell_type": "markdown",
   "metadata": {},
   "source": [
    "## D.3. Prepare the testing set the same way\n"
   ]
  },
  {
   "cell_type": "markdown",
   "metadata": {},
   "source": [
    "18 Dimensions model"
   ]
  },
  {
   "cell_type": "code",
   "execution_count": null,
   "metadata": {},
   "outputs": [],
   "source": [
    "Xt = []\n",
    "with open(\"testing.txt\", \"r\") as f:\n",
    "    for line in tqdm(f):\n",
    "        data = line.split()\n",
    "\n",
    "        output=zeros(2*nc+12)\n",
    "        data1=Node_umap[nid_to_index[data[0]]]\n",
    "        data2=Node_umap[nid_to_index[data[1]]]\n",
    "        data12=array([data1,data2]).reshape(2*nc)\n",
    "        for j in range (2*nc): output[j]=data12[j]\n",
    "\n",
    "        output[2*nc+0]=DG.in_degree[data[0]]\n",
    "        output[2*nc+1]=DG.out_degree[data[0]]\n",
    "        output[2*nc+2]=DG.in_degree[data[1]]\n",
    "        output[2*nc+3]=DG.out_degree[data[1]]\n",
    "        output[2*nc+4]=get_jc(G, data[0], data[1])\n",
    "        output[2*nc+5]=File_size[int(data[0])]\n",
    "        output[2*nc+6]=File_size[int(data[1])]\n",
    "        output[2*nc+7]=Langue[int(data[0])]\n",
    "        output[2*nc+8]=Langue[int(data[1])]\n",
    "        output[2*nc+9]=samelangbutnotenglish(Langue[int(data[0])],Langue[int(data[1])])\n",
    "        output[2*nc+10]=lsi_matrix_initial[int(File_index[int(data[0])]),int(File_index[int(data[1])])]\n",
    "        if (distancevec(vecs_text[data[0]],vecs_text[data[1]])==0) : output[2*nc+11]=0.5985 #Mean distance        \n",
    "        else : output[2*nc+11]=distancevec(vecs_text[data[0]],vecs_text[data[1]])    \n",
    "        \n",
    "        Xt.append(output)   \n",
    "        \n",
    "Xt = np.array(Xt)"
   ]
  },
  {
   "cell_type": "code",
   "execution_count": 109,
   "metadata": {},
   "outputs": [],
   "source": [
    "np.save('./embeddings/testX_part2',Xt[:,11:18])"
   ]
  },
  {
   "cell_type": "markdown",
   "metadata": {},
   "source": [
    "### D.4. Old 6 Dimensions model\n"
   ]
  },
  {
   "cell_type": "code",
   "execution_count": null,
   "metadata": {},
   "outputs": [],
   "source": [
    "Xt = []\n",
    "with open(\"testing.txt\", \"r\") as f:\n",
    "    for line in tqdm(f):\n",
    "        line = line.split()\n",
    "        #print(line[0],\"   \",line[1])\n",
    "        Xt.append(np.array([Node_umap[nid_to_index[line[0]]],Node_umap[nid_to_index[line[1]]]]).reshape(2*nc))\n",
    "Xt = np.array(Xt)"
   ]
  },
  {
   "cell_type": "code",
   "execution_count": null,
   "metadata": {},
   "outputs": [],
   "source": [
    "print(Xt.shape)"
   ]
  },
  {
   "cell_type": "markdown",
   "metadata": {},
   "source": [
    "# E. TEST DIFFERENT CLASSIFIERS ON THE SIMPLE MODEL"
   ]
  },
  {
   "cell_type": "markdown",
   "metadata": {},
   "source": [
    "To test different classifiers, we just used a 3 dimensions embedding of the Node on the non oriented graph (UMAP with 3 dimensions -> 6 dimensions for each edge). This is very basic but even a simple KNN achieve over 83% accuracy"
   ]
  },
  {
   "cell_type": "markdown",
   "metadata": {},
   "source": [
    "## E.1 Logistic Regression"
   ]
  },
  {
   "cell_type": "code",
   "execution_count": 96,
   "metadata": {},
   "outputs": [
    {
     "name": "stderr",
     "output_type": "stream",
     "text": [
      "\n",
      "12419it [00:29, 768.46it/s]"
     ]
    }
   ],
   "source": [
    "#X_train, X_test, y_train, y_test = train_test_split(X_umap , y, test_size=0.1, random_state=random_state)\n",
    "X_train, X_test, y_train, y_test = train_test_split(X_umap2 , y, test_size=0.1, random_state=random_state)"
   ]
  },
  {
   "cell_type": "code",
   "execution_count": 140,
   "metadata": {},
   "outputs": [],
   "source": [
    "from sklearn import preprocessing\n",
    "from sklearn.linear_model import LogisticRegression\n",
    "import pandas as pd\n",
    "import seaborn as sn"
   ]
  },
  {
   "cell_type": "code",
   "execution_count": 31,
   "metadata": {},
   "outputs": [],
   "source": [
    "logistic_regression= LogisticRegression(solver='lbfgs')\n",
    "logistic_regression.fit(X_train,y_train.reshape(-1))\n",
    "y_pred=logistic_regression.predict(X_test)"
   ]
  },
  {
   "cell_type": "code",
   "execution_count": 32,
   "metadata": {},
   "outputs": [
    {
     "name": "stdout",
     "output_type": "stream",
     "text": [
      "Accuracy LR :  0.6271115812417861\n"
     ]
    }
   ],
   "source": [
    "resultat_LR=np.zeros(y_pred.shape)\n",
    "for i in range(y_pred.shape[0]):\n",
    "    if (y_pred[i]==y_test[i,0]): resultat_LR[i]=1\n",
    "print(\"Accuracy LR : \",np.mean(resultat_LR))"
   ]
  },
  {
   "cell_type": "markdown",
   "metadata": {},
   "source": [
    "Accuracy LR :  0.6271115812417861\n",
    "\n",
    "The accuracy is poor, probably because the central assumption of logistic regression (there is a linear separability of the data) is not met. This is quite logic -> let's try something not linear !"
   ]
  },
  {
   "cell_type": "markdown",
   "metadata": {},
   "source": [
    "## E.2. Guassian Kernel"
   ]
  },
  {
   "cell_type": "markdown",
   "metadata": {},
   "source": [
    "The problem is obvious: we have 623940 datas (90% of them will be in the training set). So the Kernel will have to deal with more than 500000^2 datas. (And the complexity for a SMV is between O(n^2) and O(n^3), n being the number of data.\n",
    "Well, this is impossible to use for us. I wrote the code just to show it clearly on a few part of the training set:"
   ]
  },
  {
   "cell_type": "code",
   "execution_count": 80,
   "metadata": {},
   "outputs": [],
   "source": [
    "def gaussianKernel(X1, X2, sigma = 0.1):\n",
    "    m = X1.shape[0]\n",
    "    K = np.zeros((m,X2.shape[0]))   \n",
    "    for i in range(m):\n",
    "        K[i,:] = np.exp((-(np.linalg.norm(X1[i,:]-X2, axis=1)**2))/(2*sigma**2))\n",
    "    return K"
   ]
  },
  {
   "cell_type": "code",
   "execution_count": 85,
   "metadata": {},
   "outputs": [],
   "source": [
    "K = gaussianKernel\n",
    "maxi=5000"
   ]
  },
  {
   "cell_type": "code",
   "execution_count": 86,
   "metadata": {},
   "outputs": [
    {
     "data": {
      "text/plain": [
       "SVC(C=2.0, cache_size=200, class_weight=None, coef0=0.0,\n",
       "    decision_function_shape='ovr', degree=3, gamma='auto_deprecated',\n",
       "    kernel='linear', max_iter=-1, probability=False, random_state=None,\n",
       "    shrinking=True, tol=0.001, verbose=False)"
      ]
     },
     "execution_count": 86,
     "metadata": {},
     "output_type": "execute_result"
    }
   ],
   "source": [
    "from sklearn.svm import SVC\n",
    "C = 2.0  # SVM regularization parameter\n",
    "svc = SVC(C = C, kernel=\"linear\")\n",
    "svc.fit(K(X_train[0:maxi,],X_train[0:maxi,]),y_train[0:maxi,].reshape(-1))"
   ]
  },
  {
   "cell_type": "code",
   "execution_count": 301,
   "metadata": {},
   "outputs": [
    {
     "ename": "NameError",
     "evalue": "name 'svc' is not defined",
     "output_type": "error",
     "traceback": [
      "\u001b[1;31m---------------------------------------------------------------------------\u001b[0m",
      "\u001b[1;31mNameError\u001b[0m                                 Traceback (most recent call last)",
      "\u001b[1;32m<ipython-input-301-583623635d83>\u001b[0m in \u001b[0;36m<module>\u001b[1;34m\u001b[0m\n\u001b[1;32m----> 1\u001b[1;33m \u001b[0my_pred\u001b[0m \u001b[1;33m=\u001b[0m \u001b[0msvc\u001b[0m\u001b[1;33m.\u001b[0m\u001b[0mpredict\u001b[0m\u001b[1;33m(\u001b[0m\u001b[0mK\u001b[0m\u001b[1;33m(\u001b[0m\u001b[0mX_test\u001b[0m\u001b[1;33m[\u001b[0m\u001b[1;36m0\u001b[0m\u001b[1;33m:\u001b[0m\u001b[0mmaxi\u001b[0m\u001b[1;33m,\u001b[0m\u001b[1;33m]\u001b[0m\u001b[1;33m,\u001b[0m\u001b[0mX_train\u001b[0m\u001b[1;33m[\u001b[0m\u001b[1;36m0\u001b[0m\u001b[1;33m:\u001b[0m\u001b[0mmaxi\u001b[0m\u001b[1;33m,\u001b[0m\u001b[1;33m]\u001b[0m\u001b[1;33m)\u001b[0m\u001b[1;33m)\u001b[0m\u001b[1;33m\u001b[0m\u001b[1;33m\u001b[0m\u001b[0m\n\u001b[0m",
      "\u001b[1;31mNameError\u001b[0m: name 'svc' is not defined"
     ]
    }
   ],
   "source": [
    "y_pred = svc.predict(K(X_test[0:maxi,],X_train[0:maxi,]))"
   ]
  },
  {
   "cell_type": "code",
   "execution_count": 88,
   "metadata": {},
   "outputs": [
    {
     "name": "stdout",
     "output_type": "stream",
     "text": [
      "Accuracy Guassian Kernel avec Kernel calculé sur  5000 / 561546  données :  0.6148\n"
     ]
    }
   ],
   "source": [
    "resultat_LR=np.zeros(y_pred.shape)\n",
    "for i in range(y_pred.shape[0]):\n",
    "    if (y_pred[i]==y_test[i,0]): resultat_LR[i]=1\n",
    "print(\"Accuracy Guassian Kernel avec Kernel calculé sur \",maxi,\"/\",X_train.shape[0],\" données : \",np.mean(resultat_LR))"
   ]
  },
  {
   "cell_type": "markdown",
   "metadata": {},
   "source": [
    "Accuracy Guassian Kernel avec Kernel calculé sur  1000 / 561546  données :  0.565\n",
    "Accuracy Guassian Kernel avec Kernel calculé sur  5000 / 561546  données :  0.6148\n",
    "... Not so bad for such a small training set... \n",
    "But even with 5000 datas from the training set, I have to wait over two minutes.\n",
    "The dataset is much to wide for a Kernel method!\n",
    "\n",
    "At least, we achieve a better accuracy with only 1% of the training set and a gaussian kernel... then with all the dataset and a logistic regression proving that the data are definitly not linearly separated!"
   ]
  },
  {
   "cell_type": "markdown",
   "metadata": {},
   "source": [
    "## E.3. KNN algorithm sur Node embedding simple en 3*2 dimensions"
   ]
  },
  {
   "cell_type": "markdown",
   "metadata": {},
   "source": [
    "Let's therefore try something quite good is such a case : a KNN"
   ]
  },
  {
   "cell_type": "code",
   "execution_count": 14,
   "metadata": {},
   "outputs": [],
   "source": [
    "# Normalisation of the data first -> Useless because knn.fit does it !\n",
    "#X_train2=X_train-np.mean(X_train,axis=0)\n",
    "#X_train3=X_train2\n",
    "#X_test2 =X_test -np.mean(X_train,axis=0)\n",
    "#X_test3=X_test2\n",
    "#for i in range(2*nc):\n",
    "#    X_train3[:,i]=X_train2[:,i]/np.std(X_train,axis=0)[i]\n",
    "#    X_test3 [:,i]=X_test2[:,i]/np.std(X_train,axis=0)[i]"
   ]
  },
  {
   "cell_type": "code",
   "execution_count": 115,
   "metadata": {},
   "outputs": [
    {
     "ename": "NameError",
     "evalue": "name 'X_train' is not defined",
     "output_type": "error",
     "traceback": [
      "\u001b[1;31m---------------------------------------------------------------------------\u001b[0m",
      "\u001b[1;31mNameError\u001b[0m                                 Traceback (most recent call last)",
      "\u001b[1;32m<ipython-input-115-6af37428545b>\u001b[0m in \u001b[0;36m<module>\u001b[1;34m\u001b[0m\n\u001b[0;32m      2\u001b[0m \u001b[1;32mfrom\u001b[0m \u001b[0msklearn\u001b[0m\u001b[1;33m.\u001b[0m\u001b[0mneighbors\u001b[0m \u001b[1;32mimport\u001b[0m \u001b[0mKNeighborsClassifier\u001b[0m\u001b[1;33m\u001b[0m\u001b[1;33m\u001b[0m\u001b[0m\n\u001b[0;32m      3\u001b[0m \u001b[0mknn\u001b[0m \u001b[1;33m=\u001b[0m \u001b[0mKNeighborsClassifier\u001b[0m\u001b[1;33m(\u001b[0m\u001b[0mn_neighbors\u001b[0m\u001b[1;33m=\u001b[0m\u001b[0mn_neighbors\u001b[0m\u001b[1;33m)\u001b[0m\u001b[1;33m\u001b[0m\u001b[1;33m\u001b[0m\u001b[0m\n\u001b[1;32m----> 4\u001b[1;33m \u001b[0mknn\u001b[0m\u001b[1;33m.\u001b[0m\u001b[0mfit\u001b[0m\u001b[1;33m(\u001b[0m\u001b[0mX_train\u001b[0m\u001b[1;33m,\u001b[0m \u001b[0my_train\u001b[0m\u001b[1;33m.\u001b[0m\u001b[0mreshape\u001b[0m\u001b[1;33m(\u001b[0m\u001b[1;33m-\u001b[0m\u001b[1;36m1\u001b[0m\u001b[1;33m)\u001b[0m\u001b[1;33m)\u001b[0m\u001b[1;33m\u001b[0m\u001b[1;33m\u001b[0m\u001b[0m\n\u001b[0m\u001b[0;32m      5\u001b[0m \u001b[0mypred\u001b[0m\u001b[1;33m=\u001b[0m\u001b[0mknn\u001b[0m\u001b[1;33m.\u001b[0m\u001b[0mpredict\u001b[0m\u001b[1;33m(\u001b[0m\u001b[0mX_test\u001b[0m\u001b[1;33m)\u001b[0m\u001b[1;33m\u001b[0m\u001b[1;33m\u001b[0m\u001b[0m\n",
      "\u001b[1;31mNameError\u001b[0m: name 'X_train' is not defined"
     ]
    }
   ],
   "source": [
    "n_neighbors=11\n",
    "from sklearn.neighbors import KNeighborsClassifier \n",
    "knn = KNeighborsClassifier(n_neighbors=n_neighbors)\n",
    "knn.fit(X_train, y_train.reshape(-1)) \n",
    "ypred=knn.predict(X_test)"
   ]
  },
  {
   "cell_type": "code",
   "execution_count": 225,
   "metadata": {},
   "outputs": [
    {
     "name": "stdout",
     "output_type": "stream",
     "text": [
      "Accuracy KNN with 11 neighbors :  0.8987883450331763\n"
     ]
    }
   ],
   "source": [
    "resultat=np.zeros(ypred.shape)\n",
    "for i in range(ypred.shape[0]):\n",
    "    if (ypred[i]==y_test[i,0]): resultat[i]=1\n",
    "print(\"Accuracy KNN with\",n_neighbors, \"neighbors : \",np.mean(resultat))"
   ]
  },
  {
   "cell_type": "markdown",
   "metadata": {},
   "source": [
    "Some results for differents n on the 6 dimensions model :\n",
    "\n",
    "Accuracy KNN with 3 neighbors :  0.8286213417956855\n",
    "\n",
    "Accuracy KNN with 7 neighbors :  0.836843286213418\n",
    "\n",
    "Accuracy KNN with 9 neighbors :  0.837756835593166\n",
    "\n",
    "**Accuracy KNN with 11 neighbors :  0.8383177869666956**\n",
    "\n",
    "Accuracy KNN with 13 neighbors :  0.8381094335993845\n",
    "\n",
    "Accuracy KNN with 15 neighbors :  0.837756835593166\n",
    "\n",
    "Accuracy KNN with 21 neighbors :  0.8362502804756867\n",
    "\n",
    "Accuracy KNN with 51 neighbors :  0.83060871237619\n",
    "\n",
    "\n",
    "(Warning : lower accuracy if I had the size of the file to the features : down to 0.675)\n",
    "\n",
    "Modèle à 14 dimensions donne : Accuracy KNN with 11 neighbors :  0.8987883450331763"
   ]
  },
  {
   "cell_type": "markdown",
   "metadata": {},
   "source": [
    "## E.4. Ramdom forest (several decision trees)"
   ]
  },
  {
   "cell_type": "code",
   "execution_count": 97,
   "metadata": {},
   "outputs": [
    {
     "data": {
      "text/plain": [
       "RandomForestRegressor(bootstrap=True, criterion='mse', max_depth=None,\n",
       "                      max_features='auto', max_leaf_nodes=None,\n",
       "                      min_impurity_decrease=0.0, min_impurity_split=None,\n",
       "                      min_samples_leaf=1, min_samples_split=2,\n",
       "                      min_weight_fraction_leaf=0.0, n_estimators=9, n_jobs=None,\n",
       "                      oob_score=False, random_state=42, verbose=0,\n",
       "                      warm_start=False)"
      ]
     },
     "execution_count": 97,
     "metadata": {},
     "output_type": "execute_result"
    }
   ],
   "source": [
    "from sklearn.ensemble import RandomForestRegressor\n",
    "n_estimators=9\n",
    "maxi1=X_train.shape[0] #To test the complexity of the algo but finally all the training set\n",
    "\n",
    "rf = RandomForestRegressor(n_estimators = n_estimators, random_state = random_state)\n",
    "rf.fit(X_train[0:maxi1,], y_train[0:maxi1,].reshape(-1))"
   ]
  },
  {
   "cell_type": "code",
   "execution_count": 98,
   "metadata": {},
   "outputs": [],
   "source": [
    "maxi2=X_test.shape[0]\n",
    "ypred = rf.predict(X_test[0:maxi2,])\n",
    "ypred[ypred>0.5]=1\n",
    "ypred[ypred<=0.5]=0"
   ]
  },
  {
   "cell_type": "code",
   "execution_count": 99,
   "metadata": {},
   "outputs": [
    {
     "name": "stdout",
     "output_type": "stream",
     "text": [
      "Accuracy Random Forest with 9 trees and 561546 data in the training set : 0.9292720453889797\n"
     ]
    }
   ],
   "source": [
    "resultat=np.zeros(ypred.shape)\n",
    "for i in range(ypred.shape[0]):\n",
    "    if (ypred[i]==y_test[i,0]): resultat[i]=1\n",
    "print(\"Accuracy Random Forest with\",n_estimators, \"trees and\", maxi1,\"data in the training set :\",np.mean(resultat))"
   ]
  },
  {
   "cell_type": "markdown",
   "metadata": {},
   "source": [
    "INITIAL WORK WITH THE 6 DIM MODEL (with add_sym=True and and_sym2=False):\n",
    "\n",
    "Accuracy Random Forest with 20 trees and 1000 data in the training set : 0.775\n",
    "\n",
    "Accuracy Random Forest with 20 trees and 5000 data in the training set : 0.802\n",
    "\n",
    "Accuracy Random Forest with 20 trees and 20000 data in the training set : 0.826\n",
    "\n",
    "Accuracy Random Forest with 20 trees and 561546 data in the training set : 0.87745616\n",
    "Accuracy Random Forest with 20 trees and 816806 data in the training set : 0.8618 (add_sym2=True)\n",
    "\n",
    "\n",
    "**Accuracy Random Forest with 100 trees and 561546 data in the training set : 0.8801**"
   ]
  },
  {
   "cell_type": "markdown",
   "metadata": {},
   "source": [
    "### Important for the report later on: here are the results of the progressivly for complex model we ran. We kept all the variations, be careful while reading..."
   ]
  },
  {
   "cell_type": "markdown",
   "metadata": {},
   "source": [
    "EVERYTHING SO FAR WAS DONE WITH (with add_sym=True and and_sym2=False)\n",
    "\n",
    "MODEL WITH 6 PARAMETERS (6 UMAP) :\n",
    "- Accuracy Random Forest with 20 trees and 561546 data in the training set : 0.875\n",
    "\n",
    "MODEL WITH 7/8 PARAMETERS (6 UMAP + 1 or 2 info about the text) :\n",
    "- Accuracy Random Forest with 20 trees and 561546 data in the training set : 0.8921370644613265 (LSI with 50 000 caracters)\n",
    "- Accuracy Random Forest with 20 trees and 561546 data in the training set : 0.8833701958521653 (Distance produit scalaire sur le Word2Vec de Martin - Distance mise à 0 qd l'un des vecteurs est nul)\n",
    "- Accuracy Random Forest with 20 trees and 561546 data in the training set : 0.883706766676283 (Distance produit scalaire sur le Word2Vec de Martin - Distance mise à 0.5985 soit la moeynne générale quand l'un des vecteurs est nul)\n",
    "- Accuracy Random Forest with 20 trees and 561546 data in the training set : 0.8935474564862006 (LSI 50 000 + Distance Produit scalaire)\n",
    "- Accuracy Random Forest with 100 trees and 561546 data in the training set : 0.925970445876206 (18 dimensions Berk)\n",
    "\n",
    "\n",
    "MODEL WITH 8 PARAMETERS (6 UMAP + 2 Size of File) :\n",
    "- Accuracy Random Forest with 100 trees and 561546 data in the training set : 0.8866\n",
    "\n",
    "MODEL WITH 8 or 9 PARAMETERS (6 UMAP + 2 or 3 Language of File) :\n",
    "- Accuracy Random Forest with 20 trees and 561546 data in the training set : 0.8804211943456102\n",
    "- (3 : had samelangbutnotenglish) Accuracy Random Forest with 20 trees and 561546 data in the training set : 0.0.880837901080232\n",
    "\n",
    "\n",
    "MODEL WITH 10 PARAMETERS (6 UMAP + 4 Degres):\n",
    "- Accuracy Random Forest with 20 trees and 561546 data in the training set : 0.9017\n",
    "\n",
    "MODEL WITH 11 PARAMETERS (6 UMAP + 4 Degres + 1 Jacquart):\n",
    "- Accuracy Random Forest with 20 trees and 561546 data in the training set : 0.9187\n",
    "\n",
    "MODEL WITH 13 PARAMETERS (6 UMAP + 4 Degres + 1 Jacquart + 2 Filesize):\n",
    "- Accuracy Random Forest with 20 trees and 561546 data in the training set : 0.9216\n",
    "\n",
    "MODEL WITH 15 PARAMETERS (8 UMAP + 4 Degres + 1 Jacquart + 2 Filesize):\n",
    "- Accuracy Random Forest with 20 trees and 561546 data in the training set : 0.9212\n",
    "\n",
    "MODEL WITH 27 PARAMETERS (20 UMAP + 4 Degres + 1 Jacquart + 2 Filesize):\n",
    "- Accuracy Random Forest with 20 trees and 561546 data in the training set : 0.9213 \n",
    "\n",
    "DONC IL SEMBLE QUE UMAP EN DIMENSTION 3 C'EST TRES BIEN !\n",
    "\n",
    "MODEL WITH 14 PARAMETERS (6 UMAP + 4 Degres + 1 Jacquart + 2 Filesize +  LSI_everyfile_on_the_same_language):\n",
    "- Accuracy Random Forest with 20 trees and 561546 data in the training set : 0.9292 (text not redressed)\n",
    "- Accuracy Random Forest with 20 trees and 561546 data in the training set : 0.9296 (text redressed)\n",
    "- Accuracy Random Forest with 100 trees and 561546 data in the training set : 0.9321 (0.91186 on Kaggle)\n",
    "\n",
    "MODEL WITH 17 PARAMETERS (6 UMAP + 4 Degres + 1 Jacquart + 2 Filesize +  3 Language of files + 1 LSI_everyfile_on_the_same_language):\n",
    "- Accuracy Random Forest with 20 trees and 561546 data in the training set : 0.9315\n",
    "- Accuracy Random Forest with 20 trees and 561546 data in the training set : 0.9325576177196525 (LSI on 50 000 caracters)\n",
    "- Accuracy Random Forest with 100 trees and 561546 data in the training set : 0.9356 (0.91390 on Kaggle)\n",
    "- Accuracy Random Forest with 100 trees and 561546 data in the training set : 0.93492 (LSI on 50 000 caracters -> 0.91669 on Kaggle)\n",
    "\n",
    "MODEL WITH 18 PARAMETERS (6 UMAP + 4 Degres + 1 Jacquart + 2 Filesize +  3 Language of files + 1 LSI_everyfile_on_the_same_language + 1 distance produit scalaire) :\n",
    "- Accuracy Random Forest with 100 trees and 561546 data in the training set : 0.925970445876206 (jeu de données erronées du 28/12/2019 à 13h)\n",
    "- Accuracy Random Forest with 100 trees and 561546 data in the training set : 0.9353944289515017 (jeu de données corrigé du 28/12/2019 à 15h40) -> Kaggle 91.743\n",
    "\n",
    "\n",
    "\n",
    "\n",
    "OLD STUFF:\n",
    "MODEL WITH 18 PARAMETERS (6 UMAP + 4 Degres + 1 Jacquart + 2 Filesize +  3 Language of files + 1 LSI_everyfile_on_the_same_language + 1 LSI with different languages):\n",
    "- Accuracy Random Forest with 100 trees and 561546 data in the training set : 0.9334871942815014\n",
    "- Accuracy Random Forest with 20 trees and 561546 data in the training set : 0.930650 with LSI2 set to LSI1 when LSI2 was not calculated (was to 0.1) donc on oublie définitivement LSI avec plusieurs langagues."
   ]
  },
  {
   "cell_type": "markdown",
   "metadata": {},
   "source": [
    "## E.5. Simple Neural Network"
   ]
  },
  {
   "cell_type": "code",
   "execution_count": 62,
   "metadata": {},
   "outputs": [],
   "source": [
    "import tensorflow as tf\n",
    "import tensorflow.keras.backend as K\n",
    "from tensorflow.keras.optimizers import RMSprop\n",
    "\n",
    "def simple_model():\n",
    "    model = tf.keras.Sequential([\n",
    "        tf.keras.layers.Input((2*nc,)),\n",
    "        tf.keras.layers.Dense(128, activation='relu'),\n",
    "        tf.keras.layers.Dense(2, activation='softmax')\n",
    "    ])\n",
    "    return model\n",
    "\n",
    "model = simple_model()"
   ]
  },
  {
   "cell_type": "code",
   "execution_count": 63,
   "metadata": {},
   "outputs": [
    {
     "name": "stdout",
     "output_type": "stream",
     "text": [
      "Model: \"sequential\"\n",
      "_________________________________________________________________\n",
      "Layer (type)                 Output Shape              Param #   \n",
      "=================================================================\n",
      "dense (Dense)                (None, 128)               896       \n",
      "_________________________________________________________________\n",
      "dense_1 (Dense)              (None, 2)                 258       \n",
      "=================================================================\n",
      "Total params: 1,154\n",
      "Trainable params: 1,154\n",
      "Non-trainable params: 0\n",
      "_________________________________________________________________\n"
     ]
    }
   ],
   "source": [
    "model.summary()"
   ]
  },
  {
   "cell_type": "code",
   "execution_count": 64,
   "metadata": {},
   "outputs": [],
   "source": [
    "#tf.keras.utils.plot_model(model, show_shapes=True)"
   ]
  },
  {
   "cell_type": "code",
   "execution_count": 65,
   "metadata": {},
   "outputs": [],
   "source": [
    "model.compile(optimizer=RMSprop(lr=0.001, rho=0.9),\n",
    "              loss='sparse_categorical_crossentropy',\n",
    "              metrics=['accuracy'])"
   ]
  },
  {
   "cell_type": "code",
   "execution_count": 66,
   "metadata": {},
   "outputs": [
    {
     "name": "stdout",
     "output_type": "stream",
     "text": [
      "Train on 561546 samples, validate on 62394 samples\n",
      "Epoch 1/5\n",
      "176608/561546 [========>.....................] - ETA: 2:49:01 - loss: 0.8551 - accuracy: 0.593 - ETA: 5:39 - loss: 0.7598 - accuracy: 0.5587  - ETA: 3:18 - loss: 0.7164 - accuracy: 0.59 - ETA: 2:15 - loss: 0.6870 - accuracy: 0.60 - ETA: 1:47 - loss: 0.6760 - accuracy: 0.61 - ETA: 1:30 - loss: 0.6633 - accuracy: 0.62 - ETA: 1:16 - loss: 0.6582 - accuracy: 0.63 - ETA: 1:11 - loss: 0.6531 - accuracy: 0.63 - ETA: 1:07 - loss: 0.6488 - accuracy: 0.64 - ETA: 1:03 - loss: 0.6462 - accuracy: 0.64 - ETA: 1:00 - loss: 0.6435 - accuracy: 0.64 - ETA: 56s - loss: 0.6424 - accuracy: 0.6436 - ETA: 54s - loss: 0.6402 - accuracy: 0.643 - ETA: 52s - loss: 0.6385 - accuracy: 0.645 - ETA: 50s - loss: 0.6374 - accuracy: 0.646 - ETA: 48s - loss: 0.6355 - accuracy: 0.648 - ETA: 47s - loss: 0.6329 - accuracy: 0.651 - ETA: 46s - loss: 0.6320 - accuracy: 0.651 - ETA: 45s - loss: 0.6321 - accuracy: 0.652 - ETA: 44s - loss: 0.6305 - accuracy: 0.653 - ETA: 43s - loss: 0.6294 - accuracy: 0.653 - ETA: 42s - loss: 0.6271 - accuracy: 0.656 - ETA: 41s - loss: 0.6267 - accuracy: 0.657 - ETA: 41s - loss: 0.6253 - accuracy: 0.659 - ETA: 40s - loss: 0.6261 - accuracy: 0.659 - ETA: 40s - loss: 0.6254 - accuracy: 0.659 - ETA: 40s - loss: 0.6244 - accuracy: 0.660 - ETA: 40s - loss: 0.6236 - accuracy: 0.661 - ETA: 40s - loss: 0.6233 - accuracy: 0.661 - ETA: 40s - loss: 0.6228 - accuracy: 0.662 - ETA: 40s - loss: 0.6226 - accuracy: 0.662 - ETA: 40s - loss: 0.6224 - accuracy: 0.662 - ETA: 40s - loss: 0.6221 - accuracy: 0.662 - ETA: 40s - loss: 0.6208 - accuracy: 0.663 - ETA: 40s - loss: 0.6198 - accuracy: 0.664 - ETA: 39s - loss: 0.6193 - accuracy: 0.664 - ETA: 39s - loss: 0.6192 - accuracy: 0.665 - ETA: 39s - loss: 0.6187 - accuracy: 0.665 - ETA: 38s - loss: 0.6184 - accuracy: 0.666 - ETA: 38s - loss: 0.6180 - accuracy: 0.667 - ETA: 38s - loss: 0.6178 - accuracy: 0.667 - ETA: 38s - loss: 0.6177 - accuracy: 0.667 - ETA: 38s - loss: 0.6173 - accuracy: 0.668 - ETA: 37s - loss: 0.6169 - accuracy: 0.669 - ETA: 37s - loss: 0.6166 - accuracy: 0.669 - ETA: 37s - loss: 0.6159 - accuracy: 0.670 - ETA: 36s - loss: 0.6153 - accuracy: 0.670 - ETA: 36s - loss: 0.6145 - accuracy: 0.671 - ETA: 36s - loss: 0.6140 - accuracy: 0.671 - ETA: 36s - loss: 0.6136 - accuracy: 0.672 - ETA: 36s - loss: 0.6136 - accuracy: 0.672 - ETA: 35s - loss: 0.6133 - accuracy: 0.672 - ETA: 35s - loss: 0.6136 - accuracy: 0.672 - ETA: 35s - loss: 0.6130 - accuracy: 0.672 - ETA: 35s - loss: 0.6129 - accuracy: 0.672 - ETA: 35s - loss: 0.6122 - accuracy: 0.673 - ETA: 34s - loss: 0.6120 - accuracy: 0.673 - ETA: 34s - loss: 0.6118 - accuracy: 0.673 - ETA: 34s - loss: 0.6115 - accuracy: 0.674 - ETA: 35s - loss: 0.6111 - accuracy: 0.674 - ETA: 35s - loss: 0.6108 - accuracy: 0.674 - ETA: 35s - loss: 0.6106 - accuracy: 0.675 - ETA: 35s - loss: 0.6106 - accuracy: 0.675 - ETA: 35s - loss: 0.6103 - accuracy: 0.675 - ETA: 35s - loss: 0.6099 - accuracy: 0.676 - ETA: 35s - loss: 0.6097 - accuracy: 0.676 - ETA: 35s - loss: 0.6093 - accuracy: 0.677 - ETA: 35s - loss: 0.6093 - accuracy: 0.677 - ETA: 35s - loss: 0.6090 - accuracy: 0.677 - ETA: 36s - loss: 0.6089 - accuracy: 0.677 - ETA: 36s - loss: 0.6091 - accuracy: 0.677 - ETA: 36s - loss: 0.6087 - accuracy: 0.677 - ETA: 36s - loss: 0.6086 - accuracy: 0.677 - ETA: 35s - loss: 0.6084 - accuracy: 0.677 - ETA: 35s - loss: 0.6081 - accuracy: 0.677 - ETA: 35s - loss: 0.6080 - accuracy: 0.678 - ETA: 35s - loss: 0.6079 - accuracy: 0.678 - ETA: 34s - loss: 0.6075 - accuracy: 0.678 - ETA: 34s - loss: 0.6072 - accuracy: 0.679 - ETA: 34s - loss: 0.6069 - accuracy: 0.679 - ETA: 34s - loss: 0.6068 - accuracy: 0.679 - ETA: 34s - loss: 0.6069 - accuracy: 0.679 - ETA: 34s - loss: 0.6065 - accuracy: 0.679 - ETA: 34s - loss: 0.6064 - accuracy: 0.679 - ETA: 34s - loss: 0.6061 - accuracy: 0.680 - ETA: 33s - loss: 0.6060 - accuracy: 0.680 - ETA: 33s - loss: 0.6058 - accuracy: 0.680 - ETA: 33s - loss: 0.6056 - accuracy: 0.680 - ETA: 33s - loss: 0.6054 - accuracy: 0.680 - ETA: 33s - loss: 0.6051 - accuracy: 0.680 - ETA: 33s - loss: 0.6047 - accuracy: 0.681 - ETA: 33s - loss: 0.6047 - accuracy: 0.681 - ETA: 33s - loss: 0.6044 - accuracy: 0.681 - ETA: 33s - loss: 0.6043 - accuracy: 0.681 - ETA: 32s - loss: 0.6042 - accuracy: 0.682 - ETA: 32s - loss: 0.6039 - accuracy: 0.682 - ETA: 32s - loss: 0.6039 - accuracy: 0.682 - ETA: 32s - loss: 0.6036 - accuracy: 0.682 - ETA: 32s - loss: 0.6032 - accuracy: 0.683 - ETA: 32s - loss: 0.6029 - accuracy: 0.683 - ETA: 32s - loss: 0.6027 - accuracy: 0.683 - ETA: 32s - loss: 0.6024 - accuracy: 0.683 - ETA: 32s - loss: 0.6021 - accuracy: 0.684 - ETA: 32s - loss: 0.6019 - accuracy: 0.684 - ETA: 32s - loss: 0.6018 - accuracy: 0.684 - ETA: 31s - loss: 0.6018 - accuracy: 0.684 - ETA: 31s - loss: 0.6015 - accuracy: 0.685 - ETA: 31s - loss: 0.6013 - accuracy: 0.685 - ETA: 31s - loss: 0.6012 - accuracy: 0.685 - ETA: 31s - loss: 0.6012 - accuracy: 0.685 - ETA: 31s - loss: 0.6010 - accuracy: 0.685 - ETA: 31s - loss: 0.6006 - accuracy: 0.686 - ETA: 31s - loss: 0.6006 - accuracy: 0.686 - ETA: 31s - loss: 0.6002 - accuracy: 0.686 - ETA: 31s - loss: 0.5999 - accuracy: 0.687 - ETA: 31s - loss: 0.5998 - accuracy: 0.687 - ETA: 30s - loss: 0.5996 - accuracy: 0.687 - ETA: 30s - loss: 0.5994 - accuracy: 0.687 - ETA: 30s - loss: 0.5991 - accuracy: 0.687 - ETA: 30s - loss: 0.5987 - accuracy: 0.688 - ETA: 30s - loss: 0.5985 - accuracy: 0.688 - ETA: 30s - loss: 0.5983 - accuracy: 0.688 - ETA: 30s - loss: 0.5981 - accuracy: 0.688 - ETA: 30s - loss: 0.5979 - accuracy: 0.688 - ETA: 30s - loss: 0.5977 - accuracy: 0.689 - ETA: 29s - loss: 0.5975 - accuracy: 0.689 - ETA: 29s - loss: 0.5973 - accuracy: 0.689 - ETA: 29s - loss: 0.5971 - accuracy: 0.689 - ETA: 29s - loss: 0.5970 - accuracy: 0.689 - ETA: 29s - loss: 0.5967 - accuracy: 0.690 - ETA: 29s - loss: 0.5966 - accuracy: 0.690 - ETA: 29s - loss: 0.5964 - accuracy: 0.690 - ETA: 29s - loss: 0.5962 - accuracy: 0.690 - ETA: 29s - loss: 0.5959 - accuracy: 0.690 - ETA: 29s - loss: 0.5956 - accuracy: 0.690 - ETA: 29s - loss: 0.5954 - accuracy: 0.691 - ETA: 28s - loss: 0.5950 - accuracy: 0.691 - ETA: 28s - loss: 0.5948 - accuracy: 0.691 - ETA: 28s - loss: 0.5948 - accuracy: 0.692 - ETA: 28s - loss: 0.5945 - accuracy: 0.692 - ETA: 28s - loss: 0.5943 - accuracy: 0.692 - ETA: 28s - loss: 0.5942 - accuracy: 0.692 - ETA: 28s - loss: 0.5943 - accuracy: 0.692 - ETA: 28s - loss: 0.5941 - accuracy: 0.693 - ETA: 28s - loss: 0.5942 - accuracy: 0.693 - ETA: 28s - loss: 0.5940 - accuracy: 0.693 - ETA: 28s - loss: 0.5936 - accuracy: 0.693 - ETA: 28s - loss: 0.5933 - accuracy: 0.693 - ETA: 28s - loss: 0.5930 - accuracy: 0.694 - ETA: 28s - loss: 0.5929 - accuracy: 0.694 - ETA: 27s - loss: 0.5927 - accuracy: 0.694 - ETA: 27s - loss: 0.5924 - accuracy: 0.694 - ETA: 27s - loss: 0.5922 - accuracy: 0.694 - ETA: 27s - loss: 0.5920 - accuracy: 0.695 - ETA: 27s - loss: 0.5917 - accuracy: 0.695 - ETA: 27s - loss: 0.5915 - accuracy: 0.695 - ETA: 27s - loss: 0.5914 - accuracy: 0.695 - ETA: 27s - loss: 0.5913 - accuracy: 0.695 - ETA: 27s - loss: 0.5910 - accuracy: 0.696 - ETA: 27s - loss: 0.5909 - accuracy: 0.696 - ETA: 27s - loss: 0.5907 - accuracy: 0.696 - ETA: 27s - loss: 0.5907 - accuracy: 0.696 - ETA: 26s - loss: 0.5905 - accuracy: 0.696 - ETA: 26s - loss: 0.5900 - accuracy: 0.697 - ETA: 26s - loss: 0.5897 - accuracy: 0.697 - ETA: 26s - loss: 0.5896 - accuracy: 0.697 - ETA: 26s - loss: 0.5894 - accuracy: 0.697 - ETA: 26s - loss: 0.5891 - accuracy: 0.697 - ETA: 26s - loss: 0.5890 - accuracy: 0.698 - ETA: 26s - loss: 0.5888 - accuracy: 0.698 - ETA: 26s - loss: 0.5886 - accuracy: 0.698 - ETA: 26s - loss: 0.5884 - accuracy: 0.698 - ETA: 26s - loss: 0.5882 - accuracy: 0.698 - ETA: 26s - loss: 0.5881 - accuracy: 0.698 - ETA: 26s - loss: 0.5880 - accuracy: 0.698 - ETA: 26s - loss: 0.5878 - accuracy: 0.699 - ETA: 26s - loss: 0.5876 - accuracy: 0.699 - ETA: 26s - loss: 0.5874 - accuracy: 0.699 - ETA: 26s - loss: 0.5872 - accuracy: 0.699 - ETA: 25s - loss: 0.5870 - accuracy: 0.699 - ETA: 25s - loss: 0.5869 - accuracy: 0.700 - ETA: 25s - loss: 0.5867 - accuracy: 0.700 - ETA: 25s - loss: 0.5865 - accuracy: 0.700 - ETA: 25s - loss: 0.5864 - accuracy: 0.700346912/561546 [=================>............] - ETA: 25s - loss: 0.5863 - accuracy: 0.700 - ETA: 25s - loss: 0.5861 - accuracy: 0.700 - ETA: 25s - loss: 0.5859 - accuracy: 0.700 - ETA: 25s - loss: 0.5859 - accuracy: 0.700 - ETA: 25s - loss: 0.5856 - accuracy: 0.701 - ETA: 25s - loss: 0.5854 - accuracy: 0.701 - ETA: 25s - loss: 0.5851 - accuracy: 0.701 - ETA: 25s - loss: 0.5850 - accuracy: 0.701 - ETA: 25s - loss: 0.5848 - accuracy: 0.701 - ETA: 25s - loss: 0.5848 - accuracy: 0.701 - ETA: 25s - loss: 0.5847 - accuracy: 0.702 - ETA: 25s - loss: 0.5846 - accuracy: 0.702 - ETA: 25s - loss: 0.5844 - accuracy: 0.702 - ETA: 24s - loss: 0.5842 - accuracy: 0.702 - ETA: 24s - loss: 0.5840 - accuracy: 0.702 - ETA: 24s - loss: 0.5838 - accuracy: 0.702 - ETA: 24s - loss: 0.5836 - accuracy: 0.703 - ETA: 24s - loss: 0.5835 - accuracy: 0.703 - ETA: 24s - loss: 0.5834 - accuracy: 0.703 - ETA: 24s - loss: 0.5831 - accuracy: 0.703 - ETA: 24s - loss: 0.5829 - accuracy: 0.703 - ETA: 24s - loss: 0.5828 - accuracy: 0.703 - ETA: 24s - loss: 0.5824 - accuracy: 0.704 - ETA: 24s - loss: 0.5823 - accuracy: 0.704 - ETA: 24s - loss: 0.5821 - accuracy: 0.704 - ETA: 23s - loss: 0.5819 - accuracy: 0.704 - ETA: 23s - loss: 0.5817 - accuracy: 0.704 - ETA: 23s - loss: 0.5814 - accuracy: 0.704 - ETA: 23s - loss: 0.5812 - accuracy: 0.705 - ETA: 23s - loss: 0.5811 - accuracy: 0.705 - ETA: 23s - loss: 0.5810 - accuracy: 0.705 - ETA: 23s - loss: 0.5809 - accuracy: 0.705 - ETA: 23s - loss: 0.5808 - accuracy: 0.705 - ETA: 23s - loss: 0.5807 - accuracy: 0.705 - ETA: 23s - loss: 0.5803 - accuracy: 0.705 - ETA: 23s - loss: 0.5801 - accuracy: 0.705 - ETA: 22s - loss: 0.5800 - accuracy: 0.706 - ETA: 22s - loss: 0.5798 - accuracy: 0.706 - ETA: 22s - loss: 0.5797 - accuracy: 0.706 - ETA: 22s - loss: 0.5794 - accuracy: 0.706 - ETA: 22s - loss: 0.5791 - accuracy: 0.706 - ETA: 22s - loss: 0.5789 - accuracy: 0.706 - ETA: 22s - loss: 0.5787 - accuracy: 0.707 - ETA: 22s - loss: 0.5786 - accuracy: 0.707 - ETA: 22s - loss: 0.5785 - accuracy: 0.707 - ETA: 22s - loss: 0.5783 - accuracy: 0.707 - ETA: 22s - loss: 0.5780 - accuracy: 0.707 - ETA: 22s - loss: 0.5779 - accuracy: 0.707 - ETA: 22s - loss: 0.5777 - accuracy: 0.708 - ETA: 22s - loss: 0.5775 - accuracy: 0.708 - ETA: 21s - loss: 0.5774 - accuracy: 0.708 - ETA: 21s - loss: 0.5772 - accuracy: 0.708 - ETA: 21s - loss: 0.5771 - accuracy: 0.708 - ETA: 21s - loss: 0.5768 - accuracy: 0.709 - ETA: 21s - loss: 0.5766 - accuracy: 0.709 - ETA: 21s - loss: 0.5764 - accuracy: 0.709 - ETA: 21s - loss: 0.5761 - accuracy: 0.709 - ETA: 21s - loss: 0.5761 - accuracy: 0.709 - ETA: 21s - loss: 0.5760 - accuracy: 0.709 - ETA: 21s - loss: 0.5759 - accuracy: 0.709 - ETA: 21s - loss: 0.5758 - accuracy: 0.710 - ETA: 21s - loss: 0.5757 - accuracy: 0.710 - ETA: 21s - loss: 0.5756 - accuracy: 0.710 - ETA: 21s - loss: 0.5755 - accuracy: 0.710 - ETA: 21s - loss: 0.5754 - accuracy: 0.710 - ETA: 21s - loss: 0.5753 - accuracy: 0.710 - ETA: 21s - loss: 0.5752 - accuracy: 0.710 - ETA: 21s - loss: 0.5751 - accuracy: 0.710 - ETA: 21s - loss: 0.5750 - accuracy: 0.710 - ETA: 21s - loss: 0.5749 - accuracy: 0.710 - ETA: 21s - loss: 0.5747 - accuracy: 0.710 - ETA: 21s - loss: 0.5745 - accuracy: 0.710 - ETA: 21s - loss: 0.5744 - accuracy: 0.711 - ETA: 21s - loss: 0.5743 - accuracy: 0.711 - ETA: 21s - loss: 0.5742 - accuracy: 0.711 - ETA: 20s - loss: 0.5741 - accuracy: 0.711 - ETA: 20s - loss: 0.5738 - accuracy: 0.711 - ETA: 20s - loss: 0.5736 - accuracy: 0.711 - ETA: 20s - loss: 0.5735 - accuracy: 0.711 - ETA: 20s - loss: 0.5733 - accuracy: 0.711 - ETA: 20s - loss: 0.5731 - accuracy: 0.712 - ETA: 20s - loss: 0.5730 - accuracy: 0.712 - ETA: 20s - loss: 0.5730 - accuracy: 0.712 - ETA: 20s - loss: 0.5728 - accuracy: 0.712 - ETA: 20s - loss: 0.5726 - accuracy: 0.712 - ETA: 20s - loss: 0.5725 - accuracy: 0.712 - ETA: 20s - loss: 0.5724 - accuracy: 0.712 - ETA: 20s - loss: 0.5722 - accuracy: 0.712 - ETA: 19s - loss: 0.5721 - accuracy: 0.713 - ETA: 19s - loss: 0.5718 - accuracy: 0.713 - ETA: 19s - loss: 0.5717 - accuracy: 0.713 - ETA: 19s - loss: 0.5715 - accuracy: 0.713 - ETA: 19s - loss: 0.5713 - accuracy: 0.713 - ETA: 19s - loss: 0.5712 - accuracy: 0.713 - ETA: 19s - loss: 0.5710 - accuracy: 0.713 - ETA: 19s - loss: 0.5709 - accuracy: 0.714 - ETA: 19s - loss: 0.5708 - accuracy: 0.714 - ETA: 19s - loss: 0.5707 - accuracy: 0.714 - ETA: 19s - loss: 0.5704 - accuracy: 0.714 - ETA: 19s - loss: 0.5703 - accuracy: 0.714 - ETA: 19s - loss: 0.5703 - accuracy: 0.714 - ETA: 18s - loss: 0.5702 - accuracy: 0.714 - ETA: 18s - loss: 0.5701 - accuracy: 0.714 - ETA: 18s - loss: 0.5701 - accuracy: 0.714 - ETA: 18s - loss: 0.5699 - accuracy: 0.714 - ETA: 18s - loss: 0.5698 - accuracy: 0.715 - ETA: 18s - loss: 0.5698 - accuracy: 0.715 - ETA: 18s - loss: 0.5696 - accuracy: 0.715 - ETA: 18s - loss: 0.5696 - accuracy: 0.715 - ETA: 18s - loss: 0.5694 - accuracy: 0.715 - ETA: 18s - loss: 0.5693 - accuracy: 0.715 - ETA: 18s - loss: 0.5691 - accuracy: 0.715 - ETA: 18s - loss: 0.5690 - accuracy: 0.715 - ETA: 18s - loss: 0.5689 - accuracy: 0.715 - ETA: 18s - loss: 0.5687 - accuracy: 0.715 - ETA: 18s - loss: 0.5686 - accuracy: 0.715 - ETA: 18s - loss: 0.5686 - accuracy: 0.715 - ETA: 18s - loss: 0.5686 - accuracy: 0.715 - ETA: 18s - loss: 0.5685 - accuracy: 0.716 - ETA: 18s - loss: 0.5685 - accuracy: 0.716 - ETA: 18s - loss: 0.5684 - accuracy: 0.716 - ETA: 18s - loss: 0.5684 - accuracy: 0.716 - ETA: 18s - loss: 0.5683 - accuracy: 0.716 - ETA: 18s - loss: 0.5681 - accuracy: 0.716 - ETA: 18s - loss: 0.5680 - accuracy: 0.716 - ETA: 18s - loss: 0.5678 - accuracy: 0.716 - ETA: 17s - loss: 0.5677 - accuracy: 0.716 - ETA: 17s - loss: 0.5675 - accuracy: 0.716 - ETA: 17s - loss: 0.5674 - accuracy: 0.716 - ETA: 17s - loss: 0.5674 - accuracy: 0.716 - ETA: 17s - loss: 0.5672 - accuracy: 0.717 - ETA: 17s - loss: 0.5672 - accuracy: 0.717 - ETA: 17s - loss: 0.5670 - accuracy: 0.717 - ETA: 17s - loss: 0.5668 - accuracy: 0.717 - ETA: 17s - loss: 0.5667 - accuracy: 0.717 - ETA: 17s - loss: 0.5665 - accuracy: 0.717 - ETA: 17s - loss: 0.5665 - accuracy: 0.717 - ETA: 17s - loss: 0.5663 - accuracy: 0.717 - ETA: 17s - loss: 0.5662 - accuracy: 0.717 - ETA: 17s - loss: 0.5660 - accuracy: 0.718 - ETA: 17s - loss: 0.5658 - accuracy: 0.718 - ETA: 16s - loss: 0.5657 - accuracy: 0.718 - ETA: 16s - loss: 0.5656 - accuracy: 0.718 - ETA: 16s - loss: 0.5655 - accuracy: 0.718 - ETA: 16s - loss: 0.5655 - accuracy: 0.718 - ETA: 16s - loss: 0.5654 - accuracy: 0.718 - ETA: 16s - loss: 0.5652 - accuracy: 0.718 - ETA: 16s - loss: 0.5651 - accuracy: 0.718 - ETA: 16s - loss: 0.5649 - accuracy: 0.719 - ETA: 16s - loss: 0.5648 - accuracy: 0.719 - ETA: 16s - loss: 0.5647 - accuracy: 0.719 - ETA: 16s - loss: 0.5645 - accuracy: 0.719 - ETA: 16s - loss: 0.5644 - accuracy: 0.719 - ETA: 16s - loss: 0.5643 - accuracy: 0.719 - ETA: 16s - loss: 0.5641 - accuracy: 0.719 - ETA: 16s - loss: 0.5640 - accuracy: 0.719 - ETA: 16s - loss: 0.5639 - accuracy: 0.719 - ETA: 16s - loss: 0.5637 - accuracy: 0.719 - ETA: 16s - loss: 0.5637 - accuracy: 0.719 - ETA: 16s - loss: 0.5636 - accuracy: 0.720 - ETA: 16s - loss: 0.5634 - accuracy: 0.720 - ETA: 16s - loss: 0.5633 - accuracy: 0.720 - ETA: 16s - loss: 0.5632 - accuracy: 0.720 - ETA: 16s - loss: 0.5631 - accuracy: 0.720 - ETA: 16s - loss: 0.5630 - accuracy: 0.720 - ETA: 16s - loss: 0.5629 - accuracy: 0.720 - ETA: 16s - loss: 0.5628 - accuracy: 0.720 - ETA: 16s - loss: 0.5628 - accuracy: 0.720 - ETA: 15s - loss: 0.5628 - accuracy: 0.720 - ETA: 15s - loss: 0.5627 - accuracy: 0.720 - ETA: 15s - loss: 0.5626 - accuracy: 0.720 - ETA: 15s - loss: 0.5624 - accuracy: 0.720 - ETA: 15s - loss: 0.5622 - accuracy: 0.720 - ETA: 15s - loss: 0.5620 - accuracy: 0.721 - ETA: 15s - loss: 0.5619 - accuracy: 0.721 - ETA: 15s - loss: 0.5618 - accuracy: 0.721 - ETA: 15s - loss: 0.5616 - accuracy: 0.721 - ETA: 15s - loss: 0.5614 - accuracy: 0.721 - ETA: 15s - loss: 0.5611 - accuracy: 0.722 - ETA: 15s - loss: 0.5607 - accuracy: 0.722 - ETA: 14s - loss: 0.5606 - accuracy: 0.722 - ETA: 14s - loss: 0.5603 - accuracy: 0.722 - ETA: 14s - loss: 0.5601 - accuracy: 0.722 - ETA: 14s - loss: 0.5600 - accuracy: 0.722 - ETA: 14s - loss: 0.5598 - accuracy: 0.723 - ETA: 14s - loss: 0.5595 - accuracy: 0.7232561546/561546 [==============================] - ETA: 14s - loss: 0.5594 - accuracy: 0.723 - ETA: 14s - loss: 0.5593 - accuracy: 0.723 - ETA: 14s - loss: 0.5591 - accuracy: 0.723 - ETA: 13s - loss: 0.5589 - accuracy: 0.723 - ETA: 13s - loss: 0.5587 - accuracy: 0.723 - ETA: 13s - loss: 0.5585 - accuracy: 0.724 - ETA: 13s - loss: 0.5584 - accuracy: 0.724 - ETA: 13s - loss: 0.5583 - accuracy: 0.724 - ETA: 13s - loss: 0.5582 - accuracy: 0.724 - ETA: 13s - loss: 0.5580 - accuracy: 0.724 - ETA: 13s - loss: 0.5579 - accuracy: 0.724 - ETA: 13s - loss: 0.5578 - accuracy: 0.724 - ETA: 13s - loss: 0.5577 - accuracy: 0.724 - ETA: 13s - loss: 0.5575 - accuracy: 0.724 - ETA: 13s - loss: 0.5574 - accuracy: 0.724 - ETA: 12s - loss: 0.5572 - accuracy: 0.725 - ETA: 12s - loss: 0.5572 - accuracy: 0.725 - ETA: 12s - loss: 0.5570 - accuracy: 0.725 - ETA: 12s - loss: 0.5570 - accuracy: 0.725 - ETA: 12s - loss: 0.5568 - accuracy: 0.725 - ETA: 12s - loss: 0.5567 - accuracy: 0.725 - ETA: 12s - loss: 0.5565 - accuracy: 0.725 - ETA: 12s - loss: 0.5564 - accuracy: 0.725 - ETA: 12s - loss: 0.5562 - accuracy: 0.725 - ETA: 12s - loss: 0.5561 - accuracy: 0.725 - ETA: 12s - loss: 0.5559 - accuracy: 0.726 - ETA: 12s - loss: 0.5557 - accuracy: 0.726 - ETA: 11s - loss: 0.5556 - accuracy: 0.726 - ETA: 11s - loss: 0.5555 - accuracy: 0.726 - ETA: 11s - loss: 0.5554 - accuracy: 0.726 - ETA: 11s - loss: 0.5552 - accuracy: 0.726 - ETA: 11s - loss: 0.5551 - accuracy: 0.726 - ETA: 11s - loss: 0.5549 - accuracy: 0.726 - ETA: 11s - loss: 0.5548 - accuracy: 0.726 - ETA: 11s - loss: 0.5546 - accuracy: 0.727 - ETA: 11s - loss: 0.5545 - accuracy: 0.727 - ETA: 11s - loss: 0.5545 - accuracy: 0.727 - ETA: 11s - loss: 0.5543 - accuracy: 0.727 - ETA: 11s - loss: 0.5542 - accuracy: 0.727 - ETA: 11s - loss: 0.5541 - accuracy: 0.727 - ETA: 10s - loss: 0.5539 - accuracy: 0.727 - ETA: 10s - loss: 0.5539 - accuracy: 0.727 - ETA: 10s - loss: 0.5538 - accuracy: 0.727 - ETA: 10s - loss: 0.5538 - accuracy: 0.727 - ETA: 10s - loss: 0.5537 - accuracy: 0.727 - ETA: 10s - loss: 0.5536 - accuracy: 0.727 - ETA: 10s - loss: 0.5534 - accuracy: 0.727 - ETA: 10s - loss: 0.5533 - accuracy: 0.727 - ETA: 10s - loss: 0.5532 - accuracy: 0.727 - ETA: 10s - loss: 0.5532 - accuracy: 0.727 - ETA: 10s - loss: 0.5530 - accuracy: 0.728 - ETA: 10s - loss: 0.5530 - accuracy: 0.728 - ETA: 10s - loss: 0.5529 - accuracy: 0.728 - ETA: 10s - loss: 0.5527 - accuracy: 0.728 - ETA: 10s - loss: 0.5526 - accuracy: 0.728 - ETA: 9s - loss: 0.5525 - accuracy: 0.728 - ETA: 9s - loss: 0.5524 - accuracy: 0.72 - ETA: 9s - loss: 0.5523 - accuracy: 0.72 - ETA: 9s - loss: 0.5521 - accuracy: 0.72 - ETA: 9s - loss: 0.5520 - accuracy: 0.72 - ETA: 9s - loss: 0.5520 - accuracy: 0.72 - ETA: 9s - loss: 0.5518 - accuracy: 0.72 - ETA: 9s - loss: 0.5518 - accuracy: 0.72 - ETA: 9s - loss: 0.5516 - accuracy: 0.72 - ETA: 9s - loss: 0.5516 - accuracy: 0.72 - ETA: 9s - loss: 0.5515 - accuracy: 0.72 - ETA: 9s - loss: 0.5513 - accuracy: 0.72 - ETA: 8s - loss: 0.5511 - accuracy: 0.72 - ETA: 8s - loss: 0.5511 - accuracy: 0.72 - ETA: 8s - loss: 0.5509 - accuracy: 0.72 - ETA: 8s - loss: 0.5508 - accuracy: 0.72 - ETA: 8s - loss: 0.5507 - accuracy: 0.72 - ETA: 8s - loss: 0.5505 - accuracy: 0.72 - ETA: 8s - loss: 0.5504 - accuracy: 0.72 - ETA: 8s - loss: 0.5503 - accuracy: 0.72 - ETA: 8s - loss: 0.5502 - accuracy: 0.72 - ETA: 8s - loss: 0.5501 - accuracy: 0.73 - ETA: 8s - loss: 0.5499 - accuracy: 0.73 - ETA: 8s - loss: 0.5498 - accuracy: 0.73 - ETA: 8s - loss: 0.5496 - accuracy: 0.73 - ETA: 7s - loss: 0.5495 - accuracy: 0.73 - ETA: 7s - loss: 0.5494 - accuracy: 0.73 - ETA: 7s - loss: 0.5492 - accuracy: 0.73 - ETA: 7s - loss: 0.5491 - accuracy: 0.73 - ETA: 7s - loss: 0.5490 - accuracy: 0.73 - ETA: 7s - loss: 0.5489 - accuracy: 0.73 - ETA: 7s - loss: 0.5488 - accuracy: 0.73 - ETA: 7s - loss: 0.5486 - accuracy: 0.73 - ETA: 7s - loss: 0.5485 - accuracy: 0.73 - ETA: 7s - loss: 0.5483 - accuracy: 0.73 - ETA: 7s - loss: 0.5483 - accuracy: 0.73 - ETA: 7s - loss: 0.5482 - accuracy: 0.73 - ETA: 7s - loss: 0.5481 - accuracy: 0.73 - ETA: 6s - loss: 0.5481 - accuracy: 0.73 - ETA: 6s - loss: 0.5479 - accuracy: 0.73 - ETA: 6s - loss: 0.5478 - accuracy: 0.73 - ETA: 6s - loss: 0.5477 - accuracy: 0.73 - ETA: 6s - loss: 0.5476 - accuracy: 0.73 - ETA: 6s - loss: 0.5474 - accuracy: 0.73 - ETA: 6s - loss: 0.5474 - accuracy: 0.73 - ETA: 6s - loss: 0.5472 - accuracy: 0.73 - ETA: 6s - loss: 0.5471 - accuracy: 0.73 - ETA: 6s - loss: 0.5470 - accuracy: 0.73 - ETA: 6s - loss: 0.5470 - accuracy: 0.73 - ETA: 6s - loss: 0.5469 - accuracy: 0.73 - ETA: 6s - loss: 0.5467 - accuracy: 0.73 - ETA: 5s - loss: 0.5466 - accuracy: 0.73 - ETA: 5s - loss: 0.5465 - accuracy: 0.73 - ETA: 5s - loss: 0.5464 - accuracy: 0.73 - ETA: 5s - loss: 0.5463 - accuracy: 0.73 - ETA: 5s - loss: 0.5461 - accuracy: 0.73 - ETA: 5s - loss: 0.5460 - accuracy: 0.73 - ETA: 5s - loss: 0.5459 - accuracy: 0.73 - ETA: 5s - loss: 0.5457 - accuracy: 0.73 - ETA: 5s - loss: 0.5456 - accuracy: 0.73 - ETA: 5s - loss: 0.5455 - accuracy: 0.73 - ETA: 5s - loss: 0.5454 - accuracy: 0.73 - ETA: 5s - loss: 0.5453 - accuracy: 0.73 - ETA: 5s - loss: 0.5452 - accuracy: 0.73 - ETA: 4s - loss: 0.5451 - accuracy: 0.73 - ETA: 4s - loss: 0.5451 - accuracy: 0.73 - ETA: 4s - loss: 0.5450 - accuracy: 0.73 - ETA: 4s - loss: 0.5449 - accuracy: 0.73 - ETA: 4s - loss: 0.5448 - accuracy: 0.73 - ETA: 4s - loss: 0.5447 - accuracy: 0.73 - ETA: 4s - loss: 0.5446 - accuracy: 0.73 - ETA: 4s - loss: 0.5444 - accuracy: 0.73 - ETA: 4s - loss: 0.5443 - accuracy: 0.73 - ETA: 4s - loss: 0.5441 - accuracy: 0.73 - ETA: 4s - loss: 0.5441 - accuracy: 0.73 - ETA: 4s - loss: 0.5440 - accuracy: 0.73 - ETA: 3s - loss: 0.5438 - accuracy: 0.73 - ETA: 3s - loss: 0.5437 - accuracy: 0.73 - ETA: 3s - loss: 0.5436 - accuracy: 0.73 - ETA: 3s - loss: 0.5435 - accuracy: 0.73 - ETA: 3s - loss: 0.5434 - accuracy: 0.73 - ETA: 3s - loss: 0.5432 - accuracy: 0.73 - ETA: 3s - loss: 0.5432 - accuracy: 0.73 - ETA: 3s - loss: 0.5431 - accuracy: 0.73 - ETA: 3s - loss: 0.5430 - accuracy: 0.73 - ETA: 3s - loss: 0.5429 - accuracy: 0.73 - ETA: 3s - loss: 0.5428 - accuracy: 0.73 - ETA: 3s - loss: 0.5427 - accuracy: 0.73 - ETA: 3s - loss: 0.5425 - accuracy: 0.73 - ETA: 2s - loss: 0.5423 - accuracy: 0.73 - ETA: 2s - loss: 0.5422 - accuracy: 0.73 - ETA: 2s - loss: 0.5420 - accuracy: 0.73 - ETA: 2s - loss: 0.5419 - accuracy: 0.73 - ETA: 2s - loss: 0.5418 - accuracy: 0.73 - ETA: 2s - loss: 0.5416 - accuracy: 0.73 - ETA: 2s - loss: 0.5414 - accuracy: 0.73 - ETA: 2s - loss: 0.5413 - accuracy: 0.73 - ETA: 2s - loss: 0.5412 - accuracy: 0.73 - ETA: 2s - loss: 0.5411 - accuracy: 0.73 - ETA: 2s - loss: 0.5412 - accuracy: 0.73 - ETA: 2s - loss: 0.5411 - accuracy: 0.73 - ETA: 2s - loss: 0.5410 - accuracy: 0.73 - ETA: 1s - loss: 0.5409 - accuracy: 0.73 - ETA: 1s - loss: 0.5407 - accuracy: 0.73 - ETA: 1s - loss: 0.5406 - accuracy: 0.73 - ETA: 1s - loss: 0.5405 - accuracy: 0.73 - ETA: 1s - loss: 0.5404 - accuracy: 0.73 - ETA: 1s - loss: 0.5403 - accuracy: 0.73 - ETA: 1s - loss: 0.5402 - accuracy: 0.73 - ETA: 1s - loss: 0.5401 - accuracy: 0.73 - ETA: 1s - loss: 0.5399 - accuracy: 0.73 - ETA: 1s - loss: 0.5398 - accuracy: 0.73 - ETA: 1s - loss: 0.5397 - accuracy: 0.73 - ETA: 1s - loss: 0.5396 - accuracy: 0.73 - ETA: 1s - loss: 0.5395 - accuracy: 0.73 - ETA: 0s - loss: 0.5394 - accuracy: 0.73 - ETA: 0s - loss: 0.5393 - accuracy: 0.73 - ETA: 0s - loss: 0.5392 - accuracy: 0.73 - ETA: 0s - loss: 0.5391 - accuracy: 0.73 - ETA: 0s - loss: 0.5389 - accuracy: 0.73 - ETA: 0s - loss: 0.5388 - accuracy: 0.73 - ETA: 0s - loss: 0.5387 - accuracy: 0.73 - ETA: 0s - loss: 0.5385 - accuracy: 0.73 - ETA: 0s - loss: 0.5384 - accuracy: 0.73 - ETA: 0s - loss: 0.5384 - accuracy: 0.73 - ETA: 0s - loss: 0.5383 - accuracy: 0.73 - ETA: 0s - loss: 0.5381 - accuracy: 0.73 - 37s 66us/sample - loss: 0.5381 - accuracy: 0.7383 - val_loss: 0.5381 - val_accuracy: 0.7455\n",
      "Epoch 2/5\n",
      "214016/561546 [==========>...................] - ETA: 0s - loss: 0.4880 - accuracy: 0.75 - ETA: 37s - loss: 0.5061 - accuracy: 0.778 - ETA: 36s - loss: 0.4897 - accuracy: 0.780 - ETA: 37s - loss: 0.4914 - accuracy: 0.774 - ETA: 39s - loss: 0.4905 - accuracy: 0.775 - ETA: 40s - loss: 0.4908 - accuracy: 0.774 - ETA: 42s - loss: 0.4905 - accuracy: 0.772 - ETA: 42s - loss: 0.4893 - accuracy: 0.771 - ETA: 40s - loss: 0.4891 - accuracy: 0.772 - ETA: 38s - loss: 0.4974 - accuracy: 0.769 - ETA: 36s - loss: 0.4961 - accuracy: 0.770 - ETA: 35s - loss: 0.4970 - accuracy: 0.767 - ETA: 34s - loss: 0.4984 - accuracy: 0.767 - ETA: 33s - loss: 0.4971 - accuracy: 0.767 - ETA: 32s - loss: 0.4956 - accuracy: 0.767 - ETA: 32s - loss: 0.4972 - accuracy: 0.768 - ETA: 31s - loss: 0.4982 - accuracy: 0.767 - ETA: 31s - loss: 0.4969 - accuracy: 0.768 - ETA: 30s - loss: 0.4961 - accuracy: 0.768 - ETA: 30s - loss: 0.4962 - accuracy: 0.768 - ETA: 30s - loss: 0.4958 - accuracy: 0.768 - ETA: 30s - loss: 0.4958 - accuracy: 0.767 - ETA: 29s - loss: 0.4964 - accuracy: 0.766 - ETA: 29s - loss: 0.4958 - accuracy: 0.767 - ETA: 29s - loss: 0.4954 - accuracy: 0.766 - ETA: 29s - loss: 0.4935 - accuracy: 0.768 - ETA: 29s - loss: 0.4934 - accuracy: 0.768 - ETA: 28s - loss: 0.4924 - accuracy: 0.768 - ETA: 28s - loss: 0.4929 - accuracy: 0.768 - ETA: 28s - loss: 0.4922 - accuracy: 0.768 - ETA: 28s - loss: 0.4927 - accuracy: 0.768 - ETA: 27s - loss: 0.4920 - accuracy: 0.768 - ETA: 27s - loss: 0.4919 - accuracy: 0.768 - ETA: 27s - loss: 0.4922 - accuracy: 0.767 - ETA: 27s - loss: 0.4924 - accuracy: 0.767 - ETA: 27s - loss: 0.4922 - accuracy: 0.767 - ETA: 27s - loss: 0.4920 - accuracy: 0.767 - ETA: 26s - loss: 0.4918 - accuracy: 0.768 - ETA: 26s - loss: 0.4911 - accuracy: 0.768 - ETA: 26s - loss: 0.4913 - accuracy: 0.769 - ETA: 26s - loss: 0.4914 - accuracy: 0.769 - ETA: 26s - loss: 0.4911 - accuracy: 0.769 - ETA: 26s - loss: 0.4907 - accuracy: 0.769 - ETA: 25s - loss: 0.4909 - accuracy: 0.769 - ETA: 25s - loss: 0.4909 - accuracy: 0.769 - ETA: 25s - loss: 0.4914 - accuracy: 0.769 - ETA: 25s - loss: 0.4911 - accuracy: 0.769 - ETA: 25s - loss: 0.4904 - accuracy: 0.769 - ETA: 25s - loss: 0.4897 - accuracy: 0.770 - ETA: 25s - loss: 0.4890 - accuracy: 0.771 - ETA: 25s - loss: 0.4891 - accuracy: 0.771 - ETA: 25s - loss: 0.4890 - accuracy: 0.771 - ETA: 25s - loss: 0.4890 - accuracy: 0.771 - ETA: 25s - loss: 0.4887 - accuracy: 0.771 - ETA: 25s - loss: 0.4886 - accuracy: 0.771 - ETA: 25s - loss: 0.4884 - accuracy: 0.771 - ETA: 25s - loss: 0.4880 - accuracy: 0.772 - ETA: 25s - loss: 0.4881 - accuracy: 0.771 - ETA: 25s - loss: 0.4880 - accuracy: 0.772 - ETA: 25s - loss: 0.4879 - accuracy: 0.772 - ETA: 25s - loss: 0.4884 - accuracy: 0.771 - ETA: 25s - loss: 0.4884 - accuracy: 0.771 - ETA: 25s - loss: 0.4883 - accuracy: 0.771 - ETA: 25s - loss: 0.4885 - accuracy: 0.771 - ETA: 26s - loss: 0.4883 - accuracy: 0.771 - ETA: 26s - loss: 0.4885 - accuracy: 0.771 - ETA: 26s - loss: 0.4884 - accuracy: 0.771 - ETA: 26s - loss: 0.4881 - accuracy: 0.771 - ETA: 26s - loss: 0.4878 - accuracy: 0.771 - ETA: 25s - loss: 0.4880 - accuracy: 0.771 - ETA: 25s - loss: 0.4880 - accuracy: 0.771 - ETA: 25s - loss: 0.4880 - accuracy: 0.771 - ETA: 25s - loss: 0.4881 - accuracy: 0.771 - ETA: 25s - loss: 0.4878 - accuracy: 0.771 - ETA: 25s - loss: 0.4875 - accuracy: 0.772 - ETA: 25s - loss: 0.4876 - accuracy: 0.772 - ETA: 25s - loss: 0.4877 - accuracy: 0.772 - ETA: 25s - loss: 0.4877 - accuracy: 0.772 - ETA: 25s - loss: 0.4881 - accuracy: 0.771 - ETA: 25s - loss: 0.4880 - accuracy: 0.772 - ETA: 25s - loss: 0.4878 - accuracy: 0.772 - ETA: 25s - loss: 0.4878 - accuracy: 0.772 - ETA: 25s - loss: 0.4880 - accuracy: 0.771 - ETA: 25s - loss: 0.4879 - accuracy: 0.771 - ETA: 25s - loss: 0.4877 - accuracy: 0.771 - ETA: 25s - loss: 0.4878 - accuracy: 0.771 - ETA: 25s - loss: 0.4878 - accuracy: 0.771 - ETA: 24s - loss: 0.4878 - accuracy: 0.771 - ETA: 24s - loss: 0.4877 - accuracy: 0.771 - ETA: 24s - loss: 0.4878 - accuracy: 0.771 - ETA: 24s - loss: 0.4879 - accuracy: 0.771 - ETA: 24s - loss: 0.4881 - accuracy: 0.771 - ETA: 24s - loss: 0.4881 - accuracy: 0.771 - ETA: 24s - loss: 0.4880 - accuracy: 0.771 - ETA: 24s - loss: 0.4882 - accuracy: 0.771 - ETA: 24s - loss: 0.4883 - accuracy: 0.771 - ETA: 24s - loss: 0.4880 - accuracy: 0.771 - ETA: 24s - loss: 0.4879 - accuracy: 0.771 - ETA: 24s - loss: 0.4879 - accuracy: 0.771 - ETA: 24s - loss: 0.4881 - accuracy: 0.771 - ETA: 24s - loss: 0.4881 - accuracy: 0.771 - ETA: 23s - loss: 0.4880 - accuracy: 0.771 - ETA: 23s - loss: 0.4880 - accuracy: 0.771 - ETA: 23s - loss: 0.4880 - accuracy: 0.771 - ETA: 23s - loss: 0.4878 - accuracy: 0.771 - ETA: 23s - loss: 0.4878 - accuracy: 0.771 - ETA: 23s - loss: 0.4876 - accuracy: 0.771 - ETA: 23s - loss: 0.4876 - accuracy: 0.771 - ETA: 23s - loss: 0.4876 - accuracy: 0.771 - ETA: 23s - loss: 0.4874 - accuracy: 0.772 - ETA: 23s - loss: 0.4873 - accuracy: 0.772 - ETA: 23s - loss: 0.4872 - accuracy: 0.772 - ETA: 23s - loss: 0.4873 - accuracy: 0.772 - ETA: 23s - loss: 0.4872 - accuracy: 0.772 - ETA: 23s - loss: 0.4870 - accuracy: 0.772 - ETA: 22s - loss: 0.4869 - accuracy: 0.771 - ETA: 22s - loss: 0.4868 - accuracy: 0.771 - ETA: 22s - loss: 0.4867 - accuracy: 0.772 - ETA: 22s - loss: 0.4867 - accuracy: 0.772 - ETA: 22s - loss: 0.4866 - accuracy: 0.772 - ETA: 22s - loss: 0.4865 - accuracy: 0.772 - ETA: 22s - loss: 0.4865 - accuracy: 0.772 - ETA: 22s - loss: 0.4865 - accuracy: 0.772 - ETA: 22s - loss: 0.4864 - accuracy: 0.772 - ETA: 22s - loss: 0.4863 - accuracy: 0.772 - ETA: 22s - loss: 0.4861 - accuracy: 0.772 - ETA: 22s - loss: 0.4859 - accuracy: 0.772 - ETA: 22s - loss: 0.4857 - accuracy: 0.772 - ETA: 21s - loss: 0.4856 - accuracy: 0.772 - ETA: 21s - loss: 0.4856 - accuracy: 0.772 - ETA: 21s - loss: 0.4856 - accuracy: 0.772 - ETA: 21s - loss: 0.4856 - accuracy: 0.772 - ETA: 21s - loss: 0.4858 - accuracy: 0.772 - ETA: 21s - loss: 0.4855 - accuracy: 0.772 - ETA: 21s - loss: 0.4856 - accuracy: 0.772 - ETA: 21s - loss: 0.4858 - accuracy: 0.772 - ETA: 21s - loss: 0.4857 - accuracy: 0.772 - ETA: 21s - loss: 0.4857 - accuracy: 0.772 - ETA: 21s - loss: 0.4857 - accuracy: 0.772 - ETA: 21s - loss: 0.4855 - accuracy: 0.772 - ETA: 21s - loss: 0.4855 - accuracy: 0.772 - ETA: 21s - loss: 0.4855 - accuracy: 0.772 - ETA: 20s - loss: 0.4855 - accuracy: 0.772 - ETA: 20s - loss: 0.4853 - accuracy: 0.772 - ETA: 20s - loss: 0.4852 - accuracy: 0.772 - ETA: 20s - loss: 0.4851 - accuracy: 0.772 - ETA: 20s - loss: 0.4850 - accuracy: 0.772 - ETA: 20s - loss: 0.4849 - accuracy: 0.772 - ETA: 20s - loss: 0.4850 - accuracy: 0.772 - ETA: 20s - loss: 0.4849 - accuracy: 0.772 - ETA: 20s - loss: 0.4846 - accuracy: 0.773 - ETA: 20s - loss: 0.4847 - accuracy: 0.772 - ETA: 20s - loss: 0.4844 - accuracy: 0.773 - ETA: 20s - loss: 0.4845 - accuracy: 0.773 - ETA: 20s - loss: 0.4843 - accuracy: 0.773 - ETA: 20s - loss: 0.4842 - accuracy: 0.773 - ETA: 20s - loss: 0.4843 - accuracy: 0.773 - ETA: 20s - loss: 0.4840 - accuracy: 0.773 - ETA: 19s - loss: 0.4839 - accuracy: 0.773 - ETA: 19s - loss: 0.4840 - accuracy: 0.773 - ETA: 19s - loss: 0.4840 - accuracy: 0.773 - ETA: 19s - loss: 0.4838 - accuracy: 0.773 - ETA: 19s - loss: 0.4839 - accuracy: 0.773 - ETA: 19s - loss: 0.4838 - accuracy: 0.773 - ETA: 19s - loss: 0.4838 - accuracy: 0.773 - ETA: 19s - loss: 0.4839 - accuracy: 0.773 - ETA: 19s - loss: 0.4839 - accuracy: 0.773 - ETA: 19s - loss: 0.4839 - accuracy: 0.773 - ETA: 19s - loss: 0.4839 - accuracy: 0.773 - ETA: 19s - loss: 0.4839 - accuracy: 0.773 - ETA: 19s - loss: 0.4838 - accuracy: 0.773 - ETA: 19s - loss: 0.4838 - accuracy: 0.773 - ETA: 19s - loss: 0.4839 - accuracy: 0.773 - ETA: 18s - loss: 0.4836 - accuracy: 0.773 - ETA: 18s - loss: 0.4836 - accuracy: 0.773 - ETA: 18s - loss: 0.4837 - accuracy: 0.773 - ETA: 18s - loss: 0.4837 - accuracy: 0.773 - ETA: 18s - loss: 0.4837 - accuracy: 0.773 - ETA: 18s - loss: 0.4837 - accuracy: 0.773 - ETA: 18s - loss: 0.4838 - accuracy: 0.773 - ETA: 18s - loss: 0.4837 - accuracy: 0.773 - ETA: 18s - loss: 0.4836 - accuracy: 0.773 - ETA: 18s - loss: 0.4837 - accuracy: 0.773 - ETA: 18s - loss: 0.4837 - accuracy: 0.773 - ETA: 18s - loss: 0.4836 - accuracy: 0.773 - ETA: 18s - loss: 0.4835 - accuracy: 0.7733423872/561546 [=====================>........] - ETA: 18s - loss: 0.4836 - accuracy: 0.773 - ETA: 18s - loss: 0.4838 - accuracy: 0.773 - ETA: 18s - loss: 0.4837 - accuracy: 0.773 - ETA: 18s - loss: 0.4837 - accuracy: 0.773 - ETA: 18s - loss: 0.4836 - accuracy: 0.773 - ETA: 18s - loss: 0.4836 - accuracy: 0.773 - ETA: 18s - loss: 0.4837 - accuracy: 0.773 - ETA: 18s - loss: 0.4837 - accuracy: 0.773 - ETA: 17s - loss: 0.4837 - accuracy: 0.773 - ETA: 17s - loss: 0.4836 - accuracy: 0.773 - ETA: 17s - loss: 0.4835 - accuracy: 0.773 - ETA: 17s - loss: 0.4835 - accuracy: 0.773 - ETA: 17s - loss: 0.4835 - accuracy: 0.773 - ETA: 17s - loss: 0.4836 - accuracy: 0.773 - ETA: 17s - loss: 0.4837 - accuracy: 0.773 - ETA: 17s - loss: 0.4836 - accuracy: 0.773 - ETA: 17s - loss: 0.4835 - accuracy: 0.773 - ETA: 17s - loss: 0.4836 - accuracy: 0.773 - ETA: 17s - loss: 0.4835 - accuracy: 0.773 - ETA: 17s - loss: 0.4835 - accuracy: 0.773 - ETA: 17s - loss: 0.4834 - accuracy: 0.773 - ETA: 17s - loss: 0.4834 - accuracy: 0.773 - ETA: 17s - loss: 0.4835 - accuracy: 0.773 - ETA: 17s - loss: 0.4834 - accuracy: 0.773 - ETA: 17s - loss: 0.4834 - accuracy: 0.773 - ETA: 16s - loss: 0.4834 - accuracy: 0.773 - ETA: 16s - loss: 0.4832 - accuracy: 0.773 - ETA: 16s - loss: 0.4832 - accuracy: 0.773 - ETA: 16s - loss: 0.4832 - accuracy: 0.773 - ETA: 16s - loss: 0.4832 - accuracy: 0.773 - ETA: 16s - loss: 0.4832 - accuracy: 0.773 - ETA: 16s - loss: 0.4831 - accuracy: 0.773 - ETA: 16s - loss: 0.4830 - accuracy: 0.773 - ETA: 16s - loss: 0.4830 - accuracy: 0.773 - ETA: 16s - loss: 0.4830 - accuracy: 0.773 - ETA: 16s - loss: 0.4831 - accuracy: 0.773 - ETA: 16s - loss: 0.4829 - accuracy: 0.773 - ETA: 16s - loss: 0.4829 - accuracy: 0.773 - ETA: 16s - loss: 0.4827 - accuracy: 0.774 - ETA: 16s - loss: 0.4827 - accuracy: 0.774 - ETA: 15s - loss: 0.4827 - accuracy: 0.774 - ETA: 15s - loss: 0.4827 - accuracy: 0.774 - ETA: 15s - loss: 0.4827 - accuracy: 0.774 - ETA: 15s - loss: 0.4827 - accuracy: 0.774 - ETA: 15s - loss: 0.4827 - accuracy: 0.774 - ETA: 15s - loss: 0.4826 - accuracy: 0.774 - ETA: 15s - loss: 0.4826 - accuracy: 0.774 - ETA: 15s - loss: 0.4825 - accuracy: 0.774 - ETA: 15s - loss: 0.4823 - accuracy: 0.774 - ETA: 15s - loss: 0.4822 - accuracy: 0.774 - ETA: 15s - loss: 0.4821 - accuracy: 0.774 - ETA: 15s - loss: 0.4822 - accuracy: 0.774 - ETA: 15s - loss: 0.4821 - accuracy: 0.774 - ETA: 15s - loss: 0.4821 - accuracy: 0.774 - ETA: 15s - loss: 0.4820 - accuracy: 0.774 - ETA: 14s - loss: 0.4820 - accuracy: 0.774 - ETA: 14s - loss: 0.4818 - accuracy: 0.774 - ETA: 14s - loss: 0.4818 - accuracy: 0.774 - ETA: 14s - loss: 0.4817 - accuracy: 0.774 - ETA: 14s - loss: 0.4816 - accuracy: 0.774 - ETA: 14s - loss: 0.4817 - accuracy: 0.774 - ETA: 14s - loss: 0.4817 - accuracy: 0.774 - ETA: 14s - loss: 0.4817 - accuracy: 0.774 - ETA: 14s - loss: 0.4816 - accuracy: 0.774 - ETA: 14s - loss: 0.4816 - accuracy: 0.774 - ETA: 14s - loss: 0.4815 - accuracy: 0.774 - ETA: 14s - loss: 0.4815 - accuracy: 0.774 - ETA: 14s - loss: 0.4815 - accuracy: 0.774 - ETA: 14s - loss: 0.4814 - accuracy: 0.774 - ETA: 14s - loss: 0.4814 - accuracy: 0.774 - ETA: 14s - loss: 0.4813 - accuracy: 0.774 - ETA: 14s - loss: 0.4813 - accuracy: 0.774 - ETA: 14s - loss: 0.4812 - accuracy: 0.774 - ETA: 14s - loss: 0.4811 - accuracy: 0.774 - ETA: 13s - loss: 0.4810 - accuracy: 0.775 - ETA: 13s - loss: 0.4809 - accuracy: 0.775 - ETA: 13s - loss: 0.4809 - accuracy: 0.775 - ETA: 13s - loss: 0.4808 - accuracy: 0.775 - ETA: 13s - loss: 0.4808 - accuracy: 0.775 - ETA: 13s - loss: 0.4809 - accuracy: 0.774 - ETA: 13s - loss: 0.4809 - accuracy: 0.775 - ETA: 13s - loss: 0.4809 - accuracy: 0.775 - ETA: 13s - loss: 0.4808 - accuracy: 0.775 - ETA: 13s - loss: 0.4807 - accuracy: 0.775 - ETA: 13s - loss: 0.4806 - accuracy: 0.775 - ETA: 13s - loss: 0.4806 - accuracy: 0.775 - ETA: 13s - loss: 0.4806 - accuracy: 0.775 - ETA: 13s - loss: 0.4806 - accuracy: 0.775 - ETA: 13s - loss: 0.4807 - accuracy: 0.775 - ETA: 13s - loss: 0.4806 - accuracy: 0.775 - ETA: 13s - loss: 0.4805 - accuracy: 0.775 - ETA: 13s - loss: 0.4805 - accuracy: 0.775 - ETA: 12s - loss: 0.4805 - accuracy: 0.775 - ETA: 12s - loss: 0.4804 - accuracy: 0.775 - ETA: 12s - loss: 0.4804 - accuracy: 0.775 - ETA: 12s - loss: 0.4804 - accuracy: 0.775 - ETA: 12s - loss: 0.4805 - accuracy: 0.775 - ETA: 12s - loss: 0.4805 - accuracy: 0.775 - ETA: 12s - loss: 0.4804 - accuracy: 0.775 - ETA: 12s - loss: 0.4804 - accuracy: 0.775 - ETA: 12s - loss: 0.4804 - accuracy: 0.775 - ETA: 12s - loss: 0.4803 - accuracy: 0.775 - ETA: 12s - loss: 0.4803 - accuracy: 0.775 - ETA: 12s - loss: 0.4803 - accuracy: 0.775 - ETA: 12s - loss: 0.4804 - accuracy: 0.775 - ETA: 12s - loss: 0.4804 - accuracy: 0.775 - ETA: 12s - loss: 0.4804 - accuracy: 0.775 - ETA: 12s - loss: 0.4804 - accuracy: 0.775 - ETA: 12s - loss: 0.4804 - accuracy: 0.775 - ETA: 12s - loss: 0.4804 - accuracy: 0.775 - ETA: 12s - loss: 0.4804 - accuracy: 0.775 - ETA: 11s - loss: 0.4804 - accuracy: 0.775 - ETA: 11s - loss: 0.4805 - accuracy: 0.775 - ETA: 11s - loss: 0.4804 - accuracy: 0.775 - ETA: 11s - loss: 0.4804 - accuracy: 0.775 - ETA: 11s - loss: 0.4804 - accuracy: 0.775 - ETA: 11s - loss: 0.4803 - accuracy: 0.775 - ETA: 11s - loss: 0.4803 - accuracy: 0.775 - ETA: 11s - loss: 0.4803 - accuracy: 0.775 - ETA: 11s - loss: 0.4803 - accuracy: 0.775 - ETA: 11s - loss: 0.4802 - accuracy: 0.775 - ETA: 11s - loss: 0.4802 - accuracy: 0.775 - ETA: 11s - loss: 0.4802 - accuracy: 0.775 - ETA: 11s - loss: 0.4802 - accuracy: 0.775 - ETA: 11s - loss: 0.4801 - accuracy: 0.775 - ETA: 11s - loss: 0.4801 - accuracy: 0.775 - ETA: 11s - loss: 0.4801 - accuracy: 0.775 - ETA: 11s - loss: 0.4800 - accuracy: 0.775 - ETA: 11s - loss: 0.4800 - accuracy: 0.775 - ETA: 10s - loss: 0.4801 - accuracy: 0.775 - ETA: 10s - loss: 0.4800 - accuracy: 0.775 - ETA: 10s - loss: 0.4801 - accuracy: 0.775 - ETA: 10s - loss: 0.4800 - accuracy: 0.775 - ETA: 10s - loss: 0.4801 - accuracy: 0.775 - ETA: 10s - loss: 0.4800 - accuracy: 0.775 - ETA: 10s - loss: 0.4800 - accuracy: 0.775 - ETA: 10s - loss: 0.4799 - accuracy: 0.775 - ETA: 10s - loss: 0.4799 - accuracy: 0.775 - ETA: 10s - loss: 0.4799 - accuracy: 0.775 - ETA: 10s - loss: 0.4799 - accuracy: 0.775 - ETA: 10s - loss: 0.4799 - accuracy: 0.775 - ETA: 10s - loss: 0.4799 - accuracy: 0.775 - ETA: 10s - loss: 0.4798 - accuracy: 0.775 - ETA: 10s - loss: 0.4798 - accuracy: 0.775 - ETA: 10s - loss: 0.4798 - accuracy: 0.775 - ETA: 10s - loss: 0.4798 - accuracy: 0.775 - ETA: 9s - loss: 0.4797 - accuracy: 0.775 - ETA: 9s - loss: 0.4797 - accuracy: 0.77 - ETA: 9s - loss: 0.4797 - accuracy: 0.77 - ETA: 9s - loss: 0.4797 - accuracy: 0.77 - ETA: 9s - loss: 0.4796 - accuracy: 0.77 - ETA: 9s - loss: 0.4795 - accuracy: 0.77 - ETA: 9s - loss: 0.4795 - accuracy: 0.77 - ETA: 9s - loss: 0.4795 - accuracy: 0.77 - ETA: 9s - loss: 0.4794 - accuracy: 0.77 - ETA: 9s - loss: 0.4795 - accuracy: 0.77 - ETA: 9s - loss: 0.4794 - accuracy: 0.77 - ETA: 9s - loss: 0.4794 - accuracy: 0.77 - ETA: 9s - loss: 0.4794 - accuracy: 0.77 - ETA: 9s - loss: 0.4794 - accuracy: 0.77 - ETA: 9s - loss: 0.4793 - accuracy: 0.77 - ETA: 9s - loss: 0.4792 - accuracy: 0.77 - ETA: 8s - loss: 0.4792 - accuracy: 0.77 - ETA: 8s - loss: 0.4792 - accuracy: 0.77 - ETA: 8s - loss: 0.4791 - accuracy: 0.77 - ETA: 8s - loss: 0.4790 - accuracy: 0.77 - ETA: 8s - loss: 0.4790 - accuracy: 0.77 - ETA: 8s - loss: 0.4791 - accuracy: 0.77 - ETA: 8s - loss: 0.4789 - accuracy: 0.77 - ETA: 8s - loss: 0.4789 - accuracy: 0.77 - ETA: 8s - loss: 0.4789 - accuracy: 0.77 - ETA: 8s - loss: 0.4789 - accuracy: 0.77 - ETA: 8s - loss: 0.4787 - accuracy: 0.77 - ETA: 8s - loss: 0.4788 - accuracy: 0.77 - ETA: 8s - loss: 0.4788 - accuracy: 0.77 - ETA: 8s - loss: 0.4788 - accuracy: 0.77 - ETA: 7s - loss: 0.4787 - accuracy: 0.77 - ETA: 7s - loss: 0.4787 - accuracy: 0.77 - ETA: 7s - loss: 0.4787 - accuracy: 0.77 - ETA: 7s - loss: 0.4787 - accuracy: 0.77 - ETA: 7s - loss: 0.4787 - accuracy: 0.77 - ETA: 7s - loss: 0.4787 - accuracy: 0.77 - ETA: 7s - loss: 0.4787 - accuracy: 0.77 - ETA: 7s - loss: 0.4786 - accuracy: 0.77 - ETA: 7s - loss: 0.4786 - accuracy: 0.77 - ETA: 7s - loss: 0.4786 - accuracy: 0.77 - ETA: 7s - loss: 0.4785 - accuracy: 0.7764561546/561546 [==============================] - ETA: 7s - loss: 0.4785 - accuracy: 0.77 - ETA: 7s - loss: 0.4785 - accuracy: 0.77 - ETA: 7s - loss: 0.4785 - accuracy: 0.77 - ETA: 7s - loss: 0.4784 - accuracy: 0.77 - ETA: 6s - loss: 0.4785 - accuracy: 0.77 - ETA: 6s - loss: 0.4785 - accuracy: 0.77 - ETA: 6s - loss: 0.4785 - accuracy: 0.77 - ETA: 6s - loss: 0.4785 - accuracy: 0.77 - ETA: 6s - loss: 0.4785 - accuracy: 0.77 - ETA: 6s - loss: 0.4784 - accuracy: 0.77 - ETA: 6s - loss: 0.4785 - accuracy: 0.77 - ETA: 6s - loss: 0.4784 - accuracy: 0.77 - ETA: 6s - loss: 0.4784 - accuracy: 0.77 - ETA: 6s - loss: 0.4784 - accuracy: 0.77 - ETA: 6s - loss: 0.4784 - accuracy: 0.77 - ETA: 6s - loss: 0.4783 - accuracy: 0.77 - ETA: 6s - loss: 0.4783 - accuracy: 0.77 - ETA: 6s - loss: 0.4783 - accuracy: 0.77 - ETA: 6s - loss: 0.4782 - accuracy: 0.77 - ETA: 6s - loss: 0.4783 - accuracy: 0.77 - ETA: 6s - loss: 0.4782 - accuracy: 0.77 - ETA: 6s - loss: 0.4782 - accuracy: 0.77 - ETA: 5s - loss: 0.4782 - accuracy: 0.77 - ETA: 5s - loss: 0.4781 - accuracy: 0.77 - ETA: 5s - loss: 0.4781 - accuracy: 0.77 - ETA: 5s - loss: 0.4781 - accuracy: 0.77 - ETA: 5s - loss: 0.4781 - accuracy: 0.77 - ETA: 5s - loss: 0.4781 - accuracy: 0.77 - ETA: 5s - loss: 0.4781 - accuracy: 0.77 - ETA: 5s - loss: 0.4781 - accuracy: 0.77 - ETA: 5s - loss: 0.4782 - accuracy: 0.77 - ETA: 5s - loss: 0.4781 - accuracy: 0.77 - ETA: 5s - loss: 0.4781 - accuracy: 0.77 - ETA: 5s - loss: 0.4781 - accuracy: 0.77 - ETA: 5s - loss: 0.4781 - accuracy: 0.77 - ETA: 5s - loss: 0.4781 - accuracy: 0.77 - ETA: 5s - loss: 0.4780 - accuracy: 0.77 - ETA: 5s - loss: 0.4781 - accuracy: 0.77 - ETA: 5s - loss: 0.4780 - accuracy: 0.77 - ETA: 5s - loss: 0.4780 - accuracy: 0.77 - ETA: 4s - loss: 0.4780 - accuracy: 0.77 - ETA: 4s - loss: 0.4779 - accuracy: 0.77 - ETA: 4s - loss: 0.4779 - accuracy: 0.77 - ETA: 4s - loss: 0.4779 - accuracy: 0.77 - ETA: 4s - loss: 0.4778 - accuracy: 0.77 - ETA: 4s - loss: 0.4778 - accuracy: 0.77 - ETA: 4s - loss: 0.4778 - accuracy: 0.77 - ETA: 4s - loss: 0.4778 - accuracy: 0.77 - ETA: 4s - loss: 0.4778 - accuracy: 0.77 - ETA: 4s - loss: 0.4777 - accuracy: 0.77 - ETA: 4s - loss: 0.4776 - accuracy: 0.77 - ETA: 4s - loss: 0.4776 - accuracy: 0.77 - ETA: 4s - loss: 0.4776 - accuracy: 0.77 - ETA: 4s - loss: 0.4776 - accuracy: 0.77 - ETA: 4s - loss: 0.4776 - accuracy: 0.77 - ETA: 4s - loss: 0.4775 - accuracy: 0.77 - ETA: 4s - loss: 0.4775 - accuracy: 0.77 - ETA: 3s - loss: 0.4775 - accuracy: 0.77 - ETA: 3s - loss: 0.4775 - accuracy: 0.77 - ETA: 3s - loss: 0.4775 - accuracy: 0.77 - ETA: 3s - loss: 0.4775 - accuracy: 0.77 - ETA: 3s - loss: 0.4775 - accuracy: 0.77 - ETA: 3s - loss: 0.4774 - accuracy: 0.77 - ETA: 3s - loss: 0.4774 - accuracy: 0.77 - ETA: 3s - loss: 0.4774 - accuracy: 0.77 - ETA: 3s - loss: 0.4773 - accuracy: 0.77 - ETA: 3s - loss: 0.4773 - accuracy: 0.77 - ETA: 3s - loss: 0.4772 - accuracy: 0.77 - ETA: 3s - loss: 0.4772 - accuracy: 0.77 - ETA: 3s - loss: 0.4772 - accuracy: 0.77 - ETA: 3s - loss: 0.4772 - accuracy: 0.77 - ETA: 3s - loss: 0.4772 - accuracy: 0.77 - ETA: 3s - loss: 0.4772 - accuracy: 0.77 - ETA: 3s - loss: 0.4772 - accuracy: 0.77 - ETA: 3s - loss: 0.4772 - accuracy: 0.77 - ETA: 3s - loss: 0.4771 - accuracy: 0.77 - ETA: 3s - loss: 0.4771 - accuracy: 0.77 - ETA: 2s - loss: 0.4771 - accuracy: 0.77 - ETA: 2s - loss: 0.4770 - accuracy: 0.77 - ETA: 2s - loss: 0.4770 - accuracy: 0.77 - ETA: 2s - loss: 0.4770 - accuracy: 0.77 - ETA: 2s - loss: 0.4769 - accuracy: 0.77 - ETA: 2s - loss: 0.4769 - accuracy: 0.77 - ETA: 2s - loss: 0.4769 - accuracy: 0.77 - ETA: 2s - loss: 0.4769 - accuracy: 0.77 - ETA: 2s - loss: 0.4770 - accuracy: 0.77 - ETA: 2s - loss: 0.4769 - accuracy: 0.77 - ETA: 2s - loss: 0.4769 - accuracy: 0.77 - ETA: 2s - loss: 0.4770 - accuracy: 0.77 - ETA: 2s - loss: 0.4771 - accuracy: 0.77 - ETA: 2s - loss: 0.4770 - accuracy: 0.77 - ETA: 2s - loss: 0.4770 - accuracy: 0.77 - ETA: 2s - loss: 0.4770 - accuracy: 0.77 - ETA: 1s - loss: 0.4770 - accuracy: 0.77 - ETA: 1s - loss: 0.4769 - accuracy: 0.77 - ETA: 1s - loss: 0.4769 - accuracy: 0.77 - ETA: 1s - loss: 0.4769 - accuracy: 0.77 - ETA: 1s - loss: 0.4769 - accuracy: 0.77 - ETA: 1s - loss: 0.4769 - accuracy: 0.77 - ETA: 1s - loss: 0.4768 - accuracy: 0.77 - ETA: 1s - loss: 0.4768 - accuracy: 0.77 - ETA: 1s - loss: 0.4768 - accuracy: 0.77 - ETA: 1s - loss: 0.4767 - accuracy: 0.77 - ETA: 1s - loss: 0.4767 - accuracy: 0.77 - ETA: 1s - loss: 0.4767 - accuracy: 0.77 - ETA: 1s - loss: 0.4766 - accuracy: 0.77 - ETA: 1s - loss: 0.4766 - accuracy: 0.77 - ETA: 1s - loss: 0.4766 - accuracy: 0.77 - ETA: 1s - loss: 0.4766 - accuracy: 0.77 - ETA: 1s - loss: 0.4765 - accuracy: 0.77 - ETA: 0s - loss: 0.4765 - accuracy: 0.77 - ETA: 0s - loss: 0.4765 - accuracy: 0.77 - ETA: 0s - loss: 0.4764 - accuracy: 0.77 - ETA: 0s - loss: 0.4765 - accuracy: 0.77 - ETA: 0s - loss: 0.4765 - accuracy: 0.77 - ETA: 0s - loss: 0.4764 - accuracy: 0.77 - ETA: 0s - loss: 0.4764 - accuracy: 0.77 - ETA: 0s - loss: 0.4764 - accuracy: 0.77 - ETA: 0s - loss: 0.4764 - accuracy: 0.77 - ETA: 0s - loss: 0.4764 - accuracy: 0.77 - ETA: 0s - loss: 0.4763 - accuracy: 0.77 - ETA: 0s - loss: 0.4763 - accuracy: 0.77 - ETA: 0s - loss: 0.4763 - accuracy: 0.77 - ETA: 0s - loss: 0.4762 - accuracy: 0.77 - ETA: 0s - loss: 0.4761 - accuracy: 0.77 - ETA: 0s - loss: 0.4761 - accuracy: 0.77 - ETA: 0s - loss: 0.4760 - accuracy: 0.77 - 33s 58us/sample - loss: 0.4760 - accuracy: 0.7782 - val_loss: 0.4556 - val_accuracy: 0.7863\n",
      "Epoch 3/5\n",
      "199584/561546 [=========>....................] - ETA: 4:34 - loss: 0.5331 - accuracy: 0.71 - ETA: 44s - loss: 0.4835 - accuracy: 0.7742 - ETA: 40s - loss: 0.4691 - accuracy: 0.779 - ETA: 37s - loss: 0.4665 - accuracy: 0.779 - ETA: 34s - loss: 0.4616 - accuracy: 0.783 - ETA: 33s - loss: 0.4607 - accuracy: 0.782 - ETA: 33s - loss: 0.4584 - accuracy: 0.784 - ETA: 33s - loss: 0.4601 - accuracy: 0.783 - ETA: 33s - loss: 0.4646 - accuracy: 0.782 - ETA: 32s - loss: 0.4639 - accuracy: 0.784 - ETA: 32s - loss: 0.4621 - accuracy: 0.784 - ETA: 32s - loss: 0.4597 - accuracy: 0.786 - ETA: 31s - loss: 0.4618 - accuracy: 0.786 - ETA: 31s - loss: 0.4636 - accuracy: 0.785 - ETA: 31s - loss: 0.4642 - accuracy: 0.786 - ETA: 31s - loss: 0.4645 - accuracy: 0.786 - ETA: 32s - loss: 0.4651 - accuracy: 0.786 - ETA: 33s - loss: 0.4643 - accuracy: 0.786 - ETA: 33s - loss: 0.4637 - accuracy: 0.786 - ETA: 33s - loss: 0.4626 - accuracy: 0.786 - ETA: 34s - loss: 0.4623 - accuracy: 0.787 - ETA: 34s - loss: 0.4616 - accuracy: 0.787 - ETA: 33s - loss: 0.4625 - accuracy: 0.786 - ETA: 33s - loss: 0.4622 - accuracy: 0.787 - ETA: 33s - loss: 0.4625 - accuracy: 0.787 - ETA: 32s - loss: 0.4629 - accuracy: 0.787 - ETA: 32s - loss: 0.4630 - accuracy: 0.786 - ETA: 32s - loss: 0.4629 - accuracy: 0.786 - ETA: 32s - loss: 0.4630 - accuracy: 0.786 - ETA: 32s - loss: 0.4633 - accuracy: 0.786 - ETA: 32s - loss: 0.4629 - accuracy: 0.786 - ETA: 32s - loss: 0.4623 - accuracy: 0.786 - ETA: 32s - loss: 0.4623 - accuracy: 0.786 - ETA: 31s - loss: 0.4622 - accuracy: 0.787 - ETA: 31s - loss: 0.4624 - accuracy: 0.786 - ETA: 31s - loss: 0.4617 - accuracy: 0.787 - ETA: 31s - loss: 0.4625 - accuracy: 0.786 - ETA: 31s - loss: 0.4624 - accuracy: 0.786 - ETA: 31s - loss: 0.4621 - accuracy: 0.786 - ETA: 31s - loss: 0.4623 - accuracy: 0.787 - ETA: 31s - loss: 0.4629 - accuracy: 0.786 - ETA: 30s - loss: 0.4633 - accuracy: 0.786 - ETA: 30s - loss: 0.4637 - accuracy: 0.785 - ETA: 30s - loss: 0.4640 - accuracy: 0.785 - ETA: 30s - loss: 0.4639 - accuracy: 0.785 - ETA: 30s - loss: 0.4636 - accuracy: 0.785 - ETA: 30s - loss: 0.4633 - accuracy: 0.785 - ETA: 30s - loss: 0.4628 - accuracy: 0.785 - ETA: 30s - loss: 0.4623 - accuracy: 0.786 - ETA: 30s - loss: 0.4628 - accuracy: 0.785 - ETA: 30s - loss: 0.4631 - accuracy: 0.785 - ETA: 30s - loss: 0.4632 - accuracy: 0.785 - ETA: 30s - loss: 0.4625 - accuracy: 0.785 - ETA: 30s - loss: 0.4622 - accuracy: 0.786 - ETA: 29s - loss: 0.4624 - accuracy: 0.786 - ETA: 29s - loss: 0.4626 - accuracy: 0.785 - ETA: 29s - loss: 0.4628 - accuracy: 0.785 - ETA: 29s - loss: 0.4627 - accuracy: 0.785 - ETA: 29s - loss: 0.4634 - accuracy: 0.785 - ETA: 29s - loss: 0.4631 - accuracy: 0.785 - ETA: 29s - loss: 0.4630 - accuracy: 0.785 - ETA: 29s - loss: 0.4634 - accuracy: 0.785 - ETA: 29s - loss: 0.4634 - accuracy: 0.785 - ETA: 29s - loss: 0.4633 - accuracy: 0.785 - ETA: 29s - loss: 0.4635 - accuracy: 0.785 - ETA: 29s - loss: 0.4638 - accuracy: 0.785 - ETA: 28s - loss: 0.4641 - accuracy: 0.785 - ETA: 28s - loss: 0.4639 - accuracy: 0.785 - ETA: 28s - loss: 0.4638 - accuracy: 0.785 - ETA: 28s - loss: 0.4637 - accuracy: 0.785 - ETA: 28s - loss: 0.4635 - accuracy: 0.785 - ETA: 28s - loss: 0.4635 - accuracy: 0.785 - ETA: 28s - loss: 0.4630 - accuracy: 0.785 - ETA: 28s - loss: 0.4635 - accuracy: 0.785 - ETA: 27s - loss: 0.4633 - accuracy: 0.785 - ETA: 27s - loss: 0.4637 - accuracy: 0.785 - ETA: 27s - loss: 0.4636 - accuracy: 0.785 - ETA: 27s - loss: 0.4634 - accuracy: 0.785 - ETA: 27s - loss: 0.4634 - accuracy: 0.785 - ETA: 27s - loss: 0.4635 - accuracy: 0.785 - ETA: 27s - loss: 0.4636 - accuracy: 0.785 - ETA: 27s - loss: 0.4635 - accuracy: 0.785 - ETA: 27s - loss: 0.4634 - accuracy: 0.785 - ETA: 26s - loss: 0.4631 - accuracy: 0.785 - ETA: 26s - loss: 0.4632 - accuracy: 0.785 - ETA: 26s - loss: 0.4632 - accuracy: 0.785 - ETA: 26s - loss: 0.4632 - accuracy: 0.785 - ETA: 26s - loss: 0.4629 - accuracy: 0.786 - ETA: 26s - loss: 0.4628 - accuracy: 0.786 - ETA: 26s - loss: 0.4625 - accuracy: 0.786 - ETA: 26s - loss: 0.4625 - accuracy: 0.786 - ETA: 26s - loss: 0.4624 - accuracy: 0.786 - ETA: 26s - loss: 0.4623 - accuracy: 0.786 - ETA: 26s - loss: 0.4626 - accuracy: 0.786 - ETA: 26s - loss: 0.4626 - accuracy: 0.786 - ETA: 26s - loss: 0.4624 - accuracy: 0.786 - ETA: 25s - loss: 0.4625 - accuracy: 0.786 - ETA: 25s - loss: 0.4630 - accuracy: 0.786 - ETA: 25s - loss: 0.4634 - accuracy: 0.785 - ETA: 25s - loss: 0.4631 - accuracy: 0.786 - ETA: 25s - loss: 0.4630 - accuracy: 0.786 - ETA: 25s - loss: 0.4629 - accuracy: 0.786 - ETA: 25s - loss: 0.4629 - accuracy: 0.786 - ETA: 25s - loss: 0.4630 - accuracy: 0.786 - ETA: 25s - loss: 0.4632 - accuracy: 0.786 - ETA: 25s - loss: 0.4631 - accuracy: 0.786 - ETA: 25s - loss: 0.4631 - accuracy: 0.786 - ETA: 25s - loss: 0.4630 - accuracy: 0.786 - ETA: 25s - loss: 0.4629 - accuracy: 0.786 - ETA: 24s - loss: 0.4629 - accuracy: 0.786 - ETA: 24s - loss: 0.4628 - accuracy: 0.786 - ETA: 24s - loss: 0.4631 - accuracy: 0.786 - ETA: 24s - loss: 0.4630 - accuracy: 0.786 - ETA: 24s - loss: 0.4630 - accuracy: 0.786 - ETA: 24s - loss: 0.4629 - accuracy: 0.786 - ETA: 24s - loss: 0.4632 - accuracy: 0.786 - ETA: 24s - loss: 0.4631 - accuracy: 0.786 - ETA: 24s - loss: 0.4631 - accuracy: 0.786 - ETA: 24s - loss: 0.4633 - accuracy: 0.786 - ETA: 24s - loss: 0.4633 - accuracy: 0.786 - ETA: 24s - loss: 0.4633 - accuracy: 0.786 - ETA: 24s - loss: 0.4632 - accuracy: 0.786 - ETA: 24s - loss: 0.4634 - accuracy: 0.786 - ETA: 24s - loss: 0.4634 - accuracy: 0.786 - ETA: 24s - loss: 0.4633 - accuracy: 0.786 - ETA: 24s - loss: 0.4631 - accuracy: 0.786 - ETA: 23s - loss: 0.4632 - accuracy: 0.786 - ETA: 23s - loss: 0.4631 - accuracy: 0.786 - ETA: 23s - loss: 0.4632 - accuracy: 0.786 - ETA: 23s - loss: 0.4631 - accuracy: 0.786 - ETA: 23s - loss: 0.4631 - accuracy: 0.786 - ETA: 23s - loss: 0.4633 - accuracy: 0.786 - ETA: 23s - loss: 0.4632 - accuracy: 0.786 - ETA: 23s - loss: 0.4631 - accuracy: 0.786 - ETA: 23s - loss: 0.4633 - accuracy: 0.786 - ETA: 23s - loss: 0.4633 - accuracy: 0.786 - ETA: 23s - loss: 0.4632 - accuracy: 0.786 - ETA: 23s - loss: 0.4632 - accuracy: 0.787 - ETA: 23s - loss: 0.4632 - accuracy: 0.786 - ETA: 23s - loss: 0.4631 - accuracy: 0.786 - ETA: 23s - loss: 0.4632 - accuracy: 0.786 - ETA: 22s - loss: 0.4632 - accuracy: 0.786 - ETA: 22s - loss: 0.4634 - accuracy: 0.786 - ETA: 22s - loss: 0.4633 - accuracy: 0.786 - ETA: 22s - loss: 0.4634 - accuracy: 0.786 - ETA: 22s - loss: 0.4637 - accuracy: 0.786 - ETA: 22s - loss: 0.4639 - accuracy: 0.786 - ETA: 22s - loss: 0.4641 - accuracy: 0.786 - ETA: 22s - loss: 0.4642 - accuracy: 0.786 - ETA: 22s - loss: 0.4642 - accuracy: 0.786 - ETA: 22s - loss: 0.4640 - accuracy: 0.786 - ETA: 22s - loss: 0.4638 - accuracy: 0.786 - ETA: 22s - loss: 0.4638 - accuracy: 0.786 - ETA: 22s - loss: 0.4636 - accuracy: 0.786 - ETA: 22s - loss: 0.4634 - accuracy: 0.786 - ETA: 22s - loss: 0.4635 - accuracy: 0.786 - ETA: 22s - loss: 0.4634 - accuracy: 0.786 - ETA: 22s - loss: 0.4635 - accuracy: 0.786 - ETA: 22s - loss: 0.4633 - accuracy: 0.786 - ETA: 21s - loss: 0.4634 - accuracy: 0.786 - ETA: 21s - loss: 0.4636 - accuracy: 0.786 - ETA: 21s - loss: 0.4634 - accuracy: 0.786 - ETA: 21s - loss: 0.4633 - accuracy: 0.787 - ETA: 21s - loss: 0.4634 - accuracy: 0.787 - ETA: 21s - loss: 0.4636 - accuracy: 0.786 - ETA: 21s - loss: 0.4636 - accuracy: 0.786 - ETA: 21s - loss: 0.4635 - accuracy: 0.786 - ETA: 21s - loss: 0.4634 - accuracy: 0.787 - ETA: 21s - loss: 0.4634 - accuracy: 0.787 - ETA: 21s - loss: 0.4635 - accuracy: 0.786 - ETA: 21s - loss: 0.4635 - accuracy: 0.786 - ETA: 21s - loss: 0.4633 - accuracy: 0.786 - ETA: 21s - loss: 0.4632 - accuracy: 0.786 - ETA: 21s - loss: 0.4632 - accuracy: 0.786 - ETA: 21s - loss: 0.4632 - accuracy: 0.786 - ETA: 20s - loss: 0.4633 - accuracy: 0.786 - ETA: 20s - loss: 0.4632 - accuracy: 0.786 - ETA: 20s - loss: 0.4631 - accuracy: 0.786 - ETA: 20s - loss: 0.4633 - accuracy: 0.786 - ETA: 20s - loss: 0.4633 - accuracy: 0.786 - ETA: 20s - loss: 0.4633 - accuracy: 0.786 - ETA: 20s - loss: 0.4633 - accuracy: 0.786 - ETA: 20s - loss: 0.4633 - accuracy: 0.786 - ETA: 20s - loss: 0.4632 - accuracy: 0.786 - ETA: 20s - loss: 0.4631 - accuracy: 0.786 - ETA: 20s - loss: 0.4629 - accuracy: 0.7870424864/561546 [=====================>........] - ETA: 20s - loss: 0.4630 - accuracy: 0.787 - ETA: 20s - loss: 0.4629 - accuracy: 0.787 - ETA: 20s - loss: 0.4628 - accuracy: 0.787 - ETA: 20s - loss: 0.4627 - accuracy: 0.787 - ETA: 20s - loss: 0.4628 - accuracy: 0.787 - ETA: 20s - loss: 0.4630 - accuracy: 0.787 - ETA: 20s - loss: 0.4629 - accuracy: 0.787 - ETA: 19s - loss: 0.4629 - accuracy: 0.787 - ETA: 19s - loss: 0.4628 - accuracy: 0.787 - ETA: 19s - loss: 0.4629 - accuracy: 0.787 - ETA: 19s - loss: 0.4629 - accuracy: 0.787 - ETA: 19s - loss: 0.4629 - accuracy: 0.787 - ETA: 19s - loss: 0.4629 - accuracy: 0.787 - ETA: 19s - loss: 0.4630 - accuracy: 0.787 - ETA: 19s - loss: 0.4630 - accuracy: 0.787 - ETA: 19s - loss: 0.4630 - accuracy: 0.787 - ETA: 19s - loss: 0.4630 - accuracy: 0.787 - ETA: 19s - loss: 0.4631 - accuracy: 0.787 - ETA: 19s - loss: 0.4630 - accuracy: 0.787 - ETA: 19s - loss: 0.4630 - accuracy: 0.787 - ETA: 19s - loss: 0.4629 - accuracy: 0.787 - ETA: 19s - loss: 0.4628 - accuracy: 0.787 - ETA: 19s - loss: 0.4627 - accuracy: 0.787 - ETA: 18s - loss: 0.4626 - accuracy: 0.787 - ETA: 18s - loss: 0.4624 - accuracy: 0.787 - ETA: 18s - loss: 0.4625 - accuracy: 0.787 - ETA: 18s - loss: 0.4624 - accuracy: 0.787 - ETA: 18s - loss: 0.4623 - accuracy: 0.787 - ETA: 18s - loss: 0.4624 - accuracy: 0.787 - ETA: 18s - loss: 0.4623 - accuracy: 0.787 - ETA: 18s - loss: 0.4623 - accuracy: 0.787 - ETA: 18s - loss: 0.4624 - accuracy: 0.787 - ETA: 18s - loss: 0.4625 - accuracy: 0.787 - ETA: 18s - loss: 0.4625 - accuracy: 0.787 - ETA: 17s - loss: 0.4626 - accuracy: 0.787 - ETA: 17s - loss: 0.4626 - accuracy: 0.787 - ETA: 17s - loss: 0.4625 - accuracy: 0.787 - ETA: 17s - loss: 0.4625 - accuracy: 0.787 - ETA: 17s - loss: 0.4626 - accuracy: 0.787 - ETA: 17s - loss: 0.4624 - accuracy: 0.787 - ETA: 17s - loss: 0.4626 - accuracy: 0.787 - ETA: 17s - loss: 0.4625 - accuracy: 0.787 - ETA: 17s - loss: 0.4626 - accuracy: 0.787 - ETA: 17s - loss: 0.4625 - accuracy: 0.787 - ETA: 17s - loss: 0.4625 - accuracy: 0.787 - ETA: 17s - loss: 0.4625 - accuracy: 0.787 - ETA: 17s - loss: 0.4625 - accuracy: 0.787 - ETA: 17s - loss: 0.4626 - accuracy: 0.787 - ETA: 17s - loss: 0.4624 - accuracy: 0.787 - ETA: 17s - loss: 0.4625 - accuracy: 0.787 - ETA: 17s - loss: 0.4624 - accuracy: 0.787 - ETA: 16s - loss: 0.4624 - accuracy: 0.787 - ETA: 16s - loss: 0.4624 - accuracy: 0.787 - ETA: 16s - loss: 0.4625 - accuracy: 0.787 - ETA: 16s - loss: 0.4625 - accuracy: 0.787 - ETA: 16s - loss: 0.4624 - accuracy: 0.787 - ETA: 16s - loss: 0.4624 - accuracy: 0.787 - ETA: 16s - loss: 0.4625 - accuracy: 0.787 - ETA: 16s - loss: 0.4623 - accuracy: 0.787 - ETA: 16s - loss: 0.4622 - accuracy: 0.787 - ETA: 16s - loss: 0.4623 - accuracy: 0.787 - ETA: 16s - loss: 0.4622 - accuracy: 0.787 - ETA: 16s - loss: 0.4621 - accuracy: 0.787 - ETA: 16s - loss: 0.4620 - accuracy: 0.787 - ETA: 15s - loss: 0.4621 - accuracy: 0.787 - ETA: 15s - loss: 0.4622 - accuracy: 0.787 - ETA: 15s - loss: 0.4621 - accuracy: 0.787 - ETA: 15s - loss: 0.4621 - accuracy: 0.787 - ETA: 15s - loss: 0.4621 - accuracy: 0.787 - ETA: 15s - loss: 0.4623 - accuracy: 0.787 - ETA: 15s - loss: 0.4622 - accuracy: 0.787 - ETA: 15s - loss: 0.4622 - accuracy: 0.787 - ETA: 15s - loss: 0.4621 - accuracy: 0.787 - ETA: 15s - loss: 0.4621 - accuracy: 0.787 - ETA: 15s - loss: 0.4621 - accuracy: 0.787 - ETA: 15s - loss: 0.4620 - accuracy: 0.787 - ETA: 14s - loss: 0.4622 - accuracy: 0.787 - ETA: 14s - loss: 0.4621 - accuracy: 0.787 - ETA: 14s - loss: 0.4620 - accuracy: 0.787 - ETA: 14s - loss: 0.4620 - accuracy: 0.787 - ETA: 14s - loss: 0.4621 - accuracy: 0.787 - ETA: 14s - loss: 0.4621 - accuracy: 0.787 - ETA: 14s - loss: 0.4619 - accuracy: 0.788 - ETA: 14s - loss: 0.4619 - accuracy: 0.788 - ETA: 14s - loss: 0.4620 - accuracy: 0.787 - ETA: 14s - loss: 0.4621 - accuracy: 0.787 - ETA: 14s - loss: 0.4620 - accuracy: 0.788 - ETA: 14s - loss: 0.4621 - accuracy: 0.787 - ETA: 14s - loss: 0.4620 - accuracy: 0.788 - ETA: 14s - loss: 0.4620 - accuracy: 0.788 - ETA: 13s - loss: 0.4620 - accuracy: 0.788 - ETA: 13s - loss: 0.4620 - accuracy: 0.788 - ETA: 13s - loss: 0.4620 - accuracy: 0.788 - ETA: 13s - loss: 0.4621 - accuracy: 0.787 - ETA: 13s - loss: 0.4621 - accuracy: 0.787 - ETA: 13s - loss: 0.4620 - accuracy: 0.788 - ETA: 13s - loss: 0.4621 - accuracy: 0.788 - ETA: 13s - loss: 0.4621 - accuracy: 0.788 - ETA: 13s - loss: 0.4620 - accuracy: 0.788 - ETA: 13s - loss: 0.4620 - accuracy: 0.788 - ETA: 13s - loss: 0.4620 - accuracy: 0.788 - ETA: 13s - loss: 0.4620 - accuracy: 0.787 - ETA: 13s - loss: 0.4619 - accuracy: 0.788 - ETA: 13s - loss: 0.4619 - accuracy: 0.788 - ETA: 12s - loss: 0.4619 - accuracy: 0.788 - ETA: 12s - loss: 0.4618 - accuracy: 0.788 - ETA: 12s - loss: 0.4618 - accuracy: 0.788 - ETA: 12s - loss: 0.4618 - accuracy: 0.788 - ETA: 12s - loss: 0.4617 - accuracy: 0.788 - ETA: 12s - loss: 0.4616 - accuracy: 0.788 - ETA: 12s - loss: 0.4615 - accuracy: 0.788 - ETA: 12s - loss: 0.4615 - accuracy: 0.788 - ETA: 12s - loss: 0.4615 - accuracy: 0.788 - ETA: 12s - loss: 0.4614 - accuracy: 0.788 - ETA: 12s - loss: 0.4614 - accuracy: 0.788 - ETA: 12s - loss: 0.4615 - accuracy: 0.788 - ETA: 11s - loss: 0.4615 - accuracy: 0.788 - ETA: 11s - loss: 0.4615 - accuracy: 0.788 - ETA: 11s - loss: 0.4615 - accuracy: 0.788 - ETA: 11s - loss: 0.4615 - accuracy: 0.788 - ETA: 11s - loss: 0.4615 - accuracy: 0.788 - ETA: 11s - loss: 0.4615 - accuracy: 0.788 - ETA: 11s - loss: 0.4615 - accuracy: 0.788 - ETA: 11s - loss: 0.4615 - accuracy: 0.788 - ETA: 11s - loss: 0.4615 - accuracy: 0.788 - ETA: 11s - loss: 0.4615 - accuracy: 0.788 - ETA: 11s - loss: 0.4615 - accuracy: 0.788 - ETA: 11s - loss: 0.4615 - accuracy: 0.788 - ETA: 11s - loss: 0.4615 - accuracy: 0.788 - ETA: 11s - loss: 0.4615 - accuracy: 0.788 - ETA: 11s - loss: 0.4614 - accuracy: 0.788 - ETA: 10s - loss: 0.4615 - accuracy: 0.788 - ETA: 10s - loss: 0.4615 - accuracy: 0.788 - ETA: 10s - loss: 0.4614 - accuracy: 0.788 - ETA: 10s - loss: 0.4613 - accuracy: 0.788 - ETA: 10s - loss: 0.4613 - accuracy: 0.788 - ETA: 10s - loss: 0.4613 - accuracy: 0.788 - ETA: 10s - loss: 0.4613 - accuracy: 0.788 - ETA: 10s - loss: 0.4612 - accuracy: 0.788 - ETA: 10s - loss: 0.4612 - accuracy: 0.788 - ETA: 10s - loss: 0.4613 - accuracy: 0.788 - ETA: 10s - loss: 0.4614 - accuracy: 0.788 - ETA: 10s - loss: 0.4614 - accuracy: 0.788 - ETA: 10s - loss: 0.4613 - accuracy: 0.788 - ETA: 10s - loss: 0.4613 - accuracy: 0.788 - ETA: 9s - loss: 0.4613 - accuracy: 0.788 - ETA: 9s - loss: 0.4613 - accuracy: 0.78 - ETA: 9s - loss: 0.4612 - accuracy: 0.78 - ETA: 9s - loss: 0.4612 - accuracy: 0.78 - ETA: 9s - loss: 0.4611 - accuracy: 0.78 - ETA: 9s - loss: 0.4612 - accuracy: 0.78 - ETA: 9s - loss: 0.4612 - accuracy: 0.78 - ETA: 9s - loss: 0.4611 - accuracy: 0.78 - ETA: 9s - loss: 0.4611 - accuracy: 0.78 - ETA: 9s - loss: 0.4611 - accuracy: 0.78 - ETA: 9s - loss: 0.4609 - accuracy: 0.78 - ETA: 9s - loss: 0.4609 - accuracy: 0.78 - ETA: 9s - loss: 0.4609 - accuracy: 0.78 - ETA: 9s - loss: 0.4609 - accuracy: 0.78 - ETA: 8s - loss: 0.4610 - accuracy: 0.78 - ETA: 8s - loss: 0.4610 - accuracy: 0.78 - ETA: 8s - loss: 0.4609 - accuracy: 0.78 - ETA: 8s - loss: 0.4608 - accuracy: 0.78 - ETA: 8s - loss: 0.4607 - accuracy: 0.78 - ETA: 8s - loss: 0.4607 - accuracy: 0.78 - ETA: 8s - loss: 0.4607 - accuracy: 0.78 - ETA: 8s - loss: 0.4607 - accuracy: 0.78 - ETA: 8s - loss: 0.4607 - accuracy: 0.78 - ETA: 8s - loss: 0.4607 - accuracy: 0.78 - ETA: 8s - loss: 0.4607 - accuracy: 0.78 - ETA: 8s - loss: 0.4606 - accuracy: 0.78 - ETA: 8s - loss: 0.4606 - accuracy: 0.78 - ETA: 8s - loss: 0.4605 - accuracy: 0.78 - ETA: 8s - loss: 0.4605 - accuracy: 0.78 - ETA: 8s - loss: 0.4606 - accuracy: 0.78 - ETA: 7s - loss: 0.4606 - accuracy: 0.78 - ETA: 7s - loss: 0.4605 - accuracy: 0.78 - ETA: 7s - loss: 0.4605 - accuracy: 0.78 - ETA: 7s - loss: 0.4604 - accuracy: 0.78 - ETA: 7s - loss: 0.4604 - accuracy: 0.78 - ETA: 7s - loss: 0.4604 - accuracy: 0.78 - ETA: 7s - loss: 0.4603 - accuracy: 0.78 - ETA: 7s - loss: 0.4603 - accuracy: 0.78 - ETA: 7s - loss: 0.4603 - accuracy: 0.78 - ETA: 7s - loss: 0.4603 - accuracy: 0.78 - ETA: 7s - loss: 0.4602 - accuracy: 0.78 - ETA: 7s - loss: 0.4603 - accuracy: 0.7892561546/561546 [==============================] - ETA: 7s - loss: 0.4603 - accuracy: 0.78 - ETA: 7s - loss: 0.4603 - accuracy: 0.78 - ETA: 7s - loss: 0.4602 - accuracy: 0.78 - ETA: 7s - loss: 0.4602 - accuracy: 0.78 - ETA: 7s - loss: 0.4602 - accuracy: 0.78 - ETA: 6s - loss: 0.4602 - accuracy: 0.78 - ETA: 6s - loss: 0.4602 - accuracy: 0.78 - ETA: 6s - loss: 0.4602 - accuracy: 0.78 - ETA: 6s - loss: 0.4602 - accuracy: 0.78 - ETA: 6s - loss: 0.4601 - accuracy: 0.78 - ETA: 6s - loss: 0.4600 - accuracy: 0.78 - ETA: 6s - loss: 0.4600 - accuracy: 0.78 - ETA: 6s - loss: 0.4601 - accuracy: 0.78 - ETA: 6s - loss: 0.4601 - accuracy: 0.78 - ETA: 6s - loss: 0.4602 - accuracy: 0.78 - ETA: 6s - loss: 0.4602 - accuracy: 0.78 - ETA: 6s - loss: 0.4602 - accuracy: 0.78 - ETA: 6s - loss: 0.4602 - accuracy: 0.78 - ETA: 6s - loss: 0.4601 - accuracy: 0.78 - ETA: 6s - loss: 0.4601 - accuracy: 0.78 - ETA: 5s - loss: 0.4601 - accuracy: 0.78 - ETA: 5s - loss: 0.4601 - accuracy: 0.78 - ETA: 5s - loss: 0.4601 - accuracy: 0.78 - ETA: 5s - loss: 0.4601 - accuracy: 0.78 - ETA: 5s - loss: 0.4600 - accuracy: 0.78 - ETA: 5s - loss: 0.4600 - accuracy: 0.78 - ETA: 5s - loss: 0.4600 - accuracy: 0.78 - ETA: 5s - loss: 0.4600 - accuracy: 0.78 - ETA: 5s - loss: 0.4600 - accuracy: 0.78 - ETA: 5s - loss: 0.4600 - accuracy: 0.78 - ETA: 5s - loss: 0.4600 - accuracy: 0.78 - ETA: 5s - loss: 0.4600 - accuracy: 0.78 - ETA: 5s - loss: 0.4600 - accuracy: 0.78 - ETA: 5s - loss: 0.4599 - accuracy: 0.78 - ETA: 5s - loss: 0.4600 - accuracy: 0.78 - ETA: 5s - loss: 0.4600 - accuracy: 0.78 - ETA: 4s - loss: 0.4600 - accuracy: 0.78 - ETA: 4s - loss: 0.4600 - accuracy: 0.78 - ETA: 4s - loss: 0.4600 - accuracy: 0.78 - ETA: 4s - loss: 0.4600 - accuracy: 0.78 - ETA: 4s - loss: 0.4600 - accuracy: 0.78 - ETA: 4s - loss: 0.4600 - accuracy: 0.78 - ETA: 4s - loss: 0.4600 - accuracy: 0.78 - ETA: 4s - loss: 0.4600 - accuracy: 0.78 - ETA: 4s - loss: 0.4599 - accuracy: 0.78 - ETA: 4s - loss: 0.4599 - accuracy: 0.78 - ETA: 4s - loss: 0.4599 - accuracy: 0.78 - ETA: 4s - loss: 0.4599 - accuracy: 0.78 - ETA: 4s - loss: 0.4599 - accuracy: 0.78 - ETA: 4s - loss: 0.4598 - accuracy: 0.78 - ETA: 4s - loss: 0.4598 - accuracy: 0.78 - ETA: 3s - loss: 0.4599 - accuracy: 0.78 - ETA: 3s - loss: 0.4600 - accuracy: 0.78 - ETA: 3s - loss: 0.4600 - accuracy: 0.78 - ETA: 3s - loss: 0.4601 - accuracy: 0.78 - ETA: 3s - loss: 0.4600 - accuracy: 0.78 - ETA: 3s - loss: 0.4601 - accuracy: 0.78 - ETA: 3s - loss: 0.4601 - accuracy: 0.78 - ETA: 3s - loss: 0.4600 - accuracy: 0.78 - ETA: 3s - loss: 0.4600 - accuracy: 0.78 - ETA: 3s - loss: 0.4600 - accuracy: 0.78 - ETA: 3s - loss: 0.4599 - accuracy: 0.78 - ETA: 3s - loss: 0.4599 - accuracy: 0.78 - ETA: 3s - loss: 0.4599 - accuracy: 0.78 - ETA: 3s - loss: 0.4600 - accuracy: 0.78 - ETA: 3s - loss: 0.4599 - accuracy: 0.78 - ETA: 2s - loss: 0.4599 - accuracy: 0.78 - ETA: 2s - loss: 0.4599 - accuracy: 0.78 - ETA: 2s - loss: 0.4599 - accuracy: 0.78 - ETA: 2s - loss: 0.4599 - accuracy: 0.78 - ETA: 2s - loss: 0.4599 - accuracy: 0.78 - ETA: 2s - loss: 0.4599 - accuracy: 0.78 - ETA: 2s - loss: 0.4599 - accuracy: 0.78 - ETA: 2s - loss: 0.4599 - accuracy: 0.78 - ETA: 2s - loss: 0.4600 - accuracy: 0.78 - ETA: 2s - loss: 0.4600 - accuracy: 0.78 - ETA: 2s - loss: 0.4600 - accuracy: 0.78 - ETA: 2s - loss: 0.4599 - accuracy: 0.78 - ETA: 2s - loss: 0.4599 - accuracy: 0.78 - ETA: 2s - loss: 0.4599 - accuracy: 0.78 - ETA: 2s - loss: 0.4599 - accuracy: 0.78 - ETA: 2s - loss: 0.4598 - accuracy: 0.78 - ETA: 1s - loss: 0.4599 - accuracy: 0.78 - ETA: 1s - loss: 0.4599 - accuracy: 0.78 - ETA: 1s - loss: 0.4599 - accuracy: 0.78 - ETA: 1s - loss: 0.4599 - accuracy: 0.78 - ETA: 1s - loss: 0.4599 - accuracy: 0.78 - ETA: 1s - loss: 0.4599 - accuracy: 0.78 - ETA: 1s - loss: 0.4599 - accuracy: 0.78 - ETA: 1s - loss: 0.4599 - accuracy: 0.78 - ETA: 1s - loss: 0.4598 - accuracy: 0.78 - ETA: 1s - loss: 0.4598 - accuracy: 0.78 - ETA: 1s - loss: 0.4599 - accuracy: 0.78 - ETA: 1s - loss: 0.4599 - accuracy: 0.78 - ETA: 1s - loss: 0.4600 - accuracy: 0.78 - ETA: 1s - loss: 0.4600 - accuracy: 0.78 - ETA: 1s - loss: 0.4600 - accuracy: 0.78 - ETA: 1s - loss: 0.4599 - accuracy: 0.78 - ETA: 1s - loss: 0.4600 - accuracy: 0.78 - ETA: 0s - loss: 0.4600 - accuracy: 0.78 - ETA: 0s - loss: 0.4600 - accuracy: 0.78 - ETA: 0s - loss: 0.4599 - accuracy: 0.78 - ETA: 0s - loss: 0.4599 - accuracy: 0.78 - ETA: 0s - loss: 0.4599 - accuracy: 0.78 - ETA: 0s - loss: 0.4600 - accuracy: 0.78 - ETA: 0s - loss: 0.4600 - accuracy: 0.78 - ETA: 0s - loss: 0.4600 - accuracy: 0.78 - ETA: 0s - loss: 0.4600 - accuracy: 0.78 - ETA: 0s - loss: 0.4600 - accuracy: 0.78 - ETA: 0s - loss: 0.4600 - accuracy: 0.78 - ETA: 0s - loss: 0.4600 - accuracy: 0.78 - ETA: 0s - loss: 0.4600 - accuracy: 0.78 - ETA: 0s - loss: 0.4600 - accuracy: 0.78 - ETA: 0s - loss: 0.4599 - accuracy: 0.78 - ETA: 0s - loss: 0.4600 - accuracy: 0.78 - 32s 57us/sample - loss: 0.4600 - accuracy: 0.7895 - val_loss: 0.4467 - val_accuracy: 0.7978\n",
      "Epoch 4/5\n",
      "193280/561546 [=========>....................] - ETA: 0s - loss: 0.4972 - accuracy: 0.81 - ETA: 37s - loss: 0.4832 - accuracy: 0.786 - ETA: 32s - loss: 0.4817 - accuracy: 0.785 - ETA: 30s - loss: 0.4708 - accuracy: 0.788 - ETA: 31s - loss: 0.4689 - accuracy: 0.792 - ETA: 30s - loss: 0.4664 - accuracy: 0.792 - ETA: 30s - loss: 0.4654 - accuracy: 0.791 - ETA: 30s - loss: 0.4598 - accuracy: 0.792 - ETA: 29s - loss: 0.4629 - accuracy: 0.790 - ETA: 29s - loss: 0.4630 - accuracy: 0.789 - ETA: 29s - loss: 0.4639 - accuracy: 0.789 - ETA: 29s - loss: 0.4649 - accuracy: 0.787 - ETA: 29s - loss: 0.4652 - accuracy: 0.786 - ETA: 28s - loss: 0.4625 - accuracy: 0.790 - ETA: 29s - loss: 0.4621 - accuracy: 0.789 - ETA: 29s - loss: 0.4617 - accuracy: 0.789 - ETA: 28s - loss: 0.4610 - accuracy: 0.790 - ETA: 28s - loss: 0.4598 - accuracy: 0.791 - ETA: 28s - loss: 0.4598 - accuracy: 0.792 - ETA: 28s - loss: 0.4589 - accuracy: 0.793 - ETA: 28s - loss: 0.4588 - accuracy: 0.793 - ETA: 28s - loss: 0.4577 - accuracy: 0.793 - ETA: 28s - loss: 0.4588 - accuracy: 0.792 - ETA: 28s - loss: 0.4581 - accuracy: 0.792 - ETA: 28s - loss: 0.4590 - accuracy: 0.792 - ETA: 27s - loss: 0.4582 - accuracy: 0.792 - ETA: 27s - loss: 0.4573 - accuracy: 0.793 - ETA: 27s - loss: 0.4583 - accuracy: 0.792 - ETA: 27s - loss: 0.4584 - accuracy: 0.792 - ETA: 27s - loss: 0.4586 - accuracy: 0.791 - ETA: 28s - loss: 0.4587 - accuracy: 0.791 - ETA: 28s - loss: 0.4584 - accuracy: 0.791 - ETA: 28s - loss: 0.4581 - accuracy: 0.791 - ETA: 28s - loss: 0.4569 - accuracy: 0.791 - ETA: 28s - loss: 0.4574 - accuracy: 0.791 - ETA: 28s - loss: 0.4574 - accuracy: 0.791 - ETA: 28s - loss: 0.4577 - accuracy: 0.791 - ETA: 29s - loss: 0.4579 - accuracy: 0.791 - ETA: 28s - loss: 0.4590 - accuracy: 0.790 - ETA: 28s - loss: 0.4592 - accuracy: 0.790 - ETA: 28s - loss: 0.4595 - accuracy: 0.790 - ETA: 28s - loss: 0.4598 - accuracy: 0.790 - ETA: 28s - loss: 0.4595 - accuracy: 0.790 - ETA: 28s - loss: 0.4602 - accuracy: 0.790 - ETA: 29s - loss: 0.4605 - accuracy: 0.790 - ETA: 29s - loss: 0.4602 - accuracy: 0.790 - ETA: 29s - loss: 0.4600 - accuracy: 0.790 - ETA: 29s - loss: 0.4597 - accuracy: 0.790 - ETA: 29s - loss: 0.4592 - accuracy: 0.790 - ETA: 29s - loss: 0.4594 - accuracy: 0.790 - ETA: 29s - loss: 0.4600 - accuracy: 0.790 - ETA: 29s - loss: 0.4600 - accuracy: 0.790 - ETA: 29s - loss: 0.4597 - accuracy: 0.790 - ETA: 29s - loss: 0.4599 - accuracy: 0.790 - ETA: 29s - loss: 0.4597 - accuracy: 0.790 - ETA: 29s - loss: 0.4594 - accuracy: 0.790 - ETA: 29s - loss: 0.4594 - accuracy: 0.790 - ETA: 29s - loss: 0.4592 - accuracy: 0.790 - ETA: 29s - loss: 0.4591 - accuracy: 0.791 - ETA: 29s - loss: 0.4594 - accuracy: 0.791 - ETA: 29s - loss: 0.4588 - accuracy: 0.791 - ETA: 28s - loss: 0.4587 - accuracy: 0.791 - ETA: 28s - loss: 0.4585 - accuracy: 0.791 - ETA: 28s - loss: 0.4575 - accuracy: 0.792 - ETA: 28s - loss: 0.4579 - accuracy: 0.791 - ETA: 28s - loss: 0.4575 - accuracy: 0.791 - ETA: 28s - loss: 0.4572 - accuracy: 0.792 - ETA: 28s - loss: 0.4565 - accuracy: 0.792 - ETA: 28s - loss: 0.4566 - accuracy: 0.792 - ETA: 28s - loss: 0.4567 - accuracy: 0.792 - ETA: 28s - loss: 0.4568 - accuracy: 0.792 - ETA: 28s - loss: 0.4568 - accuracy: 0.792 - ETA: 28s - loss: 0.4566 - accuracy: 0.792 - ETA: 28s - loss: 0.4562 - accuracy: 0.792 - ETA: 28s - loss: 0.4562 - accuracy: 0.792 - ETA: 28s - loss: 0.4558 - accuracy: 0.792 - ETA: 28s - loss: 0.4556 - accuracy: 0.792 - ETA: 28s - loss: 0.4553 - accuracy: 0.793 - ETA: 28s - loss: 0.4551 - accuracy: 0.793 - ETA: 28s - loss: 0.4546 - accuracy: 0.793 - ETA: 27s - loss: 0.4546 - accuracy: 0.793 - ETA: 27s - loss: 0.4541 - accuracy: 0.793 - ETA: 27s - loss: 0.4542 - accuracy: 0.793 - ETA: 27s - loss: 0.4541 - accuracy: 0.793 - ETA: 27s - loss: 0.4544 - accuracy: 0.793 - ETA: 27s - loss: 0.4541 - accuracy: 0.794 - ETA: 27s - loss: 0.4541 - accuracy: 0.794 - ETA: 27s - loss: 0.4540 - accuracy: 0.794 - ETA: 26s - loss: 0.4546 - accuracy: 0.793 - ETA: 26s - loss: 0.4546 - accuracy: 0.793 - ETA: 26s - loss: 0.4546 - accuracy: 0.793 - ETA: 26s - loss: 0.4545 - accuracy: 0.793 - ETA: 26s - loss: 0.4551 - accuracy: 0.793 - ETA: 26s - loss: 0.4550 - accuracy: 0.793 - ETA: 26s - loss: 0.4551 - accuracy: 0.793 - ETA: 26s - loss: 0.4552 - accuracy: 0.793 - ETA: 26s - loss: 0.4549 - accuracy: 0.793 - ETA: 26s - loss: 0.4552 - accuracy: 0.793 - ETA: 26s - loss: 0.4552 - accuracy: 0.793 - ETA: 26s - loss: 0.4552 - accuracy: 0.793 - ETA: 26s - loss: 0.4553 - accuracy: 0.793 - ETA: 26s - loss: 0.4553 - accuracy: 0.793 - ETA: 26s - loss: 0.4554 - accuracy: 0.793 - ETA: 26s - loss: 0.4553 - accuracy: 0.793 - ETA: 25s - loss: 0.4553 - accuracy: 0.793 - ETA: 25s - loss: 0.4553 - accuracy: 0.793 - ETA: 25s - loss: 0.4555 - accuracy: 0.793 - ETA: 25s - loss: 0.4558 - accuracy: 0.792 - ETA: 25s - loss: 0.4556 - accuracy: 0.793 - ETA: 25s - loss: 0.4557 - accuracy: 0.793 - ETA: 25s - loss: 0.4557 - accuracy: 0.793 - ETA: 25s - loss: 0.4555 - accuracy: 0.793 - ETA: 25s - loss: 0.4558 - accuracy: 0.793 - ETA: 25s - loss: 0.4558 - accuracy: 0.792 - ETA: 25s - loss: 0.4559 - accuracy: 0.792 - ETA: 25s - loss: 0.4557 - accuracy: 0.793 - ETA: 25s - loss: 0.4558 - accuracy: 0.793 - ETA: 25s - loss: 0.4556 - accuracy: 0.793 - ETA: 24s - loss: 0.4556 - accuracy: 0.793 - ETA: 24s - loss: 0.4557 - accuracy: 0.793 - ETA: 24s - loss: 0.4554 - accuracy: 0.793 - ETA: 24s - loss: 0.4556 - accuracy: 0.793 - ETA: 24s - loss: 0.4558 - accuracy: 0.793 - ETA: 24s - loss: 0.4555 - accuracy: 0.793 - ETA: 24s - loss: 0.4555 - accuracy: 0.793 - ETA: 24s - loss: 0.4554 - accuracy: 0.793 - ETA: 24s - loss: 0.4556 - accuracy: 0.793 - ETA: 24s - loss: 0.4557 - accuracy: 0.792 - ETA: 24s - loss: 0.4556 - accuracy: 0.793 - ETA: 24s - loss: 0.4553 - accuracy: 0.793 - ETA: 24s - loss: 0.4552 - accuracy: 0.793 - ETA: 24s - loss: 0.4550 - accuracy: 0.793 - ETA: 23s - loss: 0.4553 - accuracy: 0.793 - ETA: 23s - loss: 0.4555 - accuracy: 0.793 - ETA: 23s - loss: 0.4554 - accuracy: 0.793 - ETA: 23s - loss: 0.4553 - accuracy: 0.793 - ETA: 23s - loss: 0.4554 - accuracy: 0.793 - ETA: 23s - loss: 0.4554 - accuracy: 0.793 - ETA: 23s - loss: 0.4554 - accuracy: 0.793 - ETA: 23s - loss: 0.4555 - accuracy: 0.792 - ETA: 23s - loss: 0.4554 - accuracy: 0.793 - ETA: 23s - loss: 0.4553 - accuracy: 0.793 - ETA: 23s - loss: 0.4555 - accuracy: 0.792 - ETA: 23s - loss: 0.4554 - accuracy: 0.792 - ETA: 23s - loss: 0.4554 - accuracy: 0.792 - ETA: 23s - loss: 0.4556 - accuracy: 0.792 - ETA: 23s - loss: 0.4556 - accuracy: 0.792 - ETA: 23s - loss: 0.4556 - accuracy: 0.792 - ETA: 23s - loss: 0.4556 - accuracy: 0.792 - ETA: 22s - loss: 0.4556 - accuracy: 0.792 - ETA: 22s - loss: 0.4558 - accuracy: 0.792 - ETA: 22s - loss: 0.4556 - accuracy: 0.792 - ETA: 22s - loss: 0.4555 - accuracy: 0.792 - ETA: 22s - loss: 0.4554 - accuracy: 0.792 - ETA: 22s - loss: 0.4553 - accuracy: 0.792 - ETA: 22s - loss: 0.4553 - accuracy: 0.792 - ETA: 22s - loss: 0.4556 - accuracy: 0.792 - ETA: 22s - loss: 0.4557 - accuracy: 0.792 - ETA: 22s - loss: 0.4556 - accuracy: 0.792 - ETA: 22s - loss: 0.4556 - accuracy: 0.792 - ETA: 22s - loss: 0.4556 - accuracy: 0.792 - ETA: 22s - loss: 0.4557 - accuracy: 0.792 - ETA: 22s - loss: 0.4556 - accuracy: 0.792 - ETA: 22s - loss: 0.4556 - accuracy: 0.792 - ETA: 21s - loss: 0.4554 - accuracy: 0.792 - ETA: 21s - loss: 0.4554 - accuracy: 0.792 - ETA: 21s - loss: 0.4552 - accuracy: 0.792 - ETA: 21s - loss: 0.4552 - accuracy: 0.792 - ETA: 21s - loss: 0.4551 - accuracy: 0.793 - ETA: 21s - loss: 0.4554 - accuracy: 0.792 - ETA: 21s - loss: 0.4554 - accuracy: 0.792 - ETA: 21s - loss: 0.4557 - accuracy: 0.792 - ETA: 21s - loss: 0.4556 - accuracy: 0.792 - ETA: 21s - loss: 0.4556 - accuracy: 0.792 - ETA: 21s - loss: 0.4556 - accuracy: 0.792 - ETA: 21s - loss: 0.4555 - accuracy: 0.792 - ETA: 21s - loss: 0.4554 - accuracy: 0.792 - ETA: 21s - loss: 0.4555 - accuracy: 0.792 - ETA: 21s - loss: 0.4555 - accuracy: 0.792 - ETA: 21s - loss: 0.4554 - accuracy: 0.792 - ETA: 21s - loss: 0.4554 - accuracy: 0.792 - ETA: 21s - loss: 0.4554 - accuracy: 0.792 - ETA: 21s - loss: 0.4555 - accuracy: 0.792 - ETA: 21s - loss: 0.4555 - accuracy: 0.792 - ETA: 21s - loss: 0.4555 - accuracy: 0.792 - ETA: 21s - loss: 0.4556 - accuracy: 0.7928379840/561546 [===================>..........] - ETA: 21s - loss: 0.4556 - accuracy: 0.792 - ETA: 21s - loss: 0.4556 - accuracy: 0.792 - ETA: 21s - loss: 0.4556 - accuracy: 0.792 - ETA: 21s - loss: 0.4555 - accuracy: 0.792 - ETA: 21s - loss: 0.4557 - accuracy: 0.792 - ETA: 21s - loss: 0.4558 - accuracy: 0.792 - ETA: 21s - loss: 0.4558 - accuracy: 0.792 - ETA: 21s - loss: 0.4557 - accuracy: 0.792 - ETA: 21s - loss: 0.4559 - accuracy: 0.792 - ETA: 21s - loss: 0.4560 - accuracy: 0.792 - ETA: 20s - loss: 0.4563 - accuracy: 0.792 - ETA: 20s - loss: 0.4562 - accuracy: 0.792 - ETA: 20s - loss: 0.4562 - accuracy: 0.792 - ETA: 20s - loss: 0.4561 - accuracy: 0.792 - ETA: 20s - loss: 0.4562 - accuracy: 0.792 - ETA: 20s - loss: 0.4564 - accuracy: 0.792 - ETA: 20s - loss: 0.4563 - accuracy: 0.792 - ETA: 20s - loss: 0.4562 - accuracy: 0.792 - ETA: 20s - loss: 0.4564 - accuracy: 0.792 - ETA: 20s - loss: 0.4564 - accuracy: 0.792 - ETA: 20s - loss: 0.4564 - accuracy: 0.792 - ETA: 20s - loss: 0.4565 - accuracy: 0.792 - ETA: 20s - loss: 0.4565 - accuracy: 0.792 - ETA: 20s - loss: 0.4564 - accuracy: 0.792 - ETA: 20s - loss: 0.4563 - accuracy: 0.792 - ETA: 20s - loss: 0.4562 - accuracy: 0.792 - ETA: 19s - loss: 0.4562 - accuracy: 0.792 - ETA: 19s - loss: 0.4562 - accuracy: 0.792 - ETA: 19s - loss: 0.4561 - accuracy: 0.792 - ETA: 19s - loss: 0.4561 - accuracy: 0.792 - ETA: 19s - loss: 0.4562 - accuracy: 0.792 - ETA: 19s - loss: 0.4562 - accuracy: 0.792 - ETA: 19s - loss: 0.4563 - accuracy: 0.792 - ETA: 19s - loss: 0.4564 - accuracy: 0.792 - ETA: 19s - loss: 0.4563 - accuracy: 0.791 - ETA: 19s - loss: 0.4563 - accuracy: 0.791 - ETA: 19s - loss: 0.4563 - accuracy: 0.791 - ETA: 19s - loss: 0.4562 - accuracy: 0.792 - ETA: 19s - loss: 0.4561 - accuracy: 0.792 - ETA: 19s - loss: 0.4561 - accuracy: 0.792 - ETA: 19s - loss: 0.4563 - accuracy: 0.791 - ETA: 19s - loss: 0.4564 - accuracy: 0.791 - ETA: 19s - loss: 0.4563 - accuracy: 0.791 - ETA: 19s - loss: 0.4564 - accuracy: 0.791 - ETA: 19s - loss: 0.4564 - accuracy: 0.791 - ETA: 19s - loss: 0.4564 - accuracy: 0.791 - ETA: 19s - loss: 0.4564 - accuracy: 0.791 - ETA: 19s - loss: 0.4563 - accuracy: 0.791 - ETA: 19s - loss: 0.4564 - accuracy: 0.791 - ETA: 19s - loss: 0.4565 - accuracy: 0.791 - ETA: 19s - loss: 0.4564 - accuracy: 0.791 - ETA: 19s - loss: 0.4565 - accuracy: 0.791 - ETA: 19s - loss: 0.4565 - accuracy: 0.791 - ETA: 19s - loss: 0.4565 - accuracy: 0.791 - ETA: 19s - loss: 0.4565 - accuracy: 0.791 - ETA: 19s - loss: 0.4565 - accuracy: 0.791 - ETA: 19s - loss: 0.4565 - accuracy: 0.791 - ETA: 19s - loss: 0.4563 - accuracy: 0.791 - ETA: 19s - loss: 0.4565 - accuracy: 0.791 - ETA: 19s - loss: 0.4564 - accuracy: 0.791 - ETA: 19s - loss: 0.4563 - accuracy: 0.791 - ETA: 19s - loss: 0.4563 - accuracy: 0.791 - ETA: 19s - loss: 0.4563 - accuracy: 0.791 - ETA: 19s - loss: 0.4563 - accuracy: 0.791 - ETA: 19s - loss: 0.4563 - accuracy: 0.791 - ETA: 18s - loss: 0.4562 - accuracy: 0.791 - ETA: 18s - loss: 0.4563 - accuracy: 0.791 - ETA: 18s - loss: 0.4563 - accuracy: 0.791 - ETA: 18s - loss: 0.4563 - accuracy: 0.791 - ETA: 18s - loss: 0.4562 - accuracy: 0.791 - ETA: 18s - loss: 0.4562 - accuracy: 0.791 - ETA: 18s - loss: 0.4561 - accuracy: 0.791 - ETA: 18s - loss: 0.4561 - accuracy: 0.791 - ETA: 18s - loss: 0.4562 - accuracy: 0.791 - ETA: 18s - loss: 0.4563 - accuracy: 0.791 - ETA: 18s - loss: 0.4563 - accuracy: 0.791 - ETA: 18s - loss: 0.4563 - accuracy: 0.791 - ETA: 18s - loss: 0.4563 - accuracy: 0.791 - ETA: 18s - loss: 0.4563 - accuracy: 0.791 - ETA: 18s - loss: 0.4563 - accuracy: 0.791 - ETA: 18s - loss: 0.4565 - accuracy: 0.791 - ETA: 18s - loss: 0.4565 - accuracy: 0.791 - ETA: 18s - loss: 0.4564 - accuracy: 0.791 - ETA: 18s - loss: 0.4565 - accuracy: 0.791 - ETA: 18s - loss: 0.4564 - accuracy: 0.791 - ETA: 18s - loss: 0.4565 - accuracy: 0.791 - ETA: 18s - loss: 0.4564 - accuracy: 0.791 - ETA: 18s - loss: 0.4564 - accuracy: 0.791 - ETA: 18s - loss: 0.4562 - accuracy: 0.791 - ETA: 18s - loss: 0.4563 - accuracy: 0.791 - ETA: 18s - loss: 0.4565 - accuracy: 0.791 - ETA: 18s - loss: 0.4566 - accuracy: 0.791 - ETA: 18s - loss: 0.4565 - accuracy: 0.791 - ETA: 17s - loss: 0.4565 - accuracy: 0.791 - ETA: 17s - loss: 0.4565 - accuracy: 0.791 - ETA: 17s - loss: 0.4566 - accuracy: 0.791 - ETA: 17s - loss: 0.4566 - accuracy: 0.791 - ETA: 17s - loss: 0.4567 - accuracy: 0.791 - ETA: 17s - loss: 0.4567 - accuracy: 0.791 - ETA: 17s - loss: 0.4569 - accuracy: 0.791 - ETA: 17s - loss: 0.4568 - accuracy: 0.791 - ETA: 17s - loss: 0.4567 - accuracy: 0.791 - ETA: 17s - loss: 0.4567 - accuracy: 0.791 - ETA: 17s - loss: 0.4567 - accuracy: 0.791 - ETA: 17s - loss: 0.4565 - accuracy: 0.791 - ETA: 17s - loss: 0.4566 - accuracy: 0.791 - ETA: 16s - loss: 0.4567 - accuracy: 0.791 - ETA: 16s - loss: 0.4567 - accuracy: 0.791 - ETA: 16s - loss: 0.4566 - accuracy: 0.791 - ETA: 16s - loss: 0.4567 - accuracy: 0.791 - ETA: 16s - loss: 0.4566 - accuracy: 0.791 - ETA: 16s - loss: 0.4565 - accuracy: 0.791 - ETA: 16s - loss: 0.4564 - accuracy: 0.791 - ETA: 16s - loss: 0.4564 - accuracy: 0.791 - ETA: 16s - loss: 0.4564 - accuracy: 0.791 - ETA: 16s - loss: 0.4565 - accuracy: 0.791 - ETA: 16s - loss: 0.4565 - accuracy: 0.791 - ETA: 16s - loss: 0.4565 - accuracy: 0.791 - ETA: 16s - loss: 0.4566 - accuracy: 0.791 - ETA: 16s - loss: 0.4566 - accuracy: 0.791 - ETA: 16s - loss: 0.4565 - accuracy: 0.791 - ETA: 16s - loss: 0.4565 - accuracy: 0.791 - ETA: 16s - loss: 0.4565 - accuracy: 0.791 - ETA: 16s - loss: 0.4565 - accuracy: 0.791 - ETA: 15s - loss: 0.4566 - accuracy: 0.791 - ETA: 15s - loss: 0.4566 - accuracy: 0.791 - ETA: 15s - loss: 0.4566 - accuracy: 0.791 - ETA: 15s - loss: 0.4565 - accuracy: 0.791 - ETA: 15s - loss: 0.4566 - accuracy: 0.791 - ETA: 15s - loss: 0.4564 - accuracy: 0.791 - ETA: 15s - loss: 0.4565 - accuracy: 0.791 - ETA: 15s - loss: 0.4564 - accuracy: 0.791 - ETA: 15s - loss: 0.4564 - accuracy: 0.791 - ETA: 15s - loss: 0.4564 - accuracy: 0.791 - ETA: 15s - loss: 0.4563 - accuracy: 0.791 - ETA: 14s - loss: 0.4561 - accuracy: 0.791 - ETA: 14s - loss: 0.4561 - accuracy: 0.791 - ETA: 14s - loss: 0.4560 - accuracy: 0.791 - ETA: 14s - loss: 0.4560 - accuracy: 0.791 - ETA: 14s - loss: 0.4560 - accuracy: 0.792 - ETA: 14s - loss: 0.4560 - accuracy: 0.792 - ETA: 14s - loss: 0.4560 - accuracy: 0.792 - ETA: 14s - loss: 0.4561 - accuracy: 0.792 - ETA: 14s - loss: 0.4561 - accuracy: 0.792 - ETA: 14s - loss: 0.4560 - accuracy: 0.792 - ETA: 14s - loss: 0.4559 - accuracy: 0.792 - ETA: 13s - loss: 0.4560 - accuracy: 0.791 - ETA: 13s - loss: 0.4560 - accuracy: 0.792 - ETA: 13s - loss: 0.4560 - accuracy: 0.792 - ETA: 13s - loss: 0.4560 - accuracy: 0.791 - ETA: 13s - loss: 0.4561 - accuracy: 0.791 - ETA: 13s - loss: 0.4561 - accuracy: 0.791 - ETA: 13s - loss: 0.4561 - accuracy: 0.791 - ETA: 13s - loss: 0.4561 - accuracy: 0.791 - ETA: 13s - loss: 0.4562 - accuracy: 0.791 - ETA: 13s - loss: 0.4561 - accuracy: 0.791 - ETA: 13s - loss: 0.4562 - accuracy: 0.791 - ETA: 12s - loss: 0.4562 - accuracy: 0.792 - ETA: 12s - loss: 0.4563 - accuracy: 0.792 - ETA: 12s - loss: 0.4563 - accuracy: 0.792 - ETA: 12s - loss: 0.4561 - accuracy: 0.792 - ETA: 12s - loss: 0.4561 - accuracy: 0.792 - ETA: 12s - loss: 0.4561 - accuracy: 0.792 - ETA: 12s - loss: 0.4560 - accuracy: 0.792 - ETA: 12s - loss: 0.4560 - accuracy: 0.792 - ETA: 12s - loss: 0.4559 - accuracy: 0.792 - ETA: 12s - loss: 0.4559 - accuracy: 0.792 - ETA: 12s - loss: 0.4559 - accuracy: 0.792 - ETA: 12s - loss: 0.4560 - accuracy: 0.792 - ETA: 11s - loss: 0.4560 - accuracy: 0.792 - ETA: 11s - loss: 0.4560 - accuracy: 0.792 - ETA: 11s - loss: 0.4559 - accuracy: 0.792 - ETA: 11s - loss: 0.4559 - accuracy: 0.792 - ETA: 11s - loss: 0.4558 - accuracy: 0.792 - ETA: 11s - loss: 0.4559 - accuracy: 0.792 - ETA: 11s - loss: 0.4559 - accuracy: 0.792 - ETA: 11s - loss: 0.4559 - accuracy: 0.792 - ETA: 11s - loss: 0.4559 - accuracy: 0.792 - ETA: 11s - loss: 0.4559 - accuracy: 0.792 - ETA: 11s - loss: 0.4560 - accuracy: 0.792 - ETA: 11s - loss: 0.4559 - accuracy: 0.792 - ETA: 11s - loss: 0.4559 - accuracy: 0.792 - ETA: 10s - loss: 0.4558 - accuracy: 0.792 - ETA: 10s - loss: 0.4558 - accuracy: 0.792 - ETA: 10s - loss: 0.4558 - accuracy: 0.792 - ETA: 10s - loss: 0.4558 - accuracy: 0.7925561546/561546 [==============================] - ETA: 10s - loss: 0.4558 - accuracy: 0.792 - ETA: 10s - loss: 0.4557 - accuracy: 0.792 - ETA: 10s - loss: 0.4558 - accuracy: 0.792 - ETA: 10s - loss: 0.4558 - accuracy: 0.792 - ETA: 10s - loss: 0.4559 - accuracy: 0.792 - ETA: 10s - loss: 0.4558 - accuracy: 0.792 - ETA: 10s - loss: 0.4557 - accuracy: 0.792 - ETA: 10s - loss: 0.4557 - accuracy: 0.792 - ETA: 10s - loss: 0.4557 - accuracy: 0.792 - ETA: 9s - loss: 0.4557 - accuracy: 0.792 - ETA: 9s - loss: 0.4557 - accuracy: 0.79 - ETA: 9s - loss: 0.4557 - accuracy: 0.79 - ETA: 9s - loss: 0.4557 - accuracy: 0.79 - ETA: 9s - loss: 0.4557 - accuracy: 0.79 - ETA: 9s - loss: 0.4557 - accuracy: 0.79 - ETA: 9s - loss: 0.4558 - accuracy: 0.79 - ETA: 9s - loss: 0.4558 - accuracy: 0.79 - ETA: 9s - loss: 0.4557 - accuracy: 0.79 - ETA: 9s - loss: 0.4557 - accuracy: 0.79 - ETA: 9s - loss: 0.4556 - accuracy: 0.79 - ETA: 9s - loss: 0.4556 - accuracy: 0.79 - ETA: 8s - loss: 0.4556 - accuracy: 0.79 - ETA: 8s - loss: 0.4557 - accuracy: 0.79 - ETA: 8s - loss: 0.4556 - accuracy: 0.79 - ETA: 8s - loss: 0.4556 - accuracy: 0.79 - ETA: 8s - loss: 0.4556 - accuracy: 0.79 - ETA: 8s - loss: 0.4556 - accuracy: 0.79 - ETA: 8s - loss: 0.4555 - accuracy: 0.79 - ETA: 8s - loss: 0.4555 - accuracy: 0.79 - ETA: 8s - loss: 0.4554 - accuracy: 0.79 - ETA: 8s - loss: 0.4554 - accuracy: 0.79 - ETA: 8s - loss: 0.4555 - accuracy: 0.79 - ETA: 8s - loss: 0.4555 - accuracy: 0.79 - ETA: 8s - loss: 0.4554 - accuracy: 0.79 - ETA: 8s - loss: 0.4553 - accuracy: 0.79 - ETA: 7s - loss: 0.4553 - accuracy: 0.79 - ETA: 7s - loss: 0.4554 - accuracy: 0.79 - ETA: 7s - loss: 0.4553 - accuracy: 0.79 - ETA: 7s - loss: 0.4552 - accuracy: 0.79 - ETA: 7s - loss: 0.4553 - accuracy: 0.79 - ETA: 7s - loss: 0.4553 - accuracy: 0.79 - ETA: 7s - loss: 0.4553 - accuracy: 0.79 - ETA: 7s - loss: 0.4553 - accuracy: 0.79 - ETA: 7s - loss: 0.4553 - accuracy: 0.79 - ETA: 7s - loss: 0.4553 - accuracy: 0.79 - ETA: 7s - loss: 0.4554 - accuracy: 0.79 - ETA: 7s - loss: 0.4553 - accuracy: 0.79 - ETA: 7s - loss: 0.4553 - accuracy: 0.79 - ETA: 6s - loss: 0.4553 - accuracy: 0.79 - ETA: 6s - loss: 0.4553 - accuracy: 0.79 - ETA: 6s - loss: 0.4552 - accuracy: 0.79 - ETA: 6s - loss: 0.4551 - accuracy: 0.79 - ETA: 6s - loss: 0.4551 - accuracy: 0.79 - ETA: 6s - loss: 0.4551 - accuracy: 0.79 - ETA: 6s - loss: 0.4551 - accuracy: 0.79 - ETA: 6s - loss: 0.4550 - accuracy: 0.79 - ETA: 6s - loss: 0.4551 - accuracy: 0.79 - ETA: 6s - loss: 0.4550 - accuracy: 0.79 - ETA: 6s - loss: 0.4551 - accuracy: 0.79 - ETA: 6s - loss: 0.4551 - accuracy: 0.79 - ETA: 6s - loss: 0.4551 - accuracy: 0.79 - ETA: 6s - loss: 0.4551 - accuracy: 0.79 - ETA: 5s - loss: 0.4552 - accuracy: 0.79 - ETA: 5s - loss: 0.4552 - accuracy: 0.79 - ETA: 5s - loss: 0.4552 - accuracy: 0.79 - ETA: 5s - loss: 0.4552 - accuracy: 0.79 - ETA: 5s - loss: 0.4552 - accuracy: 0.79 - ETA: 5s - loss: 0.4552 - accuracy: 0.79 - ETA: 5s - loss: 0.4552 - accuracy: 0.79 - ETA: 5s - loss: 0.4551 - accuracy: 0.79 - ETA: 5s - loss: 0.4552 - accuracy: 0.79 - ETA: 5s - loss: 0.4552 - accuracy: 0.79 - ETA: 5s - loss: 0.4552 - accuracy: 0.79 - ETA: 5s - loss: 0.4552 - accuracy: 0.79 - ETA: 5s - loss: 0.4552 - accuracy: 0.79 - ETA: 4s - loss: 0.4552 - accuracy: 0.79 - ETA: 4s - loss: 0.4552 - accuracy: 0.79 - ETA: 4s - loss: 0.4551 - accuracy: 0.79 - ETA: 4s - loss: 0.4550 - accuracy: 0.79 - ETA: 4s - loss: 0.4550 - accuracy: 0.79 - ETA: 4s - loss: 0.4550 - accuracy: 0.79 - ETA: 4s - loss: 0.4550 - accuracy: 0.79 - ETA: 4s - loss: 0.4549 - accuracy: 0.79 - ETA: 4s - loss: 0.4550 - accuracy: 0.79 - ETA: 4s - loss: 0.4550 - accuracy: 0.79 - ETA: 4s - loss: 0.4550 - accuracy: 0.79 - ETA: 4s - loss: 0.4550 - accuracy: 0.79 - ETA: 4s - loss: 0.4549 - accuracy: 0.79 - ETA: 3s - loss: 0.4550 - accuracy: 0.79 - ETA: 3s - loss: 0.4549 - accuracy: 0.79 - ETA: 3s - loss: 0.4550 - accuracy: 0.79 - ETA: 3s - loss: 0.4551 - accuracy: 0.79 - ETA: 3s - loss: 0.4551 - accuracy: 0.79 - ETA: 3s - loss: 0.4551 - accuracy: 0.79 - ETA: 3s - loss: 0.4551 - accuracy: 0.79 - ETA: 3s - loss: 0.4551 - accuracy: 0.79 - ETA: 3s - loss: 0.4551 - accuracy: 0.79 - ETA: 3s - loss: 0.4551 - accuracy: 0.79 - ETA: 3s - loss: 0.4551 - accuracy: 0.79 - ETA: 3s - loss: 0.4551 - accuracy: 0.79 - ETA: 3s - loss: 0.4551 - accuracy: 0.79 - ETA: 3s - loss: 0.4550 - accuracy: 0.79 - ETA: 3s - loss: 0.4550 - accuracy: 0.79 - ETA: 2s - loss: 0.4551 - accuracy: 0.79 - ETA: 2s - loss: 0.4551 - accuracy: 0.79 - ETA: 2s - loss: 0.4551 - accuracy: 0.79 - ETA: 2s - loss: 0.4551 - accuracy: 0.79 - ETA: 2s - loss: 0.4550 - accuracy: 0.79 - ETA: 2s - loss: 0.4550 - accuracy: 0.79 - ETA: 2s - loss: 0.4551 - accuracy: 0.79 - ETA: 2s - loss: 0.4550 - accuracy: 0.79 - ETA: 2s - loss: 0.4550 - accuracy: 0.79 - ETA: 2s - loss: 0.4549 - accuracy: 0.79 - ETA: 2s - loss: 0.4549 - accuracy: 0.79 - ETA: 2s - loss: 0.4550 - accuracy: 0.79 - ETA: 2s - loss: 0.4550 - accuracy: 0.79 - ETA: 2s - loss: 0.4549 - accuracy: 0.79 - ETA: 2s - loss: 0.4549 - accuracy: 0.79 - ETA: 2s - loss: 0.4549 - accuracy: 0.79 - ETA: 2s - loss: 0.4549 - accuracy: 0.79 - ETA: 1s - loss: 0.4549 - accuracy: 0.79 - ETA: 1s - loss: 0.4549 - accuracy: 0.79 - ETA: 1s - loss: 0.4549 - accuracy: 0.79 - ETA: 1s - loss: 0.4549 - accuracy: 0.79 - ETA: 1s - loss: 0.4549 - accuracy: 0.79 - ETA: 1s - loss: 0.4549 - accuracy: 0.79 - ETA: 1s - loss: 0.4549 - accuracy: 0.79 - ETA: 1s - loss: 0.4549 - accuracy: 0.79 - ETA: 1s - loss: 0.4549 - accuracy: 0.79 - ETA: 1s - loss: 0.4549 - accuracy: 0.79 - ETA: 1s - loss: 0.4549 - accuracy: 0.79 - ETA: 1s - loss: 0.4549 - accuracy: 0.79 - ETA: 1s - loss: 0.4549 - accuracy: 0.79 - ETA: 1s - loss: 0.4549 - accuracy: 0.79 - ETA: 1s - loss: 0.4548 - accuracy: 0.79 - ETA: 1s - loss: 0.4548 - accuracy: 0.79 - ETA: 1s - loss: 0.4548 - accuracy: 0.79 - ETA: 1s - loss: 0.4548 - accuracy: 0.79 - ETA: 1s - loss: 0.4548 - accuracy: 0.79 - ETA: 0s - loss: 0.4548 - accuracy: 0.79 - ETA: 0s - loss: 0.4548 - accuracy: 0.79 - ETA: 0s - loss: 0.4548 - accuracy: 0.79 - ETA: 0s - loss: 0.4547 - accuracy: 0.79 - ETA: 0s - loss: 0.4547 - accuracy: 0.79 - ETA: 0s - loss: 0.4546 - accuracy: 0.79 - ETA: 0s - loss: 0.4546 - accuracy: 0.79 - ETA: 0s - loss: 0.4546 - accuracy: 0.79 - ETA: 0s - loss: 0.4546 - accuracy: 0.79 - ETA: 0s - loss: 0.4546 - accuracy: 0.79 - ETA: 0s - loss: 0.4546 - accuracy: 0.79 - ETA: 0s - loss: 0.4546 - accuracy: 0.79 - ETA: 0s - loss: 0.4546 - accuracy: 0.79 - ETA: 0s - loss: 0.4546 - accuracy: 0.79 - ETA: 0s - loss: 0.4545 - accuracy: 0.79 - ETA: 0s - loss: 0.4545 - accuracy: 0.79 - ETA: 0s - loss: 0.4544 - accuracy: 0.79 - ETA: 0s - loss: 0.4545 - accuracy: 0.79 - ETA: 0s - loss: 0.4544 - accuracy: 0.79 - ETA: 0s - loss: 0.4544 - accuracy: 0.79 - ETA: 0s - loss: 0.4544 - accuracy: 0.79 - ETA: 0s - loss: 0.4544 - accuracy: 0.79 - 35s 62us/sample - loss: 0.4544 - accuracy: 0.7932 - val_loss: 0.4517 - val_accuracy: 0.7945\n",
      "Epoch 5/5\n",
      "226752/561546 [===========>..................] - ETA: 0s - loss: 0.3981 - accuracy: 0.84 - ETA: 38s - loss: 0.4983 - accuracy: 0.765 - ETA: 33s - loss: 0.4509 - accuracy: 0.783 - ETA: 31s - loss: 0.4475 - accuracy: 0.791 - ETA: 30s - loss: 0.4403 - accuracy: 0.796 - ETA: 29s - loss: 0.4411 - accuracy: 0.797 - ETA: 29s - loss: 0.4402 - accuracy: 0.798 - ETA: 28s - loss: 0.4415 - accuracy: 0.798 - ETA: 28s - loss: 0.4418 - accuracy: 0.798 - ETA: 28s - loss: 0.4415 - accuracy: 0.797 - ETA: 28s - loss: 0.4442 - accuracy: 0.796 - ETA: 28s - loss: 0.4447 - accuracy: 0.794 - ETA: 28s - loss: 0.4435 - accuracy: 0.796 - ETA: 28s - loss: 0.4464 - accuracy: 0.795 - ETA: 27s - loss: 0.4474 - accuracy: 0.793 - ETA: 27s - loss: 0.4464 - accuracy: 0.794 - ETA: 27s - loss: 0.4471 - accuracy: 0.794 - ETA: 27s - loss: 0.4475 - accuracy: 0.793 - ETA: 27s - loss: 0.4496 - accuracy: 0.792 - ETA: 27s - loss: 0.4490 - accuracy: 0.793 - ETA: 27s - loss: 0.4509 - accuracy: 0.792 - ETA: 27s - loss: 0.4504 - accuracy: 0.793 - ETA: 27s - loss: 0.4506 - accuracy: 0.793 - ETA: 27s - loss: 0.4510 - accuracy: 0.792 - ETA: 27s - loss: 0.4507 - accuracy: 0.793 - ETA: 27s - loss: 0.4507 - accuracy: 0.792 - ETA: 27s - loss: 0.4514 - accuracy: 0.792 - ETA: 27s - loss: 0.4514 - accuracy: 0.792 - ETA: 27s - loss: 0.4504 - accuracy: 0.793 - ETA: 27s - loss: 0.4511 - accuracy: 0.792 - ETA: 26s - loss: 0.4512 - accuracy: 0.792 - ETA: 26s - loss: 0.4508 - accuracy: 0.793 - ETA: 26s - loss: 0.4518 - accuracy: 0.792 - ETA: 26s - loss: 0.4519 - accuracy: 0.792 - ETA: 26s - loss: 0.4518 - accuracy: 0.792 - ETA: 26s - loss: 0.4517 - accuracy: 0.792 - ETA: 26s - loss: 0.4522 - accuracy: 0.792 - ETA: 26s - loss: 0.4520 - accuracy: 0.792 - ETA: 26s - loss: 0.4521 - accuracy: 0.792 - ETA: 26s - loss: 0.4516 - accuracy: 0.792 - ETA: 26s - loss: 0.4508 - accuracy: 0.793 - ETA: 26s - loss: 0.4519 - accuracy: 0.792 - ETA: 26s - loss: 0.4516 - accuracy: 0.792 - ETA: 26s - loss: 0.4515 - accuracy: 0.793 - ETA: 26s - loss: 0.4515 - accuracy: 0.792 - ETA: 26s - loss: 0.4521 - accuracy: 0.792 - ETA: 26s - loss: 0.4525 - accuracy: 0.792 - ETA: 26s - loss: 0.4531 - accuracy: 0.792 - ETA: 26s - loss: 0.4529 - accuracy: 0.792 - ETA: 25s - loss: 0.4525 - accuracy: 0.792 - ETA: 25s - loss: 0.4528 - accuracy: 0.792 - ETA: 25s - loss: 0.4530 - accuracy: 0.792 - ETA: 25s - loss: 0.4529 - accuracy: 0.792 - ETA: 25s - loss: 0.4525 - accuracy: 0.793 - ETA: 25s - loss: 0.4524 - accuracy: 0.793 - ETA: 25s - loss: 0.4521 - accuracy: 0.793 - ETA: 25s - loss: 0.4521 - accuracy: 0.793 - ETA: 25s - loss: 0.4527 - accuracy: 0.793 - ETA: 24s - loss: 0.4524 - accuracy: 0.793 - ETA: 24s - loss: 0.4522 - accuracy: 0.793 - ETA: 24s - loss: 0.4521 - accuracy: 0.793 - ETA: 24s - loss: 0.4522 - accuracy: 0.794 - ETA: 24s - loss: 0.4525 - accuracy: 0.793 - ETA: 24s - loss: 0.4527 - accuracy: 0.793 - ETA: 24s - loss: 0.4528 - accuracy: 0.793 - ETA: 24s - loss: 0.4535 - accuracy: 0.793 - ETA: 24s - loss: 0.4537 - accuracy: 0.793 - ETA: 24s - loss: 0.4536 - accuracy: 0.793 - ETA: 24s - loss: 0.4534 - accuracy: 0.793 - ETA: 24s - loss: 0.4532 - accuracy: 0.793 - ETA: 24s - loss: 0.4533 - accuracy: 0.793 - ETA: 23s - loss: 0.4535 - accuracy: 0.793 - ETA: 23s - loss: 0.4536 - accuracy: 0.793 - ETA: 23s - loss: 0.4534 - accuracy: 0.793 - ETA: 23s - loss: 0.4534 - accuracy: 0.793 - ETA: 23s - loss: 0.4535 - accuracy: 0.793 - ETA: 23s - loss: 0.4535 - accuracy: 0.793 - ETA: 23s - loss: 0.4533 - accuracy: 0.793 - ETA: 23s - loss: 0.4533 - accuracy: 0.793 - ETA: 23s - loss: 0.4534 - accuracy: 0.793 - ETA: 23s - loss: 0.4532 - accuracy: 0.793 - ETA: 23s - loss: 0.4534 - accuracy: 0.793 - ETA: 23s - loss: 0.4536 - accuracy: 0.793 - ETA: 22s - loss: 0.4535 - accuracy: 0.793 - ETA: 22s - loss: 0.4534 - accuracy: 0.793 - ETA: 22s - loss: 0.4534 - accuracy: 0.793 - ETA: 22s - loss: 0.4534 - accuracy: 0.793 - ETA: 22s - loss: 0.4536 - accuracy: 0.793 - ETA: 22s - loss: 0.4537 - accuracy: 0.793 - ETA: 22s - loss: 0.4538 - accuracy: 0.793 - ETA: 22s - loss: 0.4541 - accuracy: 0.793 - ETA: 22s - loss: 0.4542 - accuracy: 0.793 - ETA: 22s - loss: 0.4542 - accuracy: 0.793 - ETA: 22s - loss: 0.4542 - accuracy: 0.793 - ETA: 22s - loss: 0.4542 - accuracy: 0.793 - ETA: 22s - loss: 0.4542 - accuracy: 0.793 - ETA: 22s - loss: 0.4544 - accuracy: 0.793 - ETA: 21s - loss: 0.4545 - accuracy: 0.793 - ETA: 21s - loss: 0.4544 - accuracy: 0.793 - ETA: 21s - loss: 0.4544 - accuracy: 0.793 - ETA: 21s - loss: 0.4543 - accuracy: 0.793 - ETA: 21s - loss: 0.4542 - accuracy: 0.793 - ETA: 21s - loss: 0.4546 - accuracy: 0.792 - ETA: 21s - loss: 0.4544 - accuracy: 0.793 - ETA: 21s - loss: 0.4544 - accuracy: 0.793 - ETA: 21s - loss: 0.4545 - accuracy: 0.793 - ETA: 21s - loss: 0.4543 - accuracy: 0.793 - ETA: 21s - loss: 0.4543 - accuracy: 0.793 - ETA: 21s - loss: 0.4543 - accuracy: 0.793 - ETA: 21s - loss: 0.4542 - accuracy: 0.793 - ETA: 21s - loss: 0.4541 - accuracy: 0.793 - ETA: 21s - loss: 0.4542 - accuracy: 0.793 - ETA: 20s - loss: 0.4540 - accuracy: 0.793 - ETA: 20s - loss: 0.4543 - accuracy: 0.793 - ETA: 20s - loss: 0.4541 - accuracy: 0.793 - ETA: 20s - loss: 0.4540 - accuracy: 0.793 - ETA: 20s - loss: 0.4541 - accuracy: 0.793 - ETA: 20s - loss: 0.4539 - accuracy: 0.793 - ETA: 20s - loss: 0.4539 - accuracy: 0.793 - ETA: 20s - loss: 0.4537 - accuracy: 0.793 - ETA: 20s - loss: 0.4537 - accuracy: 0.793 - ETA: 20s - loss: 0.4536 - accuracy: 0.793 - ETA: 20s - loss: 0.4537 - accuracy: 0.793 - ETA: 20s - loss: 0.4540 - accuracy: 0.793 - ETA: 20s - loss: 0.4540 - accuracy: 0.793 - ETA: 20s - loss: 0.4540 - accuracy: 0.793 - ETA: 20s - loss: 0.4541 - accuracy: 0.793 - ETA: 20s - loss: 0.4541 - accuracy: 0.793 - ETA: 20s - loss: 0.4543 - accuracy: 0.793 - ETA: 20s - loss: 0.4543 - accuracy: 0.793 - ETA: 20s - loss: 0.4545 - accuracy: 0.793 - ETA: 20s - loss: 0.4544 - accuracy: 0.793 - ETA: 19s - loss: 0.4542 - accuracy: 0.793 - ETA: 19s - loss: 0.4542 - accuracy: 0.793 - ETA: 19s - loss: 0.4541 - accuracy: 0.793 - ETA: 19s - loss: 0.4544 - accuracy: 0.793 - ETA: 19s - loss: 0.4545 - accuracy: 0.793 - ETA: 19s - loss: 0.4544 - accuracy: 0.793 - ETA: 19s - loss: 0.4542 - accuracy: 0.793 - ETA: 19s - loss: 0.4540 - accuracy: 0.793 - ETA: 19s - loss: 0.4539 - accuracy: 0.793 - ETA: 19s - loss: 0.4540 - accuracy: 0.793 - ETA: 19s - loss: 0.4542 - accuracy: 0.793 - ETA: 19s - loss: 0.4541 - accuracy: 0.793 - ETA: 19s - loss: 0.4540 - accuracy: 0.793 - ETA: 19s - loss: 0.4541 - accuracy: 0.793 - ETA: 19s - loss: 0.4540 - accuracy: 0.793 - ETA: 18s - loss: 0.4542 - accuracy: 0.793 - ETA: 18s - loss: 0.4541 - accuracy: 0.793 - ETA: 18s - loss: 0.4541 - accuracy: 0.793 - ETA: 18s - loss: 0.4541 - accuracy: 0.793 - ETA: 18s - loss: 0.4540 - accuracy: 0.793 - ETA: 18s - loss: 0.4540 - accuracy: 0.793 - ETA: 18s - loss: 0.4539 - accuracy: 0.793 - ETA: 18s - loss: 0.4540 - accuracy: 0.793 - ETA: 18s - loss: 0.4540 - accuracy: 0.793 - ETA: 18s - loss: 0.4539 - accuracy: 0.793 - ETA: 18s - loss: 0.4539 - accuracy: 0.793 - ETA: 18s - loss: 0.4541 - accuracy: 0.793 - ETA: 18s - loss: 0.4543 - accuracy: 0.793 - ETA: 18s - loss: 0.4544 - accuracy: 0.793 - ETA: 18s - loss: 0.4543 - accuracy: 0.793 - ETA: 18s - loss: 0.4543 - accuracy: 0.793 - ETA: 18s - loss: 0.4542 - accuracy: 0.793 - ETA: 17s - loss: 0.4540 - accuracy: 0.793 - ETA: 17s - loss: 0.4541 - accuracy: 0.793 - ETA: 17s - loss: 0.4542 - accuracy: 0.793 - ETA: 17s - loss: 0.4542 - accuracy: 0.793 - ETA: 17s - loss: 0.4542 - accuracy: 0.793 - ETA: 17s - loss: 0.4543 - accuracy: 0.793 - ETA: 17s - loss: 0.4542 - accuracy: 0.793 - ETA: 17s - loss: 0.4543 - accuracy: 0.793 - ETA: 17s - loss: 0.4542 - accuracy: 0.793 - ETA: 17s - loss: 0.4540 - accuracy: 0.793 - ETA: 17s - loss: 0.4540 - accuracy: 0.793 - ETA: 17s - loss: 0.4540 - accuracy: 0.793 - ETA: 17s - loss: 0.4540 - accuracy: 0.793 - ETA: 17s - loss: 0.4540 - accuracy: 0.793 - ETA: 17s - loss: 0.4539 - accuracy: 0.793 - ETA: 17s - loss: 0.4538 - accuracy: 0.794 - ETA: 16s - loss: 0.4539 - accuracy: 0.793 - ETA: 16s - loss: 0.4538 - accuracy: 0.794 - ETA: 17s - loss: 0.4537 - accuracy: 0.794 - ETA: 16s - loss: 0.4537 - accuracy: 0.794 - ETA: 16s - loss: 0.4538 - accuracy: 0.794 - ETA: 16s - loss: 0.4537 - accuracy: 0.7942465440/561546 [=======================>......] - ETA: 16s - loss: 0.4536 - accuracy: 0.794 - ETA: 16s - loss: 0.4535 - accuracy: 0.794 - ETA: 16s - loss: 0.4535 - accuracy: 0.794 - ETA: 16s - loss: 0.4533 - accuracy: 0.794 - ETA: 16s - loss: 0.4533 - accuracy: 0.794 - ETA: 16s - loss: 0.4530 - accuracy: 0.794 - ETA: 16s - loss: 0.4530 - accuracy: 0.794 - ETA: 16s - loss: 0.4530 - accuracy: 0.794 - ETA: 16s - loss: 0.4530 - accuracy: 0.794 - ETA: 16s - loss: 0.4532 - accuracy: 0.794 - ETA: 16s - loss: 0.4532 - accuracy: 0.794 - ETA: 16s - loss: 0.4532 - accuracy: 0.794 - ETA: 16s - loss: 0.4532 - accuracy: 0.794 - ETA: 15s - loss: 0.4532 - accuracy: 0.794 - ETA: 15s - loss: 0.4532 - accuracy: 0.794 - ETA: 15s - loss: 0.4532 - accuracy: 0.794 - ETA: 15s - loss: 0.4532 - accuracy: 0.794 - ETA: 15s - loss: 0.4532 - accuracy: 0.794 - ETA: 15s - loss: 0.4531 - accuracy: 0.794 - ETA: 15s - loss: 0.4532 - accuracy: 0.794 - ETA: 15s - loss: 0.4532 - accuracy: 0.794 - ETA: 15s - loss: 0.4531 - accuracy: 0.794 - ETA: 15s - loss: 0.4531 - accuracy: 0.794 - ETA: 15s - loss: 0.4531 - accuracy: 0.794 - ETA: 15s - loss: 0.4531 - accuracy: 0.794 - ETA: 15s - loss: 0.4530 - accuracy: 0.794 - ETA: 14s - loss: 0.4530 - accuracy: 0.794 - ETA: 14s - loss: 0.4531 - accuracy: 0.794 - ETA: 14s - loss: 0.4530 - accuracy: 0.794 - ETA: 14s - loss: 0.4528 - accuracy: 0.794 - ETA: 14s - loss: 0.4527 - accuracy: 0.794 - ETA: 14s - loss: 0.4528 - accuracy: 0.794 - ETA: 14s - loss: 0.4528 - accuracy: 0.794 - ETA: 14s - loss: 0.4527 - accuracy: 0.794 - ETA: 14s - loss: 0.4526 - accuracy: 0.794 - ETA: 14s - loss: 0.4527 - accuracy: 0.794 - ETA: 14s - loss: 0.4526 - accuracy: 0.794 - ETA: 14s - loss: 0.4526 - accuracy: 0.794 - ETA: 14s - loss: 0.4525 - accuracy: 0.794 - ETA: 14s - loss: 0.4524 - accuracy: 0.794 - ETA: 14s - loss: 0.4523 - accuracy: 0.794 - ETA: 13s - loss: 0.4522 - accuracy: 0.794 - ETA: 13s - loss: 0.4522 - accuracy: 0.794 - ETA: 13s - loss: 0.4521 - accuracy: 0.794 - ETA: 13s - loss: 0.4521 - accuracy: 0.794 - ETA: 13s - loss: 0.4521 - accuracy: 0.794 - ETA: 13s - loss: 0.4521 - accuracy: 0.794 - ETA: 13s - loss: 0.4521 - accuracy: 0.794 - ETA: 13s - loss: 0.4523 - accuracy: 0.794 - ETA: 13s - loss: 0.4522 - accuracy: 0.794 - ETA: 13s - loss: 0.4522 - accuracy: 0.794 - ETA: 13s - loss: 0.4522 - accuracy: 0.794 - ETA: 13s - loss: 0.4521 - accuracy: 0.794 - ETA: 13s - loss: 0.4521 - accuracy: 0.794 - ETA: 13s - loss: 0.4522 - accuracy: 0.794 - ETA: 13s - loss: 0.4522 - accuracy: 0.794 - ETA: 13s - loss: 0.4522 - accuracy: 0.794 - ETA: 13s - loss: 0.4521 - accuracy: 0.794 - ETA: 13s - loss: 0.4520 - accuracy: 0.794 - ETA: 13s - loss: 0.4520 - accuracy: 0.794 - ETA: 13s - loss: 0.4520 - accuracy: 0.794 - ETA: 13s - loss: 0.4520 - accuracy: 0.794 - ETA: 13s - loss: 0.4520 - accuracy: 0.794 - ETA: 12s - loss: 0.4520 - accuracy: 0.794 - ETA: 12s - loss: 0.4521 - accuracy: 0.794 - ETA: 12s - loss: 0.4522 - accuracy: 0.794 - ETA: 12s - loss: 0.4521 - accuracy: 0.794 - ETA: 12s - loss: 0.4519 - accuracy: 0.794 - ETA: 12s - loss: 0.4519 - accuracy: 0.794 - ETA: 12s - loss: 0.4520 - accuracy: 0.794 - ETA: 12s - loss: 0.4521 - accuracy: 0.794 - ETA: 12s - loss: 0.4521 - accuracy: 0.794 - ETA: 12s - loss: 0.4521 - accuracy: 0.794 - ETA: 12s - loss: 0.4519 - accuracy: 0.794 - ETA: 12s - loss: 0.4520 - accuracy: 0.794 - ETA: 12s - loss: 0.4520 - accuracy: 0.794 - ETA: 12s - loss: 0.4521 - accuracy: 0.794 - ETA: 11s - loss: 0.4521 - accuracy: 0.794 - ETA: 11s - loss: 0.4521 - accuracy: 0.794 - ETA: 11s - loss: 0.4521 - accuracy: 0.794 - ETA: 11s - loss: 0.4522 - accuracy: 0.794 - ETA: 11s - loss: 0.4522 - accuracy: 0.794 - ETA: 11s - loss: 0.4521 - accuracy: 0.794 - ETA: 11s - loss: 0.4520 - accuracy: 0.794 - ETA: 11s - loss: 0.4520 - accuracy: 0.794 - ETA: 11s - loss: 0.4519 - accuracy: 0.794 - ETA: 11s - loss: 0.4519 - accuracy: 0.794 - ETA: 11s - loss: 0.4519 - accuracy: 0.794 - ETA: 11s - loss: 0.4518 - accuracy: 0.794 - ETA: 11s - loss: 0.4518 - accuracy: 0.794 - ETA: 11s - loss: 0.4518 - accuracy: 0.794 - ETA: 11s - loss: 0.4518 - accuracy: 0.794 - ETA: 11s - loss: 0.4518 - accuracy: 0.794 - ETA: 10s - loss: 0.4517 - accuracy: 0.795 - ETA: 10s - loss: 0.4517 - accuracy: 0.794 - ETA: 10s - loss: 0.4518 - accuracy: 0.794 - ETA: 10s - loss: 0.4518 - accuracy: 0.794 - ETA: 10s - loss: 0.4518 - accuracy: 0.794 - ETA: 10s - loss: 0.4518 - accuracy: 0.794 - ETA: 10s - loss: 0.4518 - accuracy: 0.794 - ETA: 10s - loss: 0.4518 - accuracy: 0.794 - ETA: 10s - loss: 0.4518 - accuracy: 0.794 - ETA: 10s - loss: 0.4518 - accuracy: 0.794 - ETA: 10s - loss: 0.4518 - accuracy: 0.794 - ETA: 10s - loss: 0.4517 - accuracy: 0.794 - ETA: 10s - loss: 0.4517 - accuracy: 0.794 - ETA: 10s - loss: 0.4517 - accuracy: 0.794 - ETA: 10s - loss: 0.4517 - accuracy: 0.794 - ETA: 10s - loss: 0.4517 - accuracy: 0.794 - ETA: 10s - loss: 0.4517 - accuracy: 0.794 - ETA: 10s - loss: 0.4518 - accuracy: 0.794 - ETA: 9s - loss: 0.4517 - accuracy: 0.794 - ETA: 9s - loss: 0.4517 - accuracy: 0.79 - ETA: 9s - loss: 0.4517 - accuracy: 0.79 - ETA: 9s - loss: 0.4516 - accuracy: 0.79 - ETA: 9s - loss: 0.4516 - accuracy: 0.79 - ETA: 9s - loss: 0.4517 - accuracy: 0.79 - ETA: 9s - loss: 0.4517 - accuracy: 0.79 - ETA: 9s - loss: 0.4517 - accuracy: 0.79 - ETA: 9s - loss: 0.4517 - accuracy: 0.79 - ETA: 9s - loss: 0.4516 - accuracy: 0.79 - ETA: 9s - loss: 0.4516 - accuracy: 0.79 - ETA: 9s - loss: 0.4515 - accuracy: 0.79 - ETA: 9s - loss: 0.4516 - accuracy: 0.79 - ETA: 9s - loss: 0.4517 - accuracy: 0.79 - ETA: 8s - loss: 0.4516 - accuracy: 0.79 - ETA: 8s - loss: 0.4516 - accuracy: 0.79 - ETA: 8s - loss: 0.4516 - accuracy: 0.79 - ETA: 8s - loss: 0.4515 - accuracy: 0.79 - ETA: 8s - loss: 0.4515 - accuracy: 0.79 - ETA: 8s - loss: 0.4515 - accuracy: 0.79 - ETA: 8s - loss: 0.4515 - accuracy: 0.79 - ETA: 8s - loss: 0.4515 - accuracy: 0.79 - ETA: 8s - loss: 0.4514 - accuracy: 0.79 - ETA: 8s - loss: 0.4514 - accuracy: 0.79 - ETA: 8s - loss: 0.4514 - accuracy: 0.79 - ETA: 8s - loss: 0.4514 - accuracy: 0.79 - ETA: 8s - loss: 0.4514 - accuracy: 0.79 - ETA: 8s - loss: 0.4514 - accuracy: 0.79 - ETA: 8s - loss: 0.4513 - accuracy: 0.79 - ETA: 7s - loss: 0.4513 - accuracy: 0.79 - ETA: 7s - loss: 0.4513 - accuracy: 0.79 - ETA: 7s - loss: 0.4513 - accuracy: 0.79 - ETA: 7s - loss: 0.4512 - accuracy: 0.79 - ETA: 7s - loss: 0.4512 - accuracy: 0.79 - ETA: 7s - loss: 0.4513 - accuracy: 0.79 - ETA: 7s - loss: 0.4512 - accuracy: 0.79 - ETA: 7s - loss: 0.4512 - accuracy: 0.79 - ETA: 7s - loss: 0.4511 - accuracy: 0.79 - ETA: 7s - loss: 0.4512 - accuracy: 0.79 - ETA: 7s - loss: 0.4511 - accuracy: 0.79 - ETA: 7s - loss: 0.4512 - accuracy: 0.79 - ETA: 7s - loss: 0.4513 - accuracy: 0.79 - ETA: 7s - loss: 0.4513 - accuracy: 0.79 - ETA: 6s - loss: 0.4512 - accuracy: 0.79 - ETA: 6s - loss: 0.4512 - accuracy: 0.79 - ETA: 6s - loss: 0.4512 - accuracy: 0.79 - ETA: 6s - loss: 0.4512 - accuracy: 0.79 - ETA: 6s - loss: 0.4512 - accuracy: 0.79 - ETA: 6s - loss: 0.4511 - accuracy: 0.79 - ETA: 6s - loss: 0.4511 - accuracy: 0.79 - ETA: 6s - loss: 0.4511 - accuracy: 0.79 - ETA: 6s - loss: 0.4511 - accuracy: 0.79 - ETA: 6s - loss: 0.4511 - accuracy: 0.79 - ETA: 6s - loss: 0.4511 - accuracy: 0.79 - ETA: 6s - loss: 0.4511 - accuracy: 0.79 - ETA: 6s - loss: 0.4511 - accuracy: 0.79 - ETA: 6s - loss: 0.4512 - accuracy: 0.79 - ETA: 6s - loss: 0.4512 - accuracy: 0.79 - ETA: 5s - loss: 0.4512 - accuracy: 0.79 - ETA: 5s - loss: 0.4511 - accuracy: 0.79 - ETA: 5s - loss: 0.4510 - accuracy: 0.79 - ETA: 5s - loss: 0.4510 - accuracy: 0.79 - ETA: 5s - loss: 0.4510 - accuracy: 0.79 - ETA: 5s - loss: 0.4510 - accuracy: 0.79 - ETA: 5s - loss: 0.4510 - accuracy: 0.79 - ETA: 5s - loss: 0.4510 - accuracy: 0.79 - ETA: 5s - loss: 0.4509 - accuracy: 0.79 - ETA: 5s - loss: 0.4509 - accuracy: 0.79 - ETA: 5s - loss: 0.4509 - accuracy: 0.79 - ETA: 5s - loss: 0.4509 - accuracy: 0.79 - ETA: 5s - loss: 0.4508 - accuracy: 0.79 - ETA: 5s - loss: 0.4507 - accuracy: 0.79 - ETA: 5s - loss: 0.4507 - accuracy: 0.79 - ETA: 5s - loss: 0.4506 - accuracy: 0.79 - ETA: 4s - loss: 0.4506 - accuracy: 0.79 - ETA: 4s - loss: 0.4505 - accuracy: 0.79 - ETA: 4s - loss: 0.4506 - accuracy: 0.79 - ETA: 4s - loss: 0.4506 - accuracy: 0.7954561546/561546 [==============================] - ETA: 4s - loss: 0.4507 - accuracy: 0.79 - ETA: 4s - loss: 0.4507 - accuracy: 0.79 - ETA: 4s - loss: 0.4507 - accuracy: 0.79 - ETA: 4s - loss: 0.4506 - accuracy: 0.79 - ETA: 4s - loss: 0.4506 - accuracy: 0.79 - ETA: 4s - loss: 0.4506 - accuracy: 0.79 - ETA: 4s - loss: 0.4506 - accuracy: 0.79 - ETA: 4s - loss: 0.4506 - accuracy: 0.79 - ETA: 4s - loss: 0.4506 - accuracy: 0.79 - ETA: 4s - loss: 0.4505 - accuracy: 0.79 - ETA: 4s - loss: 0.4505 - accuracy: 0.79 - ETA: 3s - loss: 0.4504 - accuracy: 0.79 - ETA: 3s - loss: 0.4504 - accuracy: 0.79 - ETA: 3s - loss: 0.4504 - accuracy: 0.79 - ETA: 3s - loss: 0.4504 - accuracy: 0.79 - ETA: 3s - loss: 0.4504 - accuracy: 0.79 - ETA: 3s - loss: 0.4504 - accuracy: 0.79 - ETA: 3s - loss: 0.4504 - accuracy: 0.79 - ETA: 3s - loss: 0.4503 - accuracy: 0.79 - ETA: 3s - loss: 0.4504 - accuracy: 0.79 - ETA: 3s - loss: 0.4504 - accuracy: 0.79 - ETA: 3s - loss: 0.4504 - accuracy: 0.79 - ETA: 3s - loss: 0.4504 - accuracy: 0.79 - ETA: 3s - loss: 0.4504 - accuracy: 0.79 - ETA: 3s - loss: 0.4504 - accuracy: 0.79 - ETA: 3s - loss: 0.4504 - accuracy: 0.79 - ETA: 3s - loss: 0.4504 - accuracy: 0.79 - ETA: 3s - loss: 0.4504 - accuracy: 0.79 - ETA: 3s - loss: 0.4504 - accuracy: 0.79 - ETA: 3s - loss: 0.4505 - accuracy: 0.79 - ETA: 3s - loss: 0.4504 - accuracy: 0.79 - ETA: 2s - loss: 0.4504 - accuracy: 0.79 - ETA: 2s - loss: 0.4504 - accuracy: 0.79 - ETA: 2s - loss: 0.4504 - accuracy: 0.79 - ETA: 2s - loss: 0.4503 - accuracy: 0.79 - ETA: 2s - loss: 0.4503 - accuracy: 0.79 - ETA: 2s - loss: 0.4503 - accuracy: 0.79 - ETA: 2s - loss: 0.4503 - accuracy: 0.79 - ETA: 2s - loss: 0.4503 - accuracy: 0.79 - ETA: 2s - loss: 0.4503 - accuracy: 0.79 - ETA: 2s - loss: 0.4503 - accuracy: 0.79 - ETA: 2s - loss: 0.4503 - accuracy: 0.79 - ETA: 2s - loss: 0.4502 - accuracy: 0.79 - ETA: 2s - loss: 0.4503 - accuracy: 0.79 - ETA: 2s - loss: 0.4502 - accuracy: 0.79 - ETA: 2s - loss: 0.4502 - accuracy: 0.79 - ETA: 1s - loss: 0.4502 - accuracy: 0.79 - ETA: 1s - loss: 0.4502 - accuracy: 0.79 - ETA: 1s - loss: 0.4502 - accuracy: 0.79 - ETA: 1s - loss: 0.4501 - accuracy: 0.79 - ETA: 1s - loss: 0.4501 - accuracy: 0.79 - ETA: 1s - loss: 0.4501 - accuracy: 0.79 - ETA: 1s - loss: 0.4501 - accuracy: 0.79 - ETA: 1s - loss: 0.4500 - accuracy: 0.79 - ETA: 1s - loss: 0.4501 - accuracy: 0.79 - ETA: 1s - loss: 0.4501 - accuracy: 0.79 - ETA: 1s - loss: 0.4501 - accuracy: 0.79 - ETA: 1s - loss: 0.4501 - accuracy: 0.79 - ETA: 1s - loss: 0.4500 - accuracy: 0.79 - ETA: 1s - loss: 0.4501 - accuracy: 0.79 - ETA: 1s - loss: 0.4501 - accuracy: 0.79 - ETA: 1s - loss: 0.4500 - accuracy: 0.79 - ETA: 1s - loss: 0.4500 - accuracy: 0.79 - ETA: 1s - loss: 0.4500 - accuracy: 0.79 - ETA: 0s - loss: 0.4500 - accuracy: 0.79 - ETA: 0s - loss: 0.4500 - accuracy: 0.79 - ETA: 0s - loss: 0.4500 - accuracy: 0.79 - ETA: 0s - loss: 0.4500 - accuracy: 0.79 - ETA: 0s - loss: 0.4500 - accuracy: 0.79 - ETA: 0s - loss: 0.4500 - accuracy: 0.79 - ETA: 0s - loss: 0.4500 - accuracy: 0.79 - ETA: 0s - loss: 0.4500 - accuracy: 0.79 - ETA: 0s - loss: 0.4500 - accuracy: 0.79 - ETA: 0s - loss: 0.4500 - accuracy: 0.79 - ETA: 0s - loss: 0.4501 - accuracy: 0.79 - ETA: 0s - loss: 0.4501 - accuracy: 0.79 - ETA: 0s - loss: 0.4500 - accuracy: 0.79 - ETA: 0s - loss: 0.4501 - accuracy: 0.79 - ETA: 0s - loss: 0.4501 - accuracy: 0.79 - ETA: 0s - loss: 0.4501 - accuracy: 0.79 - 30s 54us/sample - loss: 0.4501 - accuracy: 0.7960 - val_loss: 0.4462 - val_accuracy: 0.7961\n"
     ]
    }
   ],
   "source": [
    "hist = model.fit(\n",
    "    X_train,\n",
    "    y_train,\n",
    "    validation_data=(X_test, y_test),\n",
    "    epochs=5\n",
    ")"
   ]
  },
  {
   "cell_type": "code",
   "execution_count": 67,
   "metadata": {},
   "outputs": [],
   "source": [
    "hist = hist.history"
   ]
  },
  {
   "cell_type": "code",
   "execution_count": 68,
   "metadata": {},
   "outputs": [
    {
     "data": {
      "image/png": "[encoded data removed]",
      "text/plain": [
       "<Figure size 432x288 with 1 Axes>"
      ]
     },
     "metadata": {
      "needs_background": "light"
     },
     "output_type": "display_data"
    }
   ],
   "source": [
    "plt.plot(hist['loss'], label=\"train\")\n",
    "plt.plot(hist['val_loss'], label=\"valid\")\n",
    "plt.xlabel(\"Epochs\")\n",
    "plt.ylabel(\"Loss\")\n",
    "plt.legend()\n",
    "plt.show()"
   ]
  },
  {
   "cell_type": "code",
   "execution_count": 69,
   "metadata": {},
   "outputs": [
    {
     "data": {
      "image/png": "[encoded data removed]",
      "text/plain": [
       "<Figure size 432x288 with 1 Axes>"
      ]
     },
     "metadata": {
      "needs_background": "light"
     },
     "output_type": "display_data"
    }
   ],
   "source": [
    "plt.plot(hist['accuracy'], label=\"train\")\n",
    "plt.plot(hist['val_accuracy'], label=\"valid\")\n",
    "plt.xlabel(\"Epochs\")\n",
    "plt.ylabel(\"Accuracy\")\n",
    "plt.legend()\n",
    "plt.show()"
   ]
  },
  {
   "cell_type": "code",
   "execution_count": 70,
   "metadata": {},
   "outputs": [
    {
     "name": "stdout",
     "output_type": "stream",
     "text": [
      "max train accuracy:  0.7960149\n",
      "max valid accuracy:  0.7978011\n"
     ]
    }
   ],
   "source": [
    "print(\"max train accuracy: \", np.max(hist['accuracy']))\n",
    "print(\"max valid accuracy: \", np.max(hist['val_accuracy']))"
   ]
  },
  {
   "cell_type": "markdown",
   "metadata": {},
   "source": [
    "## E.6. Naïves Bayves"
   ]
  },
  {
   "cell_type": "markdown",
   "metadata": {},
   "source": [
    "We need to give to computer a probabilistic modelization of the likelihood of the features. The problem is that I have no idea how the feature are distributed in along the different axes once they travelled through UMAP... Let's try Mr Gauss!\n",
    "\n",
    "Another problem is that Naïves Bayves assumes that the feature are independant which is of course not the case. But, that it a problem every time you use NB, and it still give reasonable results."
   ]
  },
  {
   "cell_type": "code",
   "execution_count": 218,
   "metadata": {},
   "outputs": [
    {
     "data": {
      "text/plain": [
       "GaussianNB(priors=None, var_smoothing=1e-09)"
      ]
     },
     "execution_count": 218,
     "metadata": {},
     "output_type": "execute_result"
    }
   ],
   "source": [
    "from sklearn.naive_bayes import GaussianNB\n",
    "from sklearn.naive_bayes import MultinomialNB\n",
    "from sklearn.naive_bayes import ComplementNB\n",
    "from sklearn.naive_bayes import BernoulliNB\n",
    "\n",
    "maxi1=X_train.shape[0] #To test the complexity of the algo but finally all the training set\n",
    "#maxi1=1000\n",
    "maxi2=1000 #Size of the testing set\n",
    "\n",
    "gnb = GaussianNB()\n",
    "gnb.fit(X_train[0:maxi1,], y_train[0:maxi1,].reshape(-1))"
   ]
  },
  {
   "cell_type": "code",
   "execution_count": 219,
   "metadata": {},
   "outputs": [],
   "source": [
    "ypred = gnb.predict(X_test[0:maxi2,])"
   ]
  },
  {
   "cell_type": "code",
   "execution_count": 220,
   "metadata": {},
   "outputs": [
    {
     "name": "stdout",
     "output_type": "stream",
     "text": [
      "Accuracy Naïves Bayves 561546 data in the training set : 0.631\n"
     ]
    }
   ],
   "source": [
    "resultat=np.zeros(ypred.shape)\n",
    "for i in range(ypred.shape[0]):\n",
    "    if (ypred[i]==y_test[i,0]): resultat[i]=1\n",
    "print(\"Accuracy Naïves Bayves\",maxi1,\"data in the training set :\",np.mean(resultat))"
   ]
  },
  {
   "cell_type": "markdown",
   "metadata": {},
   "source": [
    "Accuracy Naïves Bayves 1000 data in the training set (Gaussian proba) : 0.615\n",
    "Accuracy Naïves Bayves 5000 data in the training set (Gaussian proba) : 0.627\n",
    "Accuracy Naïves Bayves 100000 data in the training set (Gaussian proba) : 0.632\n",
    "Accuracy Naïves Bayves 561546 data in the training set (Gaussian proba) : 0.631\n",
    "Accuracy Naïves Bayves 561546 data in the training set (Bernouilly proba): 0.589"
   ]
  },
  {
   "cell_type": "markdown",
   "metadata": {},
   "source": [
    "Well, no big surprise, this does not work!"
   ]
  },
  {
   "cell_type": "markdown",
   "metadata": {},
   "source": [
    "### CONCLUSION so far : the KNN algorithm seems to give good results. The random forest is even better (by 4 or 5%) but the computation is slow. The KNN speed is quite high and we can test the other features on the nodes and maybe on the words with KNN (and maybe with a random forest - to be tested). Once we will be happy the the features and get a good result with the KNN algorithm, we will try complex RN to improve."
   ]
  },
  {
   "cell_type": "markdown",
   "metadata": {},
   "source": [
    "# F. Our best model"
   ]
  },
  {
   "cell_type": "markdown",
   "metadata": {},
   "source": [
    "## F.1. Build together the best features we have"
   ]
  },
  {
   "cell_type": "code",
   "execution_count": 72,
   "metadata": {},
   "outputs": [
    {
     "name": "stderr",
     "output_type": "stream",
     "text": [
      "453797it [12:41, 595.57it/s] \n"
     ]
    },
    {
     "ename": "NameError",
     "evalue": "name 'y_complex' is not defined",
     "output_type": "error",
     "traceback": [
      "\u001b[1;31m---------------------------------------------------------------------------\u001b[0m",
      "\u001b[1;31mNameError\u001b[0m                                 Traceback (most recent call last)",
      "\u001b[1;32m<ipython-input-72-ef882bbf5966>\u001b[0m in \u001b[0;36m<module>\u001b[1;34m\u001b[0m\n\u001b[0;32m     41\u001b[0m \u001b[0mX\u001b[0m \u001b[1;33m=\u001b[0m \u001b[0mnp\u001b[0m\u001b[1;33m.\u001b[0m\u001b[0marray\u001b[0m\u001b[1;33m(\u001b[0m\u001b[0mX\u001b[0m\u001b[1;33m)\u001b[0m\u001b[1;33m\u001b[0m\u001b[1;33m\u001b[0m\u001b[0m\n\u001b[0;32m     42\u001b[0m \u001b[0my\u001b[0m \u001b[1;33m=\u001b[0m \u001b[0mnp\u001b[0m\u001b[1;33m.\u001b[0m\u001b[0marray\u001b[0m\u001b[1;33m(\u001b[0m\u001b[0my\u001b[0m\u001b[1;33m)\u001b[0m\u001b[1;33m\u001b[0m\u001b[1;33m\u001b[0m\u001b[0m\n\u001b[1;32m---> 43\u001b[1;33m \u001b[0my\u001b[0m \u001b[1;33m=\u001b[0m \u001b[0mnp\u001b[0m\u001b[1;33m.\u001b[0m\u001b[0mexpand_dims\u001b[0m\u001b[1;33m(\u001b[0m\u001b[0my_complex\u001b[0m\u001b[1;33m,\u001b[0m \u001b[0maxis\u001b[0m\u001b[1;33m=\u001b[0m\u001b[1;36m1\u001b[0m\u001b[1;33m)\u001b[0m\u001b[1;33m\u001b[0m\u001b[1;33m\u001b[0m\u001b[0m\n\u001b[0m",
      "\u001b[1;31mNameError\u001b[0m: name 'y_complex' is not defined"
     ]
    }
   ],
   "source": [
    "#PREPARE COMPLEX MODEL (vector of size 869)\n",
    "X = []\n",
    "y = []\n",
    "add_sym = False # Set to true if you want to had symetrical data non present in G\n",
    "text_emb = vecs_text\n",
    "node_emb = vecs_nodes\n",
    "\n",
    "it = 0\n",
    "with open(\"training.txt\", \"r\") as f:\n",
    "    for line in tqdm(f):\n",
    "        line = line.split()\n",
    "        n1, n2 = line[0], line[1]\n",
    "#         sim_text = similarity(text_emb[n1], text_emb[n2])\n",
    "        X.append([\n",
    "            *Node_umap[nid_to_index[n1]], DG.in_degree[n1], DG.out_degree[n1], \n",
    "            *node_emb[n1], \n",
    "            *Node_umap[nid_to_index[n2]], DG.in_degree[n2], DG.out_degree[n2],\n",
    "            *node_emb[n2],\n",
    "            get_jc(G, n1, n2),\n",
    "            *text_emb[n1],\n",
    "            *text_emb[n2]])\n",
    "        if line[2] == \"1\":\n",
    "            y.append(1.0)\n",
    "            it += 1\n",
    "            if toy and it >= it_toy_limit:\n",
    "                break\n",
    "        else:\n",
    "            y.append(0.0)\n",
    "                  \n",
    "        if add_sym and not(G.has_edge(n2, n1)):\n",
    "            X.append([\n",
    "                *Node_umap[nid_to_index[n2]], DG.in_degree[n2], DG.out_degree[n2],\n",
    "                *node_emb[n2], \n",
    "                *Node_umap[nid_to_index[n1]], DG.in_degree[n1], DG.out_degree[n1],\n",
    "                *node_emb[n1], \n",
    "                0.0,\n",
    "                *text_emb[n2],\n",
    "                *text_emb[n1]])\n",
    "            y.append(0.0)\n",
    "                          \n",
    "X = np.array(X)\n",
    "y = np.array(y)\n",
    "y = np.expand_dims(y, axis=1)"
   ]
  },
  {
   "cell_type": "code",
   "execution_count": 74,
   "metadata": {},
   "outputs": [
    {
     "name": "stdout",
     "output_type": "stream",
     "text": [
      "shape X:  (453797, 867)\n",
      "shape y:  (453797, 1)\n"
     ]
    }
   ],
   "source": [
    "print(\"shape X: \", np.shape(X))\n",
    "print(\"shape y: \", np.shape(y))\n",
    "# I turn off the symmetrie to save time"
   ]
  },
  {
   "cell_type": "markdown",
   "metadata": {},
   "source": [
    "### Preprocessing"
   ]
  },
  {
   "cell_type": "code",
   "execution_count": null,
   "metadata": {},
   "outputs": [],
   "source": [
    "preprocessor = Pipeline([\n",
    "        ('minmaxscaler', MinMaxScaler()),\n",
    "        ('stdscaler', StandardScaler()),\n",
    "    ])\n",
    "\n",
    "X = preprocessor.fit_transform(X)"
   ]
  },
  {
   "cell_type": "markdown",
   "metadata": {},
   "source": [
    "### Train Validation Split¶"
   ]
  },
  {
   "cell_type": "code",
   "execution_count": 22,
   "metadata": {},
   "outputs": [],
   "source": [
    "prop_split = 0.10\n",
    "if prop_split > 0:\n",
    "    X_train, X_valid, y_train, y_valid = train_test_split(X, y, test_size=prop_split, random_state=42)\n",
    "else:\n",
    "    X_train, y_train = X, y\n",
    "\n",
    "X_train, X_test, y_train, y_test = train_test_split(X_complex , y_complex, test_size=0.10, random_state=random_state)"
   ]
  },
  {
   "cell_type": "markdown",
   "metadata": {},
   "source": [
    "## F.2. Last test before complex NN : KNN on the 869 dimensions"
   ]
  },
  {
   "cell_type": "code",
   "execution_count": 34,
   "metadata": {},
   "outputs": [],
   "source": [
    "#X_train2=X_train-np.mean(X_train,axis=0)\n",
    "#X_train3=X_train2\n",
    "#X_test2 =X_test -np.mean(X_train,axis=0)\n",
    "#X_test3=X_test2"
   ]
  },
  {
   "cell_type": "code",
   "execution_count": 35,
   "metadata": {},
   "outputs": [],
   "source": [
    "#for i in range(X_train.shape[1]):\n",
    "#    X_train3[:,i]=X_train2[:,i]/np.std(X_train,axis=0)[i]\n",
    "#    X_test3 [:,i]=X_test2[:,i]/np.std(X_train,axis=0)[i]"
   ]
  },
  {
   "cell_type": "code",
   "execution_count": 36,
   "metadata": {},
   "outputs": [
    {
     "data": {
      "text/plain": [
       "KNeighborsClassifier(algorithm='auto', leaf_size=30, metric='minkowski',\n",
       "                     metric_params=None, n_jobs=None, n_neighbors=7, p=2,\n",
       "                     weights='uniform')"
      ]
     },
     "execution_count": 36,
     "metadata": {},
     "output_type": "execute_result"
    }
   ],
   "source": [
    "from sklearn.neighbors import KNeighborsClassifier\n",
    "knn = KNeighborsClassifier(n_neighbors=7)\n",
    "knn.fit(X_train, y_train.reshape(-1)) "
   ]
  },
  {
   "cell_type": "code",
   "execution_count": 48,
   "metadata": {},
   "outputs": [],
   "source": [
    "ypred=knn.predict(X_test[0:1000]) #Linéaire en la taille ; pas la peine de tout prendre"
   ]
  },
  {
   "cell_type": "code",
   "execution_count": 49,
   "metadata": {},
   "outputs": [
    {
     "name": "stdout",
     "output_type": "stream",
     "text": [
      "Accuracy KNN :  0.897\n"
     ]
    }
   ],
   "source": [
    "resultat=np.zeros(ypred.shape)\n",
    "for i in range(ypred.shape[0]):\n",
    "    if (ypred[i]==y_test[i,0]): resultat[i]=1\n",
    "print(\"Accuracy KNN : \",np.mean(1000*resultat)/1000)"
   ]
  },
  {
   "cell_type": "markdown",
   "metadata": {},
   "source": [
    "## F.3. RNN on the complex model"
   ]
  },
  {
   "cell_type": "code",
   "execution_count": 83,
   "metadata": {},
   "outputs": [
    {
     "ename": "NameError",
     "evalue": "name 'X_train' is not defined",
     "output_type": "error",
     "traceback": [
      "\u001b[1;31m---------------------------------------------------------------------------\u001b[0m",
      "\u001b[1;31mNameError\u001b[0m                                 Traceback (most recent call last)",
      "\u001b[1;32m<ipython-input-83-80c33126ef6d>\u001b[0m in \u001b[0;36m<module>\u001b[1;34m\u001b[0m\n\u001b[0;32m    117\u001b[0m     \u001b[1;32mreturn\u001b[0m \u001b[0mmodel\u001b[0m\u001b[1;33m\u001b[0m\u001b[1;33m\u001b[0m\u001b[0m\n\u001b[0;32m    118\u001b[0m \u001b[1;33m\u001b[0m\u001b[0m\n\u001b[1;32m--> 119\u001b[1;33m \u001b[0mmodel\u001b[0m \u001b[1;33m=\u001b[0m \u001b[0mvador_model\u001b[0m\u001b[1;33m(\u001b[0m\u001b[1;33m)\u001b[0m\u001b[1;33m\u001b[0m\u001b[1;33m\u001b[0m\u001b[0m\n\u001b[0m",
      "\u001b[1;32m<ipython-input-83-80c33126ef6d>\u001b[0m in \u001b[0;36mvador_model\u001b[1;34m()\u001b[0m\n\u001b[0;32m      7\u001b[0m     \u001b[0mdropout_rate\u001b[0m \u001b[1;33m=\u001b[0m \u001b[1;36m0.1\u001b[0m\u001b[1;33m\u001b[0m\u001b[1;33m\u001b[0m\u001b[0m\n\u001b[0;32m      8\u001b[0m \u001b[1;33m\u001b[0m\u001b[0m\n\u001b[1;32m----> 9\u001b[1;33m     \u001b[0minpt\u001b[0m \u001b[1;33m=\u001b[0m \u001b[0mtf\u001b[0m\u001b[1;33m.\u001b[0m\u001b[0mkeras\u001b[0m\u001b[1;33m.\u001b[0m\u001b[0mlayers\u001b[0m\u001b[1;33m.\u001b[0m\u001b[0mInput\u001b[0m\u001b[1;33m(\u001b[0m\u001b[1;33m(\u001b[0m\u001b[0mnp\u001b[0m\u001b[1;33m.\u001b[0m\u001b[0mshape\u001b[0m\u001b[1;33m(\u001b[0m\u001b[0mX_train\u001b[0m\u001b[1;33m)\u001b[0m\u001b[1;33m[\u001b[0m\u001b[1;36m1\u001b[0m\u001b[1;33m]\u001b[0m\u001b[1;33m,\u001b[0m\u001b[1;33m)\u001b[0m\u001b[1;33m)\u001b[0m\u001b[1;33m\u001b[0m\u001b[1;33m\u001b[0m\u001b[0m\n\u001b[0m\u001b[0;32m     10\u001b[0m \u001b[1;33m\u001b[0m\u001b[0m\n\u001b[0;32m     11\u001b[0m     \u001b[0mslice_n1\u001b[0m \u001b[1;33m=\u001b[0m \u001b[0minpt\u001b[0m\u001b[1;33m[\u001b[0m\u001b[1;33m:\u001b[0m\u001b[1;33m,\u001b[0m\u001b[1;33m:\u001b[0m\u001b[0msize_emb\u001b[0m\u001b[1;33m]\u001b[0m\u001b[1;33m\u001b[0m\u001b[1;33m\u001b[0m\u001b[0m\n",
      "\u001b[1;31mNameError\u001b[0m: name 'X_train' is not defined"
     ]
    }
   ],
   "source": [
    "def vador_model():\n",
    "    N = 64\n",
    "    size_emb = nc + 2\n",
    "    size_n2v_emb = 128\n",
    "    size_text_emb = 300\n",
    "    nunits = [N] * 6\n",
    "    dropout_rate = 0.1\n",
    "    \n",
    "    inpt = tf.keras.layers.Input((np.shape(X_train)[1],))\n",
    "    \n",
    "    slice_n1 = inpt[:,:size_emb]\n",
    "    slice_n2v_n1 = inpt[:, size_emb:size_emb+size_n2v_emb]\n",
    "    slice_n2 = inpt[:,size_emb+size_n2v_emb:size_emb+size_n2v_emb+size_emb]\n",
    "    slice_n2v_n2 = inpt[:, size_emb+size_n2v_emb+size_emb:size_emb+size_n2v_emb+size_emb+size_n2v_emb]\n",
    "    slice_jc = inpt[:, size_emb+size_n2v_emb+size_emb+size_n2v_emb:size_emb+size_n2v_emb+size_emb+size_n2v_emb+1]\n",
    "    cursor = size_emb+size_n2v_emb+size_emb+size_n2v_emb+1\n",
    "#     slice_sim_text = inpt[:, size_emb+size_n2v_emb+size_emb+size_n2v_emb+1:]\n",
    "    slice_t_n1 = inpt[:, cursor:cursor+size_text_emb]\n",
    "    slice_t_n2 = inpt[:, cursor+size_text_emb:cursor+size_text_emb*2]\n",
    "    \n",
    "    #UMAP EMBEDDINGS\n",
    "    l_dense1 = tf.keras.layers.Dense(nunits[0], activation='relu')\n",
    "    l_dropout1 = tf.keras.layers.Dropout(dropout_rate)\n",
    "    l_dense2 = tf.keras.layers.Dense(nunits[1], activation='relu')\n",
    "    l_dropout2 = tf.keras.layers.Dropout(dropout_rate)\n",
    "    l_dense3 = tf.keras.layers.Dense(nunits[2], activation='relu')\n",
    "    l_dropout3 = tf.keras.layers.Dropout(dropout_rate)\n",
    "    \n",
    "    sub_n1_1 = l_dense1(slice_n1)\n",
    "    sub_n1_do_1 = l_dropout1(sub_n1_1)\n",
    "    sub_n1_2 = l_dense2(sub_n1_do_1)\n",
    "    sub_n1_do_2 = l_dropout2(sub_n1_2)\n",
    "    sub_n1_3 = l_dense3(sub_n1_do_2)\n",
    "    sub_n1_do_3 = l_dropout3(sub_n1_3)\n",
    "    \n",
    "    sub_n2_1 = l_dense1(slice_n2)\n",
    "    sub_n2_do_1 = l_dropout1(sub_n2_1)\n",
    "    sub_n2_2 = l_dense2(sub_n2_do_1)\n",
    "    sub_n2_do_2 = l_dropout2(sub_n2_2)\n",
    "    sub_n2_3 = l_dense3(sub_n2_do_2)\n",
    "    sub_n2_do_3 = l_dropout3(sub_n2_3)\n",
    "    \n",
    "    add_emb1 = tf.keras.layers.Concatenate()([sub_n1_do_3, sub_n2_do_3])\n",
    "    add_emb1 = tf.keras.layers.Dense(nunits[0], activation='relu')(add_emb1)\n",
    "    add_emb1 = tf.keras.layers.Dropout(dropout_rate)(add_emb1)\n",
    "    \n",
    "    # N2V EMBEDDINGS\n",
    "    n2v_dense1 = tf.keras.layers.Dense(nunits[0], activation='relu')\n",
    "    n2v_dropout1 = tf.keras.layers.Dropout(dropout_rate)\n",
    "    n2v_dense2 = tf.keras.layers.Dense(nunits[1], activation='relu')\n",
    "    n2v_dropout2 = tf.keras.layers.Dropout(dropout_rate)\n",
    "    n2v_dense3 = tf.keras.layers.Dense(nunits[2], activation='relu')\n",
    "    n2v_dropout3 = tf.keras.layers.Dropout(dropout_rate)\n",
    "    \n",
    "    sub_n1_1 = n2v_dense1(slice_n2v_n1)\n",
    "    sub_n1_do_1 = n2v_dropout1(sub_n1_1)\n",
    "    sub_n1_2 = n2v_dense2(sub_n1_do_1)\n",
    "    sub_n1_do_2 = n2v_dropout2(sub_n1_2)\n",
    "    sub_n1_3 = n2v_dense3(sub_n1_do_2)\n",
    "    sub_n1_do_3 = n2v_dropout3(sub_n1_3)\n",
    "    \n",
    "    sub_n2_1 = n2v_dense1(slice_n2v_n2)\n",
    "    sub_n2_do_1 = n2v_dropout1(sub_n2_1)\n",
    "    sub_n2_2 = n2v_dense2(sub_n2_do_1)\n",
    "    sub_n2_do_2 = n2v_dropout2(sub_n2_2)\n",
    "    sub_n2_3 = n2v_dense3(sub_n2_do_2)\n",
    "    sub_n2_do_3 = n2v_dropout3(sub_n2_3)\n",
    "    \n",
    "    add_n2v = tf.keras.layers.Concatenate()([sub_n1_do_3, sub_n2_do_3])\n",
    "    add_n2v = tf.keras.layers.Dense(nunits[0], activation='relu')(add_n2v)\n",
    "    add_n2v = tf.keras.layers.Dropout(dropout_rate)(add_n2v)\n",
    "    \n",
    "    # W2V EMBEDDINGS\n",
    "    n2v_dense1 = tf.keras.layers.Dense(nunits[0], activation='relu')\n",
    "    n2v_dropout1 = tf.keras.layers.Dropout(dropout_rate)\n",
    "    n2v_dense2 = tf.keras.layers.Dense(nunits[1], activation='relu')\n",
    "    n2v_dropout2 = tf.keras.layers.Dropout(dropout_rate)\n",
    "    n2v_dense3 = tf.keras.layers.Dense(1, activation='sigmoid')\n",
    "    n2v_dropout3 = tf.keras.layers.Dropout(dropout_rate)\n",
    "    \n",
    "    sub_n1_1 = n2v_dense1(slice_t_n1)\n",
    "    sub_n1_do_1 = n2v_dropout1(sub_n1_1)\n",
    "    sub_n1_2 = n2v_dense2(sub_n1_do_1)\n",
    "    sub_n1_do_2 = n2v_dropout2(sub_n1_2)\n",
    "    sub_n1_3 = n2v_dense3(sub_n1_do_2)\n",
    "    sub_n1_do_3 = n2v_dropout3(sub_n1_3)\n",
    "    \n",
    "    sub_n2_1 = n2v_dense1(slice_t_n2)\n",
    "    sub_n2_do_1 = n2v_dropout1(sub_n2_1)\n",
    "    sub_n2_2 = n2v_dense2(sub_n2_do_1)\n",
    "    sub_n2_do_2 = n2v_dropout2(sub_n2_2)\n",
    "    sub_n2_3 = n2v_dense3(sub_n2_do_2)\n",
    "    sub_n2_do_3 = n2v_dropout3(sub_n2_3)\n",
    "    \n",
    "    add_w2v = tf.keras.layers.Add()([sub_n1_do_3, sub_n2_do_3])\n",
    "    \n",
    "    sub_jc_1 = tf.keras.layers.Dense(8, activation='relu')(slice_jc)\n",
    "    sub_jc_2 = tf.keras.layers.Dense(8, activation='relu')(sub_jc_1)\n",
    "    sub_jc_3 = tf.keras.layers.Dense(8, activation='relu')(sub_jc_2)\n",
    "    \n",
    "#     sub_st_1 = tf.keras.layers.Dense(8, activation='relu')(slice_sim_text)\n",
    "#     sub_st_2 = tf.keras.layers.Dense(8, activation='relu')(sub_st_1)\n",
    "#     sub_st_3 = tf.keras.layers.Dense(8, activation='relu')(sub_st_2)\n",
    "    \n",
    "    concat = tf.keras.layers.Concatenate()([add_emb1, add_n2v, add_w2v, sub_jc_3])\n",
    "    \n",
    "    dense1 = tf.keras.layers.Dense(nunits[3], activation='relu')(concat)\n",
    "    dense1 = tf.keras.layers.Dropout(dropout_rate)(dense1)\n",
    "    dense2 = tf.keras.layers.Dense(nunits[4], activation='relu')(dense1)\n",
    "    dense2 = tf.keras.layers.Dropout(dropout_rate)(dense2)\n",
    "    dense3 = tf.keras.layers.Dense(nunits[5], activation='relu')(dense2)\n",
    "    dense3 = tf.keras.layers.Dropout(dropout_rate)(dense3)\n",
    "    \n",
    "    out = tf.keras.layers.Dense(1, activation='sigmoid')(dense3)\n",
    "    \n",
    "    model = tf.keras.Model(inputs=[inpt], outputs=[out])\n",
    "    return model\n",
    "\n",
    "model = vador_model()"
   ]
  },
  {
   "cell_type": "code",
   "execution_count": 84,
   "metadata": {},
   "outputs": [
    {
     "ename": "NameError",
     "evalue": "name 'model' is not defined",
     "output_type": "error",
     "traceback": [
      "\u001b[1;31m---------------------------------------------------------------------------\u001b[0m",
      "\u001b[1;31mNameError\u001b[0m                                 Traceback (most recent call last)",
      "\u001b[1;32m<ipython-input-84-5f15418b3570>\u001b[0m in \u001b[0;36m<module>\u001b[1;34m\u001b[0m\n\u001b[1;32m----> 1\u001b[1;33m \u001b[0mmodel\u001b[0m\u001b[1;33m.\u001b[0m\u001b[0msummary\u001b[0m\u001b[1;33m(\u001b[0m\u001b[1;33m)\u001b[0m\u001b[1;33m\u001b[0m\u001b[1;33m\u001b[0m\u001b[0m\n\u001b[0m",
      "\u001b[1;31mNameError\u001b[0m: name 'model' is not defined"
     ]
    }
   ],
   "source": [
    "model.summary()"
   ]
  },
  {
   "cell_type": "code",
   "execution_count": 85,
   "metadata": {},
   "outputs": [
    {
     "ename": "NameError",
     "evalue": "name 'model' is not defined",
     "output_type": "error",
     "traceback": [
      "\u001b[1;31m---------------------------------------------------------------------------\u001b[0m",
      "\u001b[1;31mNameError\u001b[0m                                 Traceback (most recent call last)",
      "\u001b[1;32m<ipython-input-85-058cedd21ceb>\u001b[0m in \u001b[0;36m<module>\u001b[1;34m\u001b[0m\n\u001b[1;32m----> 1\u001b[1;33m \u001b[0mtf\u001b[0m\u001b[1;33m.\u001b[0m\u001b[0mkeras\u001b[0m\u001b[1;33m.\u001b[0m\u001b[0mutils\u001b[0m\u001b[1;33m.\u001b[0m\u001b[0mplot_model\u001b[0m\u001b[1;33m(\u001b[0m\u001b[0mmodel\u001b[0m\u001b[1;33m,\u001b[0m \u001b[0mshow_shapes\u001b[0m\u001b[1;33m=\u001b[0m\u001b[1;32mTrue\u001b[0m\u001b[1;33m)\u001b[0m\u001b[1;33m\u001b[0m\u001b[1;33m\u001b[0m\u001b[0m\n\u001b[0m",
      "\u001b[1;31mNameError\u001b[0m: name 'model' is not defined"
     ]
    }
   ],
   "source": [
    "tf.keras.utils.plot_model(model, show_shapes=True)"
   ]
  },
  {
   "cell_type": "code",
   "execution_count": null,
   "metadata": {},
   "outputs": [],
   "source": [
    "lr = 0.001\n",
    "epochs = 10\n",
    "batch_size = 32"
   ]
  },
  {
   "cell_type": "code",
   "execution_count": null,
   "metadata": {},
   "outputs": [],
   "source": [
    "# opt = tf.keras.optimizers.RMSprop(lr=lr, rho=0.9)\n",
    "opt = tf.keras.optimizers.Adam(lr=lr)\n",
    "\n",
    "model.compile(optimizer=opt,\n",
    "              loss='binary_crossentropy',\n",
    "              metrics=['acc'])"
   ]
  },
  {
   "cell_type": "code",
   "execution_count": null,
   "metadata": {},
   "outputs": [],
   "source": [
    "def decay(epoch):\n",
    "    if epoch < 3:\n",
    "        return 1e-3\n",
    "    elif epoch >= 5 and epoch < 10:\n",
    "        return 1e-4\n",
    "    else:\n",
    "        return 1e-5"
   ]
  },
  {
   "cell_type": "code",
   "execution_count": null,
   "metadata": {},
   "outputs": [],
   "source": [
    "class PrintLR(tf.keras.callbacks.Callback):\n",
    "    def on_epoch_end(self, epoch, logs=None):\n",
    "        print('\\nLearning rate for epoch {} is {}'.format(epoch + 1,\n",
    "                                                      model.optimizer.lr.numpy()))"
   ]
  },
  {
   "cell_type": "code",
   "execution_count": null,
   "metadata": {},
   "outputs": [],
   "source": [
    "weights_filepath = \"weights.h5\"\n",
    "\n",
    "monitor = \"val_acc\" if prop_split > 0 else \"acc\"\n",
    "\n",
    "callbacks = [\n",
    "#     tf.keras.callbacks.TensorBoard(log_dir='./logs'),\n",
    "    tf.keras.callbacks.ModelCheckpoint(\n",
    "        filepath=weights_filepath,\n",
    "        monitor=monitor,\n",
    "        mode='max',\n",
    "        save_weights_only=True,\n",
    "        save_best_only=True,\n",
    "        verbose=1),\n",
    "    tf.keras.callbacks.LearningRateScheduler(decay),\n",
    "    PrintLR()\n",
    "]"
   ]
  },
  {
   "cell_type": "code",
   "execution_count": null,
   "metadata": {},
   "outputs": [],
   "source": [
    "if prop_split > 0:\n",
    "    hist = model.fit(\n",
    "        X_train,\n",
    "        y_train,\n",
    "        validation_data=(X_valid, y_valid),\n",
    "        batch_size=batch_size,\n",
    "        epochs=epochs,\n",
    "        callbacks=callbacks\n",
    "    )\n",
    "else:\n",
    "    hist = model.fit(\n",
    "        X_train,\n",
    "        y_train,\n",
    "        batch_size=batch_size,\n",
    "        epochs=epochs,\n",
    "        callbacks=callbacks\n",
    "    )"
   ]
  },
  {
   "cell_type": "code",
   "execution_count": null,
   "metadata": {},
   "outputs": [],
   "source": [
    "hist = hist.history"
   ]
  },
  {
   "cell_type": "code",
   "execution_count": null,
   "metadata": {},
   "outputs": [],
   "source": [
    "plt.plot(hist['loss'], label=\"train\")\n",
    "if prop_split > 0:\n",
    "    plt.plot(hist['val_loss'], label=\"valid\")\n",
    "plt.xlabel(\"Epochs\")\n",
    "plt.ylabel(\"Loss\")\n",
    "plt.legend()\n",
    "plt.show()"
   ]
  },
  {
   "cell_type": "code",
   "execution_count": null,
   "metadata": {},
   "outputs": [],
   "source": [
    "plt.plot(hist['acc'], label=\"train\")\n",
    "if prop_split > 0:\n",
    "    plt.plot(hist['val_acc'], label=\"valid\")\n",
    "plt.xlabel(\"Epochs\")\n",
    "plt.ylabel(\"Accuracy\")\n",
    "plt.legend()\n",
    "plt.show()"
   ]
  },
  {
   "cell_type": "code",
   "execution_count": null,
   "metadata": {},
   "outputs": [],
   "source": [
    "print(\"max train accuracy: \", np.max(hist['acc']))\n",
    "if prop_split > 0:\n",
    "    print(\"max valid accuracy: \", np.max(hist['val_acc']))"
   ]
  },
  {
   "cell_type": "markdown",
   "metadata": {},
   "source": [
    "### Prediction on train data¶"
   ]
  },
  {
   "cell_type": "code",
   "execution_count": null,
   "metadata": {},
   "outputs": [],
   "source": [
    "model.load_weights(weights_filepath)"
   ]
  },
  {
   "cell_type": "code",
   "execution_count": null,
   "metadata": {},
   "outputs": [],
   "source": [
    "y_pred_train = model.predict(X_train)\n",
    "y_pred_valid = model.predict(X_valid)"
   ]
  },
  {
   "cell_type": "code",
   "execution_count": null,
   "metadata": {},
   "outputs": [],
   "source": [
    "thresholds = np.linspace(0.3, 0.7, 30)\n",
    "accl_train = []\n",
    "accl_valid = []\n",
    "f1l_train = []\n",
    "f1l_valid = []\n",
    "for thresh in thresholds:\n",
    "    predictions = (y_pred_train >= thresh).astype(int).flatten()\n",
    "    acc = np.sum(predictions == y_train.flatten()) / len(predictions)\n",
    "    f1s = f1_score(predictions, y_train.flatten())\n",
    "    accl_train.append(acc)\n",
    "    f1l_train.append(f1s)\n",
    "    \n",
    "    predictions = (y_pred_valid >= thresh).astype(int).flatten()\n",
    "    acc = np.sum(predictions == y_valid.flatten()) / len(predictions)\n",
    "    f1s = f1_score(predictions, y_valid.flatten())\n",
    "    accl_valid.append(acc)\n",
    "    f1l_valid.append(f1s)\n",
    "\n",
    "plt.plot(thresholds, accl_train, \"b-\", label=\"train\")\n",
    "plt.plot(thresholds, accl_valid, \"r-\", label=\"valid\")\n",
    "plt.ylabel(\"Accuracy\")\n",
    "plt.xlabel(\"Thresholds\")\n",
    "plt.legend()\n",
    "plt.show()\n",
    "\n",
    "plt.plot(thresholds, f1l_train, \"b-\", label=\"train\")\n",
    "plt.plot(thresholds, f1l_valid, \"r-\", label=\"valid\")\n",
    "plt.ylabel(\"F1\")\n",
    "plt.xlabel(\"Thresholds\")\n",
    "plt.legend()\n",
    "plt.show()\n",
    "\n",
    "imax = np.argmax(f1l_valid)\n",
    "threshold = thresholds[imax]\n",
    "predictions = (y_pred_valid >= threshold).astype(int).flatten()\n",
    "f1s = f1_score(predictions, y_valid.flatten())\n",
    "\n",
    "print(f\"Best accuracy: {accl_valid[imax]} for threshold={threshold}\")\n",
    "print(f\"F1 score: {f1s}\")"
   ]
  },
  {
   "cell_type": "code",
   "execution_count": 86,
   "metadata": {},
   "outputs": [],
   "source": [
    "### Prediction on test data"
   ]
  },
  {
   "cell_type": "code",
   "execution_count": null,
   "metadata": {},
   "outputs": [],
   "source": [
    "Xt = []\n",
    "\n",
    "with open(\"testing.txt\", \"r\") as f:\n",
    "    for line in tqdm(f):\n",
    "        line = line.split()\n",
    "        n1, n2 = line[0], line[1]\n",
    "#         sim_text = similaIrity(text_emb[n1], text_emb[n2])\n",
    "#         Xt.append([*embedding[nid_to_index[n1]], G.degree[n1], *embedding[nid_to_index[n2]], G.degree[n2], get_jc(G, n1, n2)])\n",
    "        Xt.append([\n",
    "            *embedding[nid_to_index[n1]], DG.in_degree[n1], DG.out_degree[n1],\n",
    "            *node_emb[n1],\n",
    "            *embedding[nid_to_index[n2]], DG.in_degree[n2], DG.out_degree[n2],\n",
    "            *node_emb[n2],\n",
    "            get_jc(G, n1, n2),\n",
    "#             sim_text,\n",
    "            *text_emb[n1], \n",
    "            *text_emb[n2]])\n",
    "        \n",
    "Xt = np.array(Xt)"
   ]
  },
  {
   "cell_type": "code",
   "execution_count": null,
   "metadata": {},
   "outputs": [],
   "source": [
    "Xt = preprocessor.transform(Xt)"
   ]
  },
  {
   "cell_type": "code",
   "execution_count": null,
   "metadata": {},
   "outputs": [],
   "source": [
    "y_pred = model.predict(Xt)"
   ]
  },
  {
   "cell_type": "code",
   "execution_count": null,
   "metadata": {},
   "outputs": [],
   "source": [
    "predictions = (y_pred >= threshold).astype(int).flatten()\n",
    "acc = 0\n",
    "with open(\"testing.txt\", \"r\") as f:\n",
    "    for i, line in tqdm(enumerate(f)):\n",
    "        line = line.split()\n",
    "        n1, n2 = line[0], line[1]\n",
    "        if (G.degree(n1) == 0 or G.degree(n2) == 0) and predictions[i]:\n",
    "            predictions[i] == 0\n",
    "            acc += 1\n",
    "print(acc)"
   ]
  },
  {
   "cell_type": "code",
   "execution_count": null,
   "metadata": {},
   "outputs": [],
   "source": []
  },
  {
   "cell_type": "markdown",
   "metadata": {},
   "source": [
    "# G. SAVE PREDICTION FOR KAGGLE"
   ]
  },
  {
   "cell_type": "code",
   "execution_count": 239,
   "metadata": {},
   "outputs": [],
   "source": [
    "y_pred = rf.predict(Xt)\n",
    "y_pred[y_pred>0.5]=1\n",
    "y_pred[y_pred<=0.5]=0"
   ]
  },
  {
   "cell_type": "code",
   "execution_count": 240,
   "metadata": {},
   "outputs": [
    {
     "name": "stdout",
     "output_type": "stream",
     "text": [
      "(113450,)\n",
      "[1. 1. 0. 0. 1. 1. 0. 0. 0. 1. 0. 0. 1. 1. 0. 0. 1. 0. 1. 1. 0. 1. 0. 1.\n",
      " 1. 1. 0. 1. 1. 1. 1. 0. 0. 1. 0. 1. 0. 0. 0. 1. 0. 0. 1. 0. 1. 0. 0. 0.\n",
      " 1. 0. 1. 0. 1. 1. 0. 1. 1. 0. 1. 0. 1. 0. 1. 0. 0. 1. 0. 1. 0. 0. 0. 1.\n",
      " 1. 1. 1. 0. 1. 1. 0. 1. 0. 1. 1. 0. 1. 0. 1. 0. 0. 0. 1. 0. 1. 0. 1. 1.\n",
      " 1. 1. 0. 0.]\n"
     ]
    }
   ],
   "source": [
    "print(y_pred.shape)\n",
    "print(y_pred[0:100])"
   ]
  },
  {
   "cell_type": "code",
   "execution_count": 241,
   "metadata": {},
   "outputs": [],
   "source": [
    "def save_predictions(y, filename):\n",
    "    \"\"\"\n",
    "    Save predictions y (0, 1 values) to a csv\n",
    "    \"\"\"\n",
    "    predictions = zip(range(len(y)), y)\n",
    "    # Write the output in the format required by Kaggle\n",
    "    with open(filename,'w') as pred:\n",
    "        csv_out = csv.writer(pred)\n",
    "        csv_out.writerow(['id','predicted'])\n",
    "        for row in predictions:\n",
    "            csv_out.writerow(row) \n",
    "    print('Saved predictions to', filename)"
   ]
  },
  {
   "cell_type": "code",
   "execution_count": 242,
   "metadata": {},
   "outputs": [
    {
     "name": "stdout",
     "output_type": "stream",
     "text": [
      "Saved predictions to out.csv\n"
     ]
    }
   ],
   "source": [
    "threshold = 0.5\n",
    "predictions = (y_pred >= threshold).astype(int).flatten()\n",
    "save_predictions(predictions, 'out.csv')"
   ]
  },
  {
   "cell_type": "code",
   "execution_count": 243,
   "metadata": {},
   "outputs": [
    {
     "data": {
      "text/plain": [
       "(113450,)"
      ]
     },
     "execution_count": 243,
     "metadata": {},
     "output_type": "execute_result"
    }
   ],
   "source": [
    "y_pred.shape"
   ]
  },
  {
   "cell_type": "code",
   "execution_count": null,
   "metadata": {},
   "outputs": [],
   "source": []
  }
 ],
 "metadata": {
  "celltoolbar": "Raw Cell Format",
  "kernelspec": {
   "display_name": "Python 3",
   "language": "python",
   "name": "python3"
  },
  "language_info": {
   "codemirror_mode": {
    "name": "ipython",
    "version": 3
   },
   "file_extension": ".py",
   "mimetype": "text/x-python",
   "name": "python",
   "nbconvert_exporter": "python",
   "pygments_lexer": "ipython3",
   "version": "3.7.4"
  }
 },
 "nbformat": 4,
 "nbformat_minor": 4
}
